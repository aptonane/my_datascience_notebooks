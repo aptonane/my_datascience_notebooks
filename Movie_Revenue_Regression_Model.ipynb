{
 "cells": [
  {
   "cell_type": "markdown",
   "metadata": {},
   "source": [
    "# Movie Revenue Prediction"
   ]
  },
  {
   "cell_type": "markdown",
   "metadata": {},
   "source": [
    "### What's the best model: Linear, Polynomial, Ridge, Lasso regression. "
   ]
  },
  {
   "cell_type": "markdown",
   "metadata": {},
   "source": [
    "### Goal: Select best features and get the smallest rMSE and greatest r2"
   ]
  },
  {
   "cell_type": "code",
   "execution_count": 4,
   "metadata": {},
   "outputs": [],
   "source": [
    "#First round of imports\n",
    "import pandas as pd\n",
    "import numpy as np\n",
    "import matplotlib.pyplot as plt\n",
    "%matplotlib inline\n",
    "from sklearn import metrics\n",
    "import statsmodels.formula.api as smf\n",
    "from sklearn.cross_validation import train_test_split, cross_val_score\n",
    "from sklearn.linear_model import LinearRegression, Ridge, Lasso\n",
    "from sklearn.preprocessing import PolynomialFeatures\n",
    "from sklearn.pipeline import make_pipeline\n",
    "from sklearn.metrics import mean_absolute_error, mean_squared_error, r2_score\n",
    "from sklearn.preprocessing import StandardScaler\n",
    "import warnings\n",
    "warnings.filterwarnings(\"ignore\")"
   ]
  },
  {
   "cell_type": "code",
   "execution_count": 5,
   "metadata": {},
   "outputs": [
    {
     "data": {
      "text/html": [
       "<div>\n",
       "<style>\n",
       "    .dataframe thead tr:only-child th {\n",
       "        text-align: right;\n",
       "    }\n",
       "\n",
       "    .dataframe thead th {\n",
       "        text-align: left;\n",
       "    }\n",
       "\n",
       "    .dataframe tbody tr th {\n",
       "        vertical-align: top;\n",
       "    }\n",
       "</style>\n",
       "<table border=\"1\" class=\"dataframe\">\n",
       "  <thead>\n",
       "    <tr style=\"text-align: right;\">\n",
       "      <th></th>\n",
       "      <th>color</th>\n",
       "      <th>director_name</th>\n",
       "      <th>num_critic_for_reviews</th>\n",
       "      <th>duration</th>\n",
       "      <th>director_facebook_likes</th>\n",
       "      <th>actor_3_facebook_likes</th>\n",
       "      <th>actor_2_name</th>\n",
       "      <th>actor_1_facebook_likes</th>\n",
       "      <th>gross</th>\n",
       "      <th>genres</th>\n",
       "      <th>...</th>\n",
       "      <th>num_user_for_reviews</th>\n",
       "      <th>language</th>\n",
       "      <th>country</th>\n",
       "      <th>content_rating</th>\n",
       "      <th>budget</th>\n",
       "      <th>title_year</th>\n",
       "      <th>actor_2_facebook_likes</th>\n",
       "      <th>imdb_score</th>\n",
       "      <th>aspect_ratio</th>\n",
       "      <th>movie_facebook_likes</th>\n",
       "    </tr>\n",
       "  </thead>\n",
       "  <tbody>\n",
       "    <tr>\n",
       "      <th>0</th>\n",
       "      <td>Color</td>\n",
       "      <td>James Cameron</td>\n",
       "      <td>723.0</td>\n",
       "      <td>178.0</td>\n",
       "      <td>0.0</td>\n",
       "      <td>855.0</td>\n",
       "      <td>Joel David Moore</td>\n",
       "      <td>1000.0</td>\n",
       "      <td>760505847.0</td>\n",
       "      <td>Action|Adventure|Fantasy|Sci-Fi</td>\n",
       "      <td>...</td>\n",
       "      <td>3054.0</td>\n",
       "      <td>English</td>\n",
       "      <td>USA</td>\n",
       "      <td>PG-13</td>\n",
       "      <td>237000000.0</td>\n",
       "      <td>2009.0</td>\n",
       "      <td>936.0</td>\n",
       "      <td>7.9</td>\n",
       "      <td>1.78</td>\n",
       "      <td>33000</td>\n",
       "    </tr>\n",
       "    <tr>\n",
       "      <th>1</th>\n",
       "      <td>Color</td>\n",
       "      <td>Gore Verbinski</td>\n",
       "      <td>302.0</td>\n",
       "      <td>169.0</td>\n",
       "      <td>563.0</td>\n",
       "      <td>1000.0</td>\n",
       "      <td>Orlando Bloom</td>\n",
       "      <td>40000.0</td>\n",
       "      <td>309404152.0</td>\n",
       "      <td>Action|Adventure|Fantasy</td>\n",
       "      <td>...</td>\n",
       "      <td>1238.0</td>\n",
       "      <td>English</td>\n",
       "      <td>USA</td>\n",
       "      <td>PG-13</td>\n",
       "      <td>300000000.0</td>\n",
       "      <td>2007.0</td>\n",
       "      <td>5000.0</td>\n",
       "      <td>7.1</td>\n",
       "      <td>2.35</td>\n",
       "      <td>0</td>\n",
       "    </tr>\n",
       "    <tr>\n",
       "      <th>2</th>\n",
       "      <td>Color</td>\n",
       "      <td>Sam Mendes</td>\n",
       "      <td>602.0</td>\n",
       "      <td>148.0</td>\n",
       "      <td>0.0</td>\n",
       "      <td>161.0</td>\n",
       "      <td>Rory Kinnear</td>\n",
       "      <td>11000.0</td>\n",
       "      <td>200074175.0</td>\n",
       "      <td>Action|Adventure|Thriller</td>\n",
       "      <td>...</td>\n",
       "      <td>994.0</td>\n",
       "      <td>English</td>\n",
       "      <td>UK</td>\n",
       "      <td>PG-13</td>\n",
       "      <td>245000000.0</td>\n",
       "      <td>2015.0</td>\n",
       "      <td>393.0</td>\n",
       "      <td>6.8</td>\n",
       "      <td>2.35</td>\n",
       "      <td>85000</td>\n",
       "    </tr>\n",
       "    <tr>\n",
       "      <th>3</th>\n",
       "      <td>Color</td>\n",
       "      <td>Christopher Nolan</td>\n",
       "      <td>813.0</td>\n",
       "      <td>164.0</td>\n",
       "      <td>22000.0</td>\n",
       "      <td>23000.0</td>\n",
       "      <td>Christian Bale</td>\n",
       "      <td>27000.0</td>\n",
       "      <td>448130642.0</td>\n",
       "      <td>Action|Thriller</td>\n",
       "      <td>...</td>\n",
       "      <td>2701.0</td>\n",
       "      <td>English</td>\n",
       "      <td>USA</td>\n",
       "      <td>PG-13</td>\n",
       "      <td>250000000.0</td>\n",
       "      <td>2012.0</td>\n",
       "      <td>23000.0</td>\n",
       "      <td>8.5</td>\n",
       "      <td>2.35</td>\n",
       "      <td>164000</td>\n",
       "    </tr>\n",
       "    <tr>\n",
       "      <th>4</th>\n",
       "      <td>NaN</td>\n",
       "      <td>Doug Walker</td>\n",
       "      <td>NaN</td>\n",
       "      <td>NaN</td>\n",
       "      <td>131.0</td>\n",
       "      <td>NaN</td>\n",
       "      <td>Rob Walker</td>\n",
       "      <td>131.0</td>\n",
       "      <td>NaN</td>\n",
       "      <td>Documentary</td>\n",
       "      <td>...</td>\n",
       "      <td>NaN</td>\n",
       "      <td>NaN</td>\n",
       "      <td>NaN</td>\n",
       "      <td>NaN</td>\n",
       "      <td>NaN</td>\n",
       "      <td>NaN</td>\n",
       "      <td>12.0</td>\n",
       "      <td>7.1</td>\n",
       "      <td>NaN</td>\n",
       "      <td>0</td>\n",
       "    </tr>\n",
       "  </tbody>\n",
       "</table>\n",
       "<p>5 rows × 28 columns</p>\n",
       "</div>"
      ],
      "text/plain": [
       "   color      director_name  num_critic_for_reviews  duration  \\\n",
       "0  Color      James Cameron                   723.0     178.0   \n",
       "1  Color     Gore Verbinski                   302.0     169.0   \n",
       "2  Color         Sam Mendes                   602.0     148.0   \n",
       "3  Color  Christopher Nolan                   813.0     164.0   \n",
       "4    NaN        Doug Walker                     NaN       NaN   \n",
       "\n",
       "   director_facebook_likes  actor_3_facebook_likes      actor_2_name  \\\n",
       "0                      0.0                   855.0  Joel David Moore   \n",
       "1                    563.0                  1000.0     Orlando Bloom   \n",
       "2                      0.0                   161.0      Rory Kinnear   \n",
       "3                  22000.0                 23000.0    Christian Bale   \n",
       "4                    131.0                     NaN        Rob Walker   \n",
       "\n",
       "   actor_1_facebook_likes        gross                           genres  \\\n",
       "0                  1000.0  760505847.0  Action|Adventure|Fantasy|Sci-Fi   \n",
       "1                 40000.0  309404152.0         Action|Adventure|Fantasy   \n",
       "2                 11000.0  200074175.0        Action|Adventure|Thriller   \n",
       "3                 27000.0  448130642.0                  Action|Thriller   \n",
       "4                   131.0          NaN                      Documentary   \n",
       "\n",
       "          ...          num_user_for_reviews language  country  content_rating  \\\n",
       "0         ...                        3054.0  English      USA           PG-13   \n",
       "1         ...                        1238.0  English      USA           PG-13   \n",
       "2         ...                         994.0  English       UK           PG-13   \n",
       "3         ...                        2701.0  English      USA           PG-13   \n",
       "4         ...                           NaN      NaN      NaN             NaN   \n",
       "\n",
       "        budget  title_year actor_2_facebook_likes imdb_score  aspect_ratio  \\\n",
       "0  237000000.0      2009.0                  936.0        7.9          1.78   \n",
       "1  300000000.0      2007.0                 5000.0        7.1          2.35   \n",
       "2  245000000.0      2015.0                  393.0        6.8          2.35   \n",
       "3  250000000.0      2012.0                23000.0        8.5          2.35   \n",
       "4          NaN         NaN                   12.0        7.1           NaN   \n",
       "\n",
       "  movie_facebook_likes  \n",
       "0                33000  \n",
       "1                    0  \n",
       "2                85000  \n",
       "3               164000  \n",
       "4                    0  \n",
       "\n",
       "[5 rows x 28 columns]"
      ]
     },
     "execution_count": 5,
     "metadata": {},
     "output_type": "execute_result"
    }
   ],
   "source": [
    "dt = pd.read_csv(\"movie_metadata.csv\")\n",
    "dt.head()"
   ]
  },
  {
   "cell_type": "code",
   "execution_count": 6,
   "metadata": {},
   "outputs": [
    {
     "data": {
      "text/plain": [
       "color                         19\n",
       "director_name                104\n",
       "num_critic_for_reviews        50\n",
       "duration                      15\n",
       "director_facebook_likes      104\n",
       "actor_3_facebook_likes        23\n",
       "actor_2_name                  13\n",
       "actor_1_facebook_likes         7\n",
       "gross                        884\n",
       "genres                         0\n",
       "actor_1_name                   7\n",
       "movie_title                    0\n",
       "num_voted_users                0\n",
       "cast_total_facebook_likes      0\n",
       "actor_3_name                  23\n",
       "facenumber_in_poster          13\n",
       "plot_keywords                153\n",
       "movie_imdb_link                0\n",
       "num_user_for_reviews          21\n",
       "language                      12\n",
       "country                        5\n",
       "content_rating               303\n",
       "budget                       492\n",
       "title_year                   108\n",
       "actor_2_facebook_likes        13\n",
       "imdb_score                     0\n",
       "aspect_ratio                 329\n",
       "movie_facebook_likes           0\n",
       "dtype: int64"
      ]
     },
     "execution_count": 6,
     "metadata": {},
     "output_type": "execute_result"
    }
   ],
   "source": [
    "dt.isnull().sum()"
   ]
  },
  {
   "cell_type": "code",
   "execution_count": 7,
   "metadata": {},
   "outputs": [
    {
     "data": {
      "text/plain": [
       "(5043, 28)"
      ]
     },
     "execution_count": 7,
     "metadata": {},
     "output_type": "execute_result"
    }
   ],
   "source": [
    "dt.shape"
   ]
  },
  {
   "cell_type": "code",
   "execution_count": 8,
   "metadata": {
    "collapsed": true
   },
   "outputs": [],
   "source": [
    "dt.dropna(how=\"any\", inplace = True)"
   ]
  },
  {
   "cell_type": "code",
   "execution_count": 9,
   "metadata": {},
   "outputs": [
    {
     "data": {
      "text/plain": [
       "color                        0\n",
       "director_name                0\n",
       "num_critic_for_reviews       0\n",
       "duration                     0\n",
       "director_facebook_likes      0\n",
       "actor_3_facebook_likes       0\n",
       "actor_2_name                 0\n",
       "actor_1_facebook_likes       0\n",
       "gross                        0\n",
       "genres                       0\n",
       "actor_1_name                 0\n",
       "movie_title                  0\n",
       "num_voted_users              0\n",
       "cast_total_facebook_likes    0\n",
       "actor_3_name                 0\n",
       "facenumber_in_poster         0\n",
       "plot_keywords                0\n",
       "movie_imdb_link              0\n",
       "num_user_for_reviews         0\n",
       "language                     0\n",
       "country                      0\n",
       "content_rating               0\n",
       "budget                       0\n",
       "title_year                   0\n",
       "actor_2_facebook_likes       0\n",
       "imdb_score                   0\n",
       "aspect_ratio                 0\n",
       "movie_facebook_likes         0\n",
       "dtype: int64"
      ]
     },
     "execution_count": 9,
     "metadata": {},
     "output_type": "execute_result"
    }
   ],
   "source": [
    "dt.isnull().sum()"
   ]
  },
  {
   "cell_type": "code",
   "execution_count": 10,
   "metadata": {},
   "outputs": [
    {
     "data": {
      "text/plain": [
       "(3756, 28)"
      ]
     },
     "execution_count": 10,
     "metadata": {},
     "output_type": "execute_result"
    }
   ],
   "source": [
    "dt.shape"
   ]
  },
  {
   "cell_type": "code",
   "execution_count": 11,
   "metadata": {},
   "outputs": [
    {
     "name": "stdout",
     "output_type": "stream",
     "text": [
      "<class 'pandas.core.frame.DataFrame'>\n",
      "Int64Index: 3756 entries, 0 to 5042\n",
      "Data columns (total 28 columns):\n",
      "color                        3756 non-null object\n",
      "director_name                3756 non-null object\n",
      "num_critic_for_reviews       3756 non-null float64\n",
      "duration                     3756 non-null float64\n",
      "director_facebook_likes      3756 non-null float64\n",
      "actor_3_facebook_likes       3756 non-null float64\n",
      "actor_2_name                 3756 non-null object\n",
      "actor_1_facebook_likes       3756 non-null float64\n",
      "gross                        3756 non-null float64\n",
      "genres                       3756 non-null object\n",
      "actor_1_name                 3756 non-null object\n",
      "movie_title                  3756 non-null object\n",
      "num_voted_users              3756 non-null int64\n",
      "cast_total_facebook_likes    3756 non-null int64\n",
      "actor_3_name                 3756 non-null object\n",
      "facenumber_in_poster         3756 non-null float64\n",
      "plot_keywords                3756 non-null object\n",
      "movie_imdb_link              3756 non-null object\n",
      "num_user_for_reviews         3756 non-null float64\n",
      "language                     3756 non-null object\n",
      "country                      3756 non-null object\n",
      "content_rating               3756 non-null object\n",
      "budget                       3756 non-null float64\n",
      "title_year                   3756 non-null float64\n",
      "actor_2_facebook_likes       3756 non-null float64\n",
      "imdb_score                   3756 non-null float64\n",
      "aspect_ratio                 3756 non-null float64\n",
      "movie_facebook_likes         3756 non-null int64\n",
      "dtypes: float64(13), int64(3), object(12)\n",
      "memory usage: 851.0+ KB\n"
     ]
    }
   ],
   "source": [
    "dt.info()"
   ]
  },
  {
   "cell_type": "code",
   "execution_count": 12,
   "metadata": {
    "collapsed": true
   },
   "outputs": [],
   "source": [
    "dr =['color','director_name','genres','actor_2_name', 'actor_1_name','actor_3_name','movie_title', 'plot_keywords', \n",
    "     'movie_imdb_link','language','country', 'content_rating']"
   ]
  },
  {
   "cell_type": "code",
   "execution_count": 13,
   "metadata": {
    "collapsed": true
   },
   "outputs": [],
   "source": [
    "dt.drop(dr, axis = 1, inplace = True)"
   ]
  },
  {
   "cell_type": "code",
   "execution_count": 14,
   "metadata": {},
   "outputs": [
    {
     "data": {
      "text/plain": [
       "(3756, 16)"
      ]
     },
     "execution_count": 14,
     "metadata": {},
     "output_type": "execute_result"
    }
   ],
   "source": [
    "dt.shape"
   ]
  },
  {
   "cell_type": "code",
   "execution_count": 15,
   "metadata": {},
   "outputs": [
    {
     "name": "stdout",
     "output_type": "stream",
     "text": [
      "<class 'pandas.core.frame.DataFrame'>\n",
      "Int64Index: 3756 entries, 0 to 5042\n",
      "Data columns (total 16 columns):\n",
      "num_critic_for_reviews       3756 non-null float64\n",
      "duration                     3756 non-null float64\n",
      "director_facebook_likes      3756 non-null float64\n",
      "actor_3_facebook_likes       3756 non-null float64\n",
      "actor_1_facebook_likes       3756 non-null float64\n",
      "gross                        3756 non-null float64\n",
      "num_voted_users              3756 non-null int64\n",
      "cast_total_facebook_likes    3756 non-null int64\n",
      "facenumber_in_poster         3756 non-null float64\n",
      "num_user_for_reviews         3756 non-null float64\n",
      "budget                       3756 non-null float64\n",
      "title_year                   3756 non-null float64\n",
      "actor_2_facebook_likes       3756 non-null float64\n",
      "imdb_score                   3756 non-null float64\n",
      "aspect_ratio                 3756 non-null float64\n",
      "movie_facebook_likes         3756 non-null int64\n",
      "dtypes: float64(13), int64(3)\n",
      "memory usage: 498.8 KB\n"
     ]
    }
   ],
   "source": [
    "dt.info()"
   ]
  },
  {
   "cell_type": "code",
   "execution_count": null,
   "metadata": {
    "collapsed": true
   },
   "outputs": [],
   "source": []
  },
  {
   "cell_type": "code",
   "execution_count": 16,
   "metadata": {
    "collapsed": true
   },
   "outputs": [],
   "source": [
    "lista = [elem for elem in dt.columns if elem != 'gross']\n",
    "feature_cols = lista\n",
    "\n",
    "X = dt[feature_cols]\n",
    "ss = StandardScaler()\n",
    "Xs = ss.fit_transform(X)\n",
    "\n",
    "y = dt.gross"
   ]
  },
  {
   "cell_type": "code",
   "execution_count": 17,
   "metadata": {},
   "outputs": [
    {
     "name": "stdout",
     "output_type": "stream",
     "text": [
      "0.721896385721\n",
      "Polynomial rMSE : 171664817.803\n",
      "0.470727337733\n",
      "Linear rMSE : 56241732.3608\n",
      "0.470650269305\n",
      "Ridge rMSE : 56302594.2543\n",
      "0.470710765573\n",
      "Lasso rMSE : 56289009.8856\n"
     ]
    }
   ],
   "source": [
    "# Polynomial Regression\n",
    "\n",
    "pipe = make_pipeline(PolynomialFeatures(degree=2), LinearRegression())\n",
    "pipe.fit(Xs, y)\n",
    "preds = pipe.predict(Xs)\n",
    "print r2_score(y, preds)\n",
    "scores = cross_val_score(pipe, Xs,y,cv=5, scoring='mean_squared_error')\n",
    "print 'Polynomial rMSE :',  np.sqrt(abs(scores)).mean()\n",
    "\n",
    "\n",
    "#Linear\n",
    "lr = LinearRegression()\n",
    "lr.fit(Xs, y)\n",
    "preds = lr.predict(Xs)\n",
    "print r2_score(y, preds)\n",
    "scores = cross_val_score(lr, Xs,y,cv=5, scoring='mean_squared_error')\n",
    "print 'Linear rMSE :',  np.sqrt(abs(scores)).mean()\n",
    "\n",
    "#Ridge\n",
    "ridge = Ridge(alpha=0.4)\n",
    "ridge.fit(Xs, y)\n",
    "preds = ridge.predict(Xs)\n",
    "print r2_score(y, preds)\n",
    "scores = cross_val_score(ridge, Xs,y,cv=5, scoring='mean_squared_error')\n",
    "print 'Ridge rMSE :',  np.sqrt(abs(scores)).mean()\n",
    "       \n",
    "#Lasso\n",
    "lasso = Lasso(alpha=0.4)\n",
    "lasso.fit(Xs, y)\n",
    "preds = lasso.predict(Xs)\n",
    "print r2_score(y, preds)\n",
    "scores = cross_val_score(lasso, Xs,y,cv=5, scoring='mean_squared_error')\n",
    "print 'Lasso rMSE :',  np.sqrt(abs(scores)).mean()"
   ]
  },
  {
   "cell_type": "markdown",
   "metadata": {},
   "source": [
    "#### Selecting Features"
   ]
  },
  {
   "cell_type": "code",
   "execution_count": 18,
   "metadata": {},
   "outputs": [
    {
     "data": {
      "text/plain": [
       "array([  1.18152011e+07,   2.84393892e+06,  -3.97654198e+06,\n",
       "        -2.16289721e+07,  -1.59756045e+08,   3.47167800e+07,\n",
       "         1.96404618e+08,  -1.87862479e+06,   4.74067629e+06,\n",
       "         2.95046605e+06,  -3.59678710e+06,  -4.44742638e+07,\n",
       "        -7.64082931e+06,  -6.91208328e+05,  -2.36365861e+06])"
      ]
     },
     "execution_count": 18,
     "metadata": {},
     "output_type": "execute_result"
    }
   ],
   "source": [
    "coef = lasso.coef_\n",
    "coef"
   ]
  },
  {
   "cell_type": "code",
   "execution_count": 19,
   "metadata": {},
   "outputs": [
    {
     "data": {
      "text/plain": [
       "[('num_voted_users', 196404617.76095155),\n",
       " ('actor_1_facebook_likes', -159756045.37294361),\n",
       " ('title_year', -44474263.787847109),\n",
       " ('gross', 34716779.961256228),\n",
       " ('actor_3_facebook_likes', -21628972.14421089),\n",
       " ('num_critic_for_reviews', 11815201.090267843),\n",
       " ('actor_2_facebook_likes', -7640829.3135258071),\n",
       " ('facenumber_in_poster', 4740676.2883446999),\n",
       " ('director_facebook_likes', -3976541.9761272506),\n",
       " ('budget', -3596787.0982643422),\n",
       " ('num_user_for_reviews', 2950466.0481312717),\n",
       " ('duration', 2843938.9205829548),\n",
       " ('aspect_ratio', -2363658.61497417),\n",
       " ('cast_total_facebook_likes', -1878624.7887219372),\n",
       " ('imdb_score', -691208.32761315221)]"
      ]
     },
     "execution_count": 19,
     "metadata": {},
     "output_type": "execute_result"
    }
   ],
   "source": [
    "sorted(dict(zip(dt.columns, coef)).items(), key = lambda x:abs(x[1]), reverse = True)"
   ]
  },
  {
   "cell_type": "code",
   "execution_count": 20,
   "metadata": {
    "collapsed": true
   },
   "outputs": [],
   "source": [
    "lista2 = [elem for elem in dt.columns \n",
    "         if  elem != 'gross' and\n",
    "             elem != 'imdb_score' and\n",
    "             elem != 'cast_total_facebook_likes' and\n",
    "             elem != 'aspect_ratio' and\n",
    "             elem != 'duration' and\n",
    "             elem != 'num_user_for_reviews' and\n",
    "             elem != 'budget' and\n",
    "             elem != 'director_facebook_likes' and\n",
    "             elem != 'facenumber_in_poster' and\n",
    "             elem != 'actor_2_facebook_likes' #and\n",
    "             #elem != 'num_critic_for_reviews' and\n",
    "             #elem != 'actor_3_facebook_likes' and\n",
    "             #elem != 'title_year' and\n",
    "             #elem != 'actor_1_facebook_likes'\n",
    "                                            ]\n",
    "         \n",
    "feature_cols = lista2\n",
    "\n",
    "X = dt[feature_cols]\n",
    "ss = StandardScaler()\n",
    "Xs = ss.fit_transform(X)\n",
    "\n",
    "y = dt.gross"
   ]
  },
  {
   "cell_type": "code",
   "execution_count": 23,
   "metadata": {},
   "outputs": [
    {
     "data": {
      "text/plain": [
       "['num_critic_for_reviews',\n",
       " 'actor_3_facebook_likes',\n",
       " 'actor_1_facebook_likes',\n",
       " 'num_voted_users',\n",
       " 'title_year',\n",
       " 'movie_facebook_likes']"
      ]
     },
     "execution_count": 23,
     "metadata": {},
     "output_type": "execute_result"
    }
   ],
   "source": [
    "lista2"
   ]
  },
  {
   "cell_type": "code",
   "execution_count": 21,
   "metadata": {},
   "outputs": [
    {
     "data": {
      "text/plain": [
       "(3756, 6)"
      ]
     },
     "execution_count": 21,
     "metadata": {},
     "output_type": "execute_result"
    }
   ],
   "source": [
    "X.shape"
   ]
  },
  {
   "cell_type": "code",
   "execution_count": 22,
   "metadata": {},
   "outputs": [
    {
     "name": "stdout",
     "output_type": "stream",
     "text": [
      "0.519227170532\n",
      "Polynomial rMSE : 53361792.2418\n",
      "0.421565261508\n",
      "Linear rMSE : 55530561.7827\n",
      "0.421565256797\n",
      "Ridge rMSE : 55530690.125\n",
      "0.421565261508\n",
      "Lasso rMSE : 55530561.7503\n"
     ]
    }
   ],
   "source": [
    "# Polynomial Regression\n",
    "\n",
    "pipe = make_pipeline(PolynomialFeatures(degree=2), LinearRegression())\n",
    "pipe.fit(Xs, y)\n",
    "preds = pipe.predict(Xs)\n",
    "print r2_score(y, preds)\n",
    "scores = cross_val_score(pipe, Xs,y,cv=5, scoring='mean_squared_error')\n",
    "print 'Polynomial rMSE :',  np.sqrt(abs(scores)).mean()\n",
    "\n",
    "\n",
    "#Linear\n",
    "lr = LinearRegression()\n",
    "lr.fit(Xs, y)\n",
    "preds = lr.predict(Xs)\n",
    "print r2_score(y, preds)\n",
    "scores = cross_val_score(lr, Xs,y,cv=5, scoring='mean_squared_error')\n",
    "print 'Linear rMSE :',  np.sqrt(abs(scores)).mean()\n",
    "\n",
    "#Ridge\n",
    "ridge = Ridge(alpha=0.4)\n",
    "ridge.fit(Xs, y)\n",
    "preds = ridge.predict(Xs)\n",
    "print r2_score(y, preds)\n",
    "scores = cross_val_score(ridge, Xs,y,cv=5, scoring='mean_squared_error')\n",
    "print 'Ridge rMSE :',  np.sqrt(abs(scores)).mean()\n",
    "       \n",
    "#Lasso\n",
    "lasso = Lasso(alpha=0.4)\n",
    "lasso.fit(Xs, y)\n",
    "preds = lasso.predict(Xs)\n",
    "print r2_score(y, preds)\n",
    "scores = cross_val_score(lasso, Xs,y,cv=5, scoring='mean_squared_error')\n",
    "print 'Lasso rMSE :',  np.sqrt(abs(scores)).mean()"
   ]
  },
  {
   "cell_type": "markdown",
   "metadata": {},
   "source": [
    "### Conclusion: the best model is Polynomial: with 6 features I got the smallest rMSE and greatest r2!"
   ]
  },
  {
   "cell_type": "code",
   "execution_count": null,
   "metadata": {
    "collapsed": true
   },
   "outputs": [],
   "source": []
  }
 ],
 "metadata": {
  "kernelspec": {
   "display_name": "Python 2",
   "language": "python",
   "name": "python2"
  },
  "language_info": {
   "codemirror_mode": {
    "name": "ipython",
    "version": 2
   },
   "file_extension": ".py",
   "mimetype": "text/x-python",
   "name": "python",
   "nbconvert_exporter": "python",
   "pygments_lexer": "ipython2",
   "version": "2.7.14"
  }
 },
 "nbformat": 4,
 "nbformat_minor": 2
}
