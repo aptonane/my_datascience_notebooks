{
 "cells": [
  {
   "cell_type": "markdown",
   "metadata": {},
   "source": [
    "# Lending Club Unbalanced Dataset : Resampling Techniques"
   ]
  },
  {
   "cell_type": "markdown",
   "metadata": {},
   "source": [
    "I am using in this notebook the publicly available dataset of Lending Club (2007 to 2015 file from Kaggle). It's a real world data set with a nice mix of categorical and continuous variables.(https://www.kaggle.com/wendykan/lending-club-loan-data/downloads/loan.csv) \n",
    "\n",
    "In this dataset there is a classification problem that is data imbalance between classes (Good Loans: 97.35% and Bad Loans: 2.65%) in target variable.  In the other words, the class 1 (bad loans) has significantly lower representation in the trainning data relative to class 0 (good loans). **The performance in minority class is that I care about in this work.**\n",
    "\n",
    "### Objectives:\n",
    "It is desired to have a high recall on the minority class (1) while maintaining a high precision on the majority class (0):\n",
    "**Precison on 0** -> is the ratio tn / (tn + fn) where tn is the number of true negatives and fn the number of false negatives. It is intuitively the ability of the classifier not to label as bad loan (1) a value that is good loan (0). <br> \n",
    "**Recall on 1** -> is the ratio tp / (tp + fn) where tp is the number of true positives and fn the number of false negatives. It is intuitively the ability of the classifier to find all the positive values (bad loans \"1\"). \n",
    "\n",
    "In this notebook, I will show a number of resampling techniques to handle unbalanced datasets and see their effect on classification performance.\n",
    "\n",
    "For this problem I chose a classifier Random Forest that showed a good performance on the minority class. \n",
    "We will compare various techniques with respect to their effect on the recall on the minority class (1) and the precision on the majority class \"0\".\n",
    "\n",
    "Since different methods of resampling work different in different data distribution, classifiers and objectives, I am going to compare modified dataset and analyse the results.\n",
    "\n",
    "\n",
    "credit: https://www.google.com/url?sa=t&rct=j&q=&esrc=s&source=video&cd=1&cad=rja&uact=8&ved=0ahUKEwiEx_icppXZAhWHrFQKHQ4fDT0QtwIIKjAA&url=https%3A%2F%2Fwww.youtube.com%2Fwatch%3Fv%3D-Z1PaqYKC1w&usg=AOvVaw30WRonWtQ9z2XAqeAYEisX"
   ]
  },
  {
   "cell_type": "markdown",
   "metadata": {},
   "source": [
    "### Libraries"
   ]
  },
  {
   "cell_type": "code",
   "execution_count": 2,
   "metadata": {},
   "outputs": [
    {
     "name": "stdout",
     "output_type": "stream",
     "text": [
      "Populating the interactive namespace from numpy and matplotlib\n"
     ]
    },
    {
     "name": "stderr",
     "output_type": "stream",
     "text": [
      "/Users/anapaulavarejao/anaconda2/lib/python2.7/site-packages/sklearn/cross_validation.py:41: DeprecationWarning: This module was deprecated in version 0.18 in favor of the model_selection module into which all the refactored classes and functions are moved. Also note that the interface of the new CV iterators are different from that of this module. This module will be removed in 0.20.\n",
      "  \"This module will be removed in 0.20.\", DeprecationWarning)\n",
      "/Users/anapaulavarejao/anaconda2/lib/python2.7/site-packages/sklearn/grid_search.py:42: DeprecationWarning: This module was deprecated in version 0.18 in favor of the model_selection module into which all the refactored classes and functions are moved. This module will be removed in 0.20.\n",
      "  DeprecationWarning)\n"
     ]
    }
   ],
   "source": [
    "import pandas as pd\n",
    "import numpy as np\n",
    "import matplotlib.pyplot as plt\n",
    "%matplotlib inline\n",
    "\n",
    "import seaborn as sns\n",
    "\n",
    "from sklearn import preprocessing\n",
    "from sklearn.preprocessing import OneHotEncoder, LabelEncoder, LabelBinarizer\n",
    "from sklearn.ensemble import AdaBoostClassifier\n",
    "from sklearn.grid_search import GridSearchCV\n",
    "from datetime import datetime\n",
    "\n",
    "pd.set_option(\"max.columns\", 100)\n",
    "pd.set_option(\"max.colwidth\", 100)\n",
    "\n",
    "from sklearn.decomposition import PCA\n",
    "\n",
    "from sklearn.metrics import classification_report\n",
    "from collections import Counter\n",
    "from imblearn.under_sampling import RandomUnderSampler, NearMiss\n",
    "from imblearn.under_sampling import EditedNearestNeighbours, RepeatedEditedNearestNeighbours, TomekLinks\n",
    "from imblearn.over_sampling import RandomOverSampler, SMOTE\n",
    "from imblearn.combine import SMOTEENN, SMOTETomek\n",
    "\n",
    "from sklearn.cross_validation import train_test_split, cross_val_score\n",
    "from sklearn.metrics import accuracy_score, precision_score, recall_score, confusion_matrix\n",
    "\n",
    "from sklearn.ensemble import RandomForestClassifier\n",
    "from sklearn.preprocessing import binarize\n",
    "from sklearn.preprocessing import StandardScaler\n",
    "\n",
    "import xgboost as xgb\n",
    "\n",
    "import warnings\n",
    "from itable import PrettyTable, TableStyle, CellStyle\n",
    "warnings.filterwarnings('ignore')\n",
    "%pylab inline\n",
    "pylab.rcParams['figure.figsize'] = (12,6)\n",
    "plt.style.use('fivethirtyeight')\n",
    "\n",
    "\n"
   ]
  },
  {
   "cell_type": "code",
   "execution_count": 3,
   "metadata": {},
   "outputs": [
    {
     "data": {
      "text/html": [
       "<div>\n",
       "<style>\n",
       "    .dataframe thead tr:only-child th {\n",
       "        text-align: right;\n",
       "    }\n",
       "\n",
       "    .dataframe thead th {\n",
       "        text-align: left;\n",
       "    }\n",
       "\n",
       "    .dataframe tbody tr th {\n",
       "        vertical-align: top;\n",
       "    }\n",
       "</style>\n",
       "<table border=\"1\" class=\"dataframe\">\n",
       "  <thead>\n",
       "    <tr style=\"text-align: right;\">\n",
       "      <th></th>\n",
       "      <th>id</th>\n",
       "      <th>member_id</th>\n",
       "      <th>loan_amnt</th>\n",
       "      <th>funded_amnt</th>\n",
       "      <th>funded_amnt_inv</th>\n",
       "      <th>term</th>\n",
       "      <th>int_rate</th>\n",
       "      <th>installment</th>\n",
       "      <th>grade</th>\n",
       "      <th>sub_grade</th>\n",
       "      <th>emp_title</th>\n",
       "      <th>emp_length</th>\n",
       "      <th>home_ownership</th>\n",
       "      <th>annual_inc</th>\n",
       "      <th>verification_status</th>\n",
       "      <th>issue_d</th>\n",
       "      <th>loan_status</th>\n",
       "      <th>pymnt_plan</th>\n",
       "      <th>url</th>\n",
       "      <th>desc</th>\n",
       "      <th>purpose</th>\n",
       "      <th>title</th>\n",
       "      <th>zip_code</th>\n",
       "      <th>addr_state</th>\n",
       "      <th>dti</th>\n",
       "      <th>delinq_2yrs</th>\n",
       "      <th>earliest_cr_line</th>\n",
       "      <th>inq_last_6mths</th>\n",
       "      <th>mths_since_last_delinq</th>\n",
       "      <th>mths_since_last_record</th>\n",
       "      <th>open_acc</th>\n",
       "      <th>pub_rec</th>\n",
       "      <th>revol_bal</th>\n",
       "      <th>revol_util</th>\n",
       "      <th>total_acc</th>\n",
       "      <th>initial_list_status</th>\n",
       "      <th>out_prncp</th>\n",
       "      <th>out_prncp_inv</th>\n",
       "      <th>total_pymnt</th>\n",
       "      <th>total_pymnt_inv</th>\n",
       "      <th>total_rec_prncp</th>\n",
       "      <th>total_rec_int</th>\n",
       "      <th>total_rec_late_fee</th>\n",
       "      <th>recoveries</th>\n",
       "      <th>collection_recovery_fee</th>\n",
       "      <th>last_pymnt_d</th>\n",
       "      <th>last_pymnt_amnt</th>\n",
       "      <th>next_pymnt_d</th>\n",
       "      <th>last_credit_pull_d</th>\n",
       "      <th>collections_12_mths_ex_med</th>\n",
       "      <th>mths_since_last_major_derog</th>\n",
       "      <th>policy_code</th>\n",
       "      <th>application_type</th>\n",
       "      <th>annual_inc_joint</th>\n",
       "      <th>dti_joint</th>\n",
       "      <th>verification_status_joint</th>\n",
       "      <th>acc_now_delinq</th>\n",
       "      <th>tot_coll_amt</th>\n",
       "      <th>tot_cur_bal</th>\n",
       "      <th>open_acc_6m</th>\n",
       "      <th>open_il_6m</th>\n",
       "      <th>open_il_12m</th>\n",
       "      <th>open_il_24m</th>\n",
       "      <th>mths_since_rcnt_il</th>\n",
       "      <th>total_bal_il</th>\n",
       "      <th>il_util</th>\n",
       "      <th>open_rv_12m</th>\n",
       "      <th>open_rv_24m</th>\n",
       "      <th>max_bal_bc</th>\n",
       "      <th>all_util</th>\n",
       "      <th>total_rev_hi_lim</th>\n",
       "      <th>inq_fi</th>\n",
       "      <th>total_cu_tl</th>\n",
       "      <th>inq_last_12m</th>\n",
       "    </tr>\n",
       "  </thead>\n",
       "  <tbody>\n",
       "    <tr>\n",
       "      <th>0</th>\n",
       "      <td>1077501</td>\n",
       "      <td>1296599</td>\n",
       "      <td>5000.0</td>\n",
       "      <td>5000.0</td>\n",
       "      <td>4975.0</td>\n",
       "      <td>36 months</td>\n",
       "      <td>10.65</td>\n",
       "      <td>162.87</td>\n",
       "      <td>B</td>\n",
       "      <td>B2</td>\n",
       "      <td>NaN</td>\n",
       "      <td>10+ years</td>\n",
       "      <td>RENT</td>\n",
       "      <td>24000.0</td>\n",
       "      <td>Verified</td>\n",
       "      <td>Dec-2011</td>\n",
       "      <td>Fully Paid</td>\n",
       "      <td>n</td>\n",
       "      <td>https://www.lendingclub.com/browse/loanDetail.action?loan_id=1077501</td>\n",
       "      <td>Borrower added on 12/22/11 &gt; I need to upgrade my business technologies.&lt;br&gt;</td>\n",
       "      <td>credit_card</td>\n",
       "      <td>Computer</td>\n",
       "      <td>860xx</td>\n",
       "      <td>AZ</td>\n",
       "      <td>27.65</td>\n",
       "      <td>0.0</td>\n",
       "      <td>Jan-1985</td>\n",
       "      <td>1.0</td>\n",
       "      <td>NaN</td>\n",
       "      <td>NaN</td>\n",
       "      <td>3.0</td>\n",
       "      <td>0.0</td>\n",
       "      <td>13648.0</td>\n",
       "      <td>83.7</td>\n",
       "      <td>9.0</td>\n",
       "      <td>f</td>\n",
       "      <td>0.0</td>\n",
       "      <td>0.0</td>\n",
       "      <td>5861.071414</td>\n",
       "      <td>5831.78</td>\n",
       "      <td>5000.00</td>\n",
       "      <td>861.07</td>\n",
       "      <td>0.0</td>\n",
       "      <td>0.00</td>\n",
       "      <td>0.00</td>\n",
       "      <td>Jan-2015</td>\n",
       "      <td>171.62</td>\n",
       "      <td>NaN</td>\n",
       "      <td>Jan-2016</td>\n",
       "      <td>0.0</td>\n",
       "      <td>NaN</td>\n",
       "      <td>1.0</td>\n",
       "      <td>INDIVIDUAL</td>\n",
       "      <td>NaN</td>\n",
       "      <td>NaN</td>\n",
       "      <td>NaN</td>\n",
       "      <td>0.0</td>\n",
       "      <td>NaN</td>\n",
       "      <td>NaN</td>\n",
       "      <td>NaN</td>\n",
       "      <td>NaN</td>\n",
       "      <td>NaN</td>\n",
       "      <td>NaN</td>\n",
       "      <td>NaN</td>\n",
       "      <td>NaN</td>\n",
       "      <td>NaN</td>\n",
       "      <td>NaN</td>\n",
       "      <td>NaN</td>\n",
       "      <td>NaN</td>\n",
       "      <td>NaN</td>\n",
       "      <td>NaN</td>\n",
       "      <td>NaN</td>\n",
       "      <td>NaN</td>\n",
       "      <td>NaN</td>\n",
       "    </tr>\n",
       "    <tr>\n",
       "      <th>1</th>\n",
       "      <td>1077430</td>\n",
       "      <td>1314167</td>\n",
       "      <td>2500.0</td>\n",
       "      <td>2500.0</td>\n",
       "      <td>2500.0</td>\n",
       "      <td>60 months</td>\n",
       "      <td>15.27</td>\n",
       "      <td>59.83</td>\n",
       "      <td>C</td>\n",
       "      <td>C4</td>\n",
       "      <td>Ryder</td>\n",
       "      <td>&lt; 1 year</td>\n",
       "      <td>RENT</td>\n",
       "      <td>30000.0</td>\n",
       "      <td>Source Verified</td>\n",
       "      <td>Dec-2011</td>\n",
       "      <td>Charged Off</td>\n",
       "      <td>n</td>\n",
       "      <td>https://www.lendingclub.com/browse/loanDetail.action?loan_id=1077430</td>\n",
       "      <td>Borrower added on 12/22/11 &gt; I plan to use this money to finance the motorcycle i am looking a...</td>\n",
       "      <td>car</td>\n",
       "      <td>bike</td>\n",
       "      <td>309xx</td>\n",
       "      <td>GA</td>\n",
       "      <td>1.00</td>\n",
       "      <td>0.0</td>\n",
       "      <td>Apr-1999</td>\n",
       "      <td>5.0</td>\n",
       "      <td>NaN</td>\n",
       "      <td>NaN</td>\n",
       "      <td>3.0</td>\n",
       "      <td>0.0</td>\n",
       "      <td>1687.0</td>\n",
       "      <td>9.4</td>\n",
       "      <td>4.0</td>\n",
       "      <td>f</td>\n",
       "      <td>0.0</td>\n",
       "      <td>0.0</td>\n",
       "      <td>1008.710000</td>\n",
       "      <td>1008.71</td>\n",
       "      <td>456.46</td>\n",
       "      <td>435.17</td>\n",
       "      <td>0.0</td>\n",
       "      <td>117.08</td>\n",
       "      <td>1.11</td>\n",
       "      <td>Apr-2013</td>\n",
       "      <td>119.66</td>\n",
       "      <td>NaN</td>\n",
       "      <td>Sep-2013</td>\n",
       "      <td>0.0</td>\n",
       "      <td>NaN</td>\n",
       "      <td>1.0</td>\n",
       "      <td>INDIVIDUAL</td>\n",
       "      <td>NaN</td>\n",
       "      <td>NaN</td>\n",
       "      <td>NaN</td>\n",
       "      <td>0.0</td>\n",
       "      <td>NaN</td>\n",
       "      <td>NaN</td>\n",
       "      <td>NaN</td>\n",
       "      <td>NaN</td>\n",
       "      <td>NaN</td>\n",
       "      <td>NaN</td>\n",
       "      <td>NaN</td>\n",
       "      <td>NaN</td>\n",
       "      <td>NaN</td>\n",
       "      <td>NaN</td>\n",
       "      <td>NaN</td>\n",
       "      <td>NaN</td>\n",
       "      <td>NaN</td>\n",
       "      <td>NaN</td>\n",
       "      <td>NaN</td>\n",
       "      <td>NaN</td>\n",
       "      <td>NaN</td>\n",
       "    </tr>\n",
       "  </tbody>\n",
       "</table>\n",
       "</div>"
      ],
      "text/plain": [
       "        id  member_id  loan_amnt  funded_amnt  funded_amnt_inv        term  \\\n",
       "0  1077501    1296599     5000.0       5000.0           4975.0   36 months   \n",
       "1  1077430    1314167     2500.0       2500.0           2500.0   60 months   \n",
       "\n",
       "   int_rate  installment grade sub_grade emp_title emp_length home_ownership  \\\n",
       "0     10.65       162.87     B        B2       NaN  10+ years           RENT   \n",
       "1     15.27        59.83     C        C4     Ryder   < 1 year           RENT   \n",
       "\n",
       "   annual_inc verification_status   issue_d  loan_status pymnt_plan  \\\n",
       "0     24000.0            Verified  Dec-2011   Fully Paid          n   \n",
       "1     30000.0     Source Verified  Dec-2011  Charged Off          n   \n",
       "\n",
       "                                                                    url  \\\n",
       "0  https://www.lendingclub.com/browse/loanDetail.action?loan_id=1077501   \n",
       "1  https://www.lendingclub.com/browse/loanDetail.action?loan_id=1077430   \n",
       "\n",
       "                                                                                                  desc  \\\n",
       "0                         Borrower added on 12/22/11 > I need to upgrade my business technologies.<br>   \n",
       "1    Borrower added on 12/22/11 > I plan to use this money to finance the motorcycle i am looking a...   \n",
       "\n",
       "       purpose     title zip_code addr_state    dti  delinq_2yrs  \\\n",
       "0  credit_card  Computer    860xx         AZ  27.65          0.0   \n",
       "1          car      bike    309xx         GA   1.00          0.0   \n",
       "\n",
       "  earliest_cr_line  inq_last_6mths  mths_since_last_delinq  \\\n",
       "0         Jan-1985             1.0                     NaN   \n",
       "1         Apr-1999             5.0                     NaN   \n",
       "\n",
       "   mths_since_last_record  open_acc  pub_rec  revol_bal  revol_util  \\\n",
       "0                     NaN       3.0      0.0    13648.0        83.7   \n",
       "1                     NaN       3.0      0.0     1687.0         9.4   \n",
       "\n",
       "   total_acc initial_list_status  out_prncp  out_prncp_inv  total_pymnt  \\\n",
       "0        9.0                   f        0.0            0.0  5861.071414   \n",
       "1        4.0                   f        0.0            0.0  1008.710000   \n",
       "\n",
       "   total_pymnt_inv  total_rec_prncp  total_rec_int  total_rec_late_fee  \\\n",
       "0          5831.78          5000.00         861.07                 0.0   \n",
       "1          1008.71           456.46         435.17                 0.0   \n",
       "\n",
       "   recoveries  collection_recovery_fee last_pymnt_d  last_pymnt_amnt  \\\n",
       "0        0.00                     0.00     Jan-2015           171.62   \n",
       "1      117.08                     1.11     Apr-2013           119.66   \n",
       "\n",
       "  next_pymnt_d last_credit_pull_d  collections_12_mths_ex_med  \\\n",
       "0          NaN           Jan-2016                         0.0   \n",
       "1          NaN           Sep-2013                         0.0   \n",
       "\n",
       "   mths_since_last_major_derog  policy_code application_type  \\\n",
       "0                          NaN          1.0       INDIVIDUAL   \n",
       "1                          NaN          1.0       INDIVIDUAL   \n",
       "\n",
       "   annual_inc_joint  dti_joint verification_status_joint  acc_now_delinq  \\\n",
       "0               NaN        NaN                       NaN             0.0   \n",
       "1               NaN        NaN                       NaN             0.0   \n",
       "\n",
       "   tot_coll_amt  tot_cur_bal  open_acc_6m  open_il_6m  open_il_12m  \\\n",
       "0           NaN          NaN          NaN         NaN          NaN   \n",
       "1           NaN          NaN          NaN         NaN          NaN   \n",
       "\n",
       "   open_il_24m  mths_since_rcnt_il  total_bal_il  il_util  open_rv_12m  \\\n",
       "0          NaN                 NaN           NaN      NaN          NaN   \n",
       "1          NaN                 NaN           NaN      NaN          NaN   \n",
       "\n",
       "   open_rv_24m  max_bal_bc  all_util  total_rev_hi_lim  inq_fi  total_cu_tl  \\\n",
       "0          NaN         NaN       NaN               NaN     NaN          NaN   \n",
       "1          NaN         NaN       NaN               NaN     NaN          NaN   \n",
       "\n",
       "   inq_last_12m  \n",
       "0           NaN  \n",
       "1           NaN  "
      ]
     },
     "execution_count": 3,
     "metadata": {},
     "output_type": "execute_result"
    }
   ],
   "source": [
    "dt = pd.read_csv(\"loan.csv\")\n",
    "dt.head(2)"
   ]
  },
  {
   "cell_type": "markdown",
   "metadata": {},
   "source": [
    "## Missing Values and Useless Columns at the Firts Sight\n",
    "After loading the entire data set I’d like to check its structure and summarise it."
   ]
  },
  {
   "cell_type": "code",
   "execution_count": 3,
   "metadata": {},
   "outputs": [
    {
     "name": "stdout",
     "output_type": "stream",
     "text": [
      "How many columns? 74\n",
      "How many rows? 887379\n"
     ]
    }
   ],
   "source": [
    "print \"How many columns?\", dt.shape[1]\n",
    "print \"How many rows?\", dt.shape[0]"
   ]
  },
  {
   "cell_type": "code",
   "execution_count": 4,
   "metadata": {},
   "outputs": [
    {
     "name": "stdout",
     "output_type": "stream",
     "text": [
      "[('id', 0), ('member_id', 0), ('loan_amnt', 0), ('funded_amnt', 0), ('funded_amnt_inv', 0), ('term', 0), ('int_rate', 0), ('installment', 0), ('grade', 0), ('sub_grade', 0), ('emp_title', 51457), ('emp_length', 0), ('home_ownership', 0), ('annual_inc', 4), ('verification_status', 0), ('issue_d', 0), ('loan_status', 0), ('pymnt_plan', 0), ('url', 0), ('desc', 761350), ('purpose', 0), ('title', 151), ('zip_code', 0), ('addr_state', 0), ('dti', 0), ('delinq_2yrs', 29), ('earliest_cr_line', 29), ('inq_last_6mths', 29), ('mths_since_last_delinq', 454312), ('mths_since_last_record', 750326), ('open_acc', 29), ('pub_rec', 29), ('revol_bal', 0), ('revol_util', 502), ('total_acc', 29), ('initial_list_status', 0), ('out_prncp', 0), ('out_prncp_inv', 0), ('total_pymnt', 0), ('total_pymnt_inv', 0), ('total_rec_prncp', 0), ('total_rec_int', 0), ('total_rec_late_fee', 0), ('recoveries', 0), ('collection_recovery_fee', 0), ('last_pymnt_d', 17659), ('last_pymnt_amnt', 0), ('next_pymnt_d', 252971), ('last_credit_pull_d', 53), ('collections_12_mths_ex_med', 145), ('mths_since_last_major_derog', 665676), ('policy_code', 0), ('application_type', 0), ('annual_inc_joint', 886868), ('dti_joint', 886870), ('verification_status_joint', 886868), ('acc_now_delinq', 29), ('tot_coll_amt', 70276), ('tot_cur_bal', 70276), ('open_acc_6m', 866007), ('open_il_6m', 866007), ('open_il_12m', 866007), ('open_il_24m', 866007), ('mths_since_rcnt_il', 866569), ('total_bal_il', 866007), ('il_util', 868762), ('open_rv_12m', 866007), ('open_rv_24m', 866007), ('max_bal_bc', 866007), ('all_util', 866007), ('total_rev_hi_lim', 70276), ('inq_fi', 866007), ('total_cu_tl', 866007), ('inq_last_12m', 866007)]\n"
     ]
    }
   ],
   "source": [
    "#Verifying columns that have null values\n",
    "keys = dt.columns\n",
    "commands = ['dt.' + keys[i] + \".isnull().sum()\" for i in range(len(keys))]\n",
    "i = 0\n",
    "n = []\n",
    "for item in commands:\n",
    "        n.append((keys[i], eval(item)))\n",
    "        i+=1\n",
    "print n"
   ]
  },
  {
   "cell_type": "code",
   "execution_count": 5,
   "metadata": {},
   "outputs": [
    {
     "name": "stdout",
     "output_type": "stream",
     "text": [
      "['desc', 'mths_since_last_record', 'annual_inc_joint', 'dti_joint', 'verification_status_joint', 'open_acc_6m', 'open_il_6m', 'open_il_12m', 'open_il_24m', 'mths_since_rcnt_il', 'total_bal_il', 'il_util', 'open_rv_12m', 'open_rv_24m', 'max_bal_bc', 'all_util', 'inq_fi', 'total_cu_tl', 'inq_last_12m']\n"
     ]
    }
   ],
   "source": [
    "# drop columns that have more than 700000 missing values\n",
    "dr1 = []\n",
    "for elem in n:\n",
    "    if elem[1] > 700000:\n",
    "        dr1.append(elem[0])\n",
    "print dr1"
   ]
  },
  {
   "cell_type": "code",
   "execution_count": 6,
   "metadata": {
    "collapsed": true
   },
   "outputs": [],
   "source": [
    "dt.drop(dr1, inplace=True, axis=1)"
   ]
  },
  {
   "cell_type": "code",
   "execution_count": 7,
   "metadata": {},
   "outputs": [
    {
     "data": {
      "text/plain": [
       "(887379, 55)"
      ]
     },
     "execution_count": 7,
     "metadata": {},
     "output_type": "execute_result"
    }
   ],
   "source": [
    "dt.shape"
   ]
  },
  {
   "cell_type": "code",
   "execution_count": 8,
   "metadata": {
    "collapsed": true
   },
   "outputs": [],
   "source": [
    "# drop columns that are useless at the first sight.\n",
    "dr2 = ['id',\n",
    "      'member_id',\n",
    "     'emp_title',\n",
    "     'url',\n",
    "     'title',\n",
    "     'purpose',\n",
    "     'addr_state']\n",
    "dt.drop(dr2, inplace=True, axis=1)"
   ]
  },
  {
   "cell_type": "code",
   "execution_count": 9,
   "metadata": {},
   "outputs": [
    {
     "data": {
      "text/plain": [
       "(887379, 48)"
      ]
     },
     "execution_count": 9,
     "metadata": {},
     "output_type": "execute_result"
    }
   ],
   "source": [
    "dt.shape"
   ]
  },
  {
   "cell_type": "code",
   "execution_count": 10,
   "metadata": {
    "collapsed": true
   },
   "outputs": [],
   "source": [
    "# drop rows that have any missing values\n",
    "dt.dropna(how=\"any\", inplace = True)"
   ]
  },
  {
   "cell_type": "code",
   "execution_count": 11,
   "metadata": {},
   "outputs": [
    {
     "data": {
      "text/plain": [
       "(161621, 48)"
      ]
     },
     "execution_count": 11,
     "metadata": {},
     "output_type": "execute_result"
    }
   ],
   "source": [
    "dt.shape"
   ]
  },
  {
   "cell_type": "markdown",
   "metadata": {},
   "source": [
    "### Verifying Unique Values in Categorical Variables"
   ]
  },
  {
   "cell_type": "code",
   "execution_count": 12,
   "metadata": {
    "collapsed": true
   },
   "outputs": [],
   "source": [
    "obj= dt.select_dtypes(include=[object])\n",
    "obj = obj.columns"
   ]
  },
  {
   "cell_type": "code",
   "execution_count": 13,
   "metadata": {},
   "outputs": [
    {
     "name": "stdout",
     "output_type": "stream",
     "text": [
      "* term:\n",
      "[' 36 months', ' 60 months']\n",
      "* grade:\n",
      "['A', 'B', 'C', 'D', 'E', 'F', 'G']\n",
      "* sub_grade:\n",
      "['A1', 'A2', 'A3', 'A4', 'A5', 'B1', 'B2', 'B3', 'B4', 'B5']\n",
      "* emp_length:\n",
      "['1 year', '10+ years', '2 years', '3 years', '4 years', '5 years', '6 years', '7 years', '8 years', '9 years']\n",
      "* home_ownership:\n",
      "['ANY', 'MORTGAGE', 'NONE', 'OTHER', 'OWN', 'RENT']\n",
      "* verification_status:\n",
      "['Not Verified', 'Source Verified', 'Verified']\n",
      "* issue_d:\n",
      "['Apr-2013', 'Apr-2014', 'Apr-2015', 'Aug-2012', 'Aug-2013', 'Aug-2014', 'Aug-2015', 'Dec-2012', 'Dec-2013', 'Dec-2014']\n",
      "* loan_status:\n",
      "['Current', 'Default', 'In Grace Period', 'Issued', 'Late (16-30 days)', 'Late (31-120 days)']\n",
      "* pymnt_plan:\n",
      "['n', 'y']\n",
      "* zip_code:\n",
      "['007xx', '010xx', '011xx', '012xx', '013xx', '014xx', '015xx', '016xx', '017xx', '018xx']\n",
      "* earliest_cr_line:\n",
      "['Apr-1958', 'Apr-1961', 'Apr-1962', 'Apr-1963', 'Apr-1964', 'Apr-1965', 'Apr-1966', 'Apr-1967', 'Apr-1968', 'Apr-1969']\n",
      "* initial_list_status:\n",
      "['f', 'w']\n",
      "* last_pymnt_d:\n",
      "['Aug-2015', 'Dec-2015', 'Jan-2016', 'May-2015', 'Nov-2015', 'Oct-2015', 'Sep-2015']\n",
      "* next_pymnt_d:\n",
      "['Feb-2016', 'Jan-2016', 'Mar-2016']\n",
      "* last_credit_pull_d:\n",
      "['Apr-2014', 'Apr-2015', 'Aug-2014', 'Aug-2015', 'Dec-2013', 'Dec-2014', 'Dec-2015', 'Feb-2014', 'Feb-2015', 'Jan-2014']\n",
      "* application_type:\n",
      "['INDIVIDUAL', 'JOINT']\n"
     ]
    }
   ],
   "source": [
    "#Verifying unique values\n",
    "commands = ['dt.' + obj[i] + \".unique()\" for i in range(len(obj))]\n",
    "i = 0\n",
    "for item in commands:\n",
    "    print \"* \" + obj[i] + ':'\n",
    "    print sorted(eval(item))[:10]\n",
    "    i+=1"
   ]
  },
  {
   "cell_type": "markdown",
   "metadata": {},
   "source": [
    "## Understanding Categorical Variables:  encoding, dropping and transforming"
   ]
  },
  {
   "cell_type": "markdown",
   "metadata": {},
   "source": [
    "#### term"
   ]
  },
  {
   "cell_type": "markdown",
   "metadata": {},
   "source": [
    "[' 36 months', ' 60 months']<br>\n",
    "The number of payments on the loan. Values are in months and can be either 36 or 60.\n",
    "The loan grade is the result of a formula that takes into account not only credit score, but also a combination of several indicators of credit risk from the credit report and loan application. All loans have either a 36 or 60 month term, with fixed interest rates and equal payments."
   ]
  },
  {
   "cell_type": "code",
   "execution_count": 14,
   "metadata": {
    "collapsed": true
   },
   "outputs": [],
   "source": [
    "#Encoding variable 'term'\n",
    "term_dict = {' 36 months': 36, ' 60 months': 60}\n",
    "dt[\"term\"] = dt.term.map(term_dict)   "
   ]
  },
  {
   "cell_type": "markdown",
   "metadata": {},
   "source": [
    "#### grade and sub_grade"
   ]
  },
  {
   "cell_type": "markdown",
   "metadata": {},
   "source": [
    "grade: ['A', 'B', 'C', 'D', 'E', 'F', 'G']<br>\n",
    "sub_grade: ['A1', 'A2', 'A3', 'A4', 'A5', 'B1', 'B2', 'B3', 'B4', 'B5', 'C1', 'C2', 'C3', 'C4', 'C5', <br>\n",
    "            'D1', 'D2', 'D3', 'D4', 'D5', 'E1', 'E2', 'E3', 'E4', 'E5', 'F1', 'F2', 'F3', 'F4', 'F5', <br>\n",
    "            'G1', 'G2', 'G3', 'G4', 'G5'] <br>\n",
    "I decided to encode just sub_grade because it is directly related to the interest rate. And I decided to drop the grade variable because it has the same information but with less detail. <br>"
   ]
  },
  {
   "cell_type": "markdown",
   "metadata": {},
   "source": [
    "http://pbpython.com/categorical-encoding.html <br>\n",
    "One trick you can use in pandas is to convert a column to a category, then use those category values for your label encoding:"
   ]
  },
  {
   "cell_type": "code",
   "execution_count": 15,
   "metadata": {
    "collapsed": true
   },
   "outputs": [],
   "source": [
    "dt[\"sub_grade\"] = dt[\"sub_grade\"].astype('category')\n",
    "# Then you can assign the encoded variable to a new column using the cat.codes accessor:\n",
    "dt[\"sub_grade_en\"] = dt[\"sub_grade\"].cat.codes\n",
    "dt.drop([\"sub_grade\", \"grade\"], axis=1, inplace=True)"
   ]
  },
  {
   "cell_type": "markdown",
   "metadata": {},
   "source": [
    "#### emp_length"
   ]
  },
  {
   "cell_type": "markdown",
   "metadata": {},
   "source": [
    "['1 year', '10+ years', '2 years', '3 years', '4 years', '5 years', '6 years', '7 years', '8 years', '9 years', '< 1 year', 'n/a'] <br>\n",
    "Employment length in years. Possible values are between 0 and 10 where 0 means less than one year and 10 means ten or more years."
   ]
  },
  {
   "cell_type": "code",
   "execution_count": 16,
   "metadata": {
    "collapsed": true
   },
   "outputs": [],
   "source": [
    "emp_length_dict = {'2 years': 2, '7 years': 7, '6 years': 6, '10+ years': 10, '8 years': 8, '5 years': 5,\n",
    "       '3 years': 3, '1 year': 1, '4 years': 4, '9 years': 9, '< 1 year': 0, 'n/a' : np.nan }"
   ]
  },
  {
   "cell_type": "code",
   "execution_count": 17,
   "metadata": {
    "collapsed": true
   },
   "outputs": [],
   "source": [
    "dt[\"emp_length\"] = dt.emp_length.map(emp_length_dict)"
   ]
  },
  {
   "cell_type": "code",
   "execution_count": 18,
   "metadata": {
    "collapsed": true
   },
   "outputs": [],
   "source": [
    "dt.dropna(how=\"any\", inplace=True)"
   ]
  },
  {
   "cell_type": "code",
   "execution_count": 19,
   "metadata": {},
   "outputs": [
    {
     "data": {
      "text/plain": [
       "array([  2.,   7.,   6.,  10.,   8.,   5.,   3.,   1.,   4.,   9.,   0.])"
      ]
     },
     "execution_count": 19,
     "metadata": {},
     "output_type": "execute_result"
    }
   ],
   "source": [
    "dt.emp_length.unique()"
   ]
  },
  {
   "cell_type": "markdown",
   "metadata": {},
   "source": [
    "#### home_ownership"
   ]
  },
  {
   "cell_type": "markdown",
   "metadata": {},
   "source": [
    "\"home_ownership\" is the home ownership status provided by the borrower during registration or obtained from the credit report. The values in Lending Club are: RENT, OWN, MORTGAGE, OTHER.<br>\n",
    "Since I found in the data set ['ANY', 'MORTGAGE', 'NONE', 'OTHER', 'OWN', 'RENT'], I am going to join 'ANY','NONE' and 'OTHER' in just one encoding value."
   ]
  },
  {
   "cell_type": "code",
   "execution_count": 20,
   "metadata": {
    "collapsed": true
   },
   "outputs": [],
   "source": [
    "dt.home_ownership.replace('ANY','OTHER', inplace=True)\n",
    "dt.home_ownership.replace('NONE','OTHER', inplace=True)"
   ]
  },
  {
   "cell_type": "code",
   "execution_count": null,
   "metadata": {
    "collapsed": true
   },
   "outputs": [],
   "source": []
  },
  {
   "cell_type": "code",
   "execution_count": 21,
   "metadata": {},
   "outputs": [
    {
     "data": {
      "text/plain": [
       "array(['MORTGAGE', 'RENT', 'OWN', 'OTHER'], dtype=object)"
      ]
     },
     "execution_count": 21,
     "metadata": {},
     "output_type": "execute_result"
    }
   ],
   "source": [
    "dt.home_ownership.unique()"
   ]
  },
  {
   "cell_type": "code",
   "execution_count": 22,
   "metadata": {
    "collapsed": true
   },
   "outputs": [],
   "source": [
    "h_o = pd.get_dummies(dt.home_ownership, prefix = \"h_o\")"
   ]
  },
  {
   "cell_type": "code",
   "execution_count": 23,
   "metadata": {
    "collapsed": true
   },
   "outputs": [],
   "source": [
    "dt.drop(\"home_ownership\", axis= 1, inplace=True)\n",
    "dt = pd.concat([dt, h_o], axis=1)\n",
    "dt.columns = dt.columns.str.lower()"
   ]
  },
  {
   "cell_type": "markdown",
   "metadata": {},
   "source": [
    "#### verification_status:"
   ]
  },
  {
   "cell_type": "markdown",
   "metadata": {},
   "source": [
    "Indicates if the co-borrowers' joint income was verified by LC, not verified, or if the income source was verified\n",
    "['Not Verified', 'Source Verified', 'Verified']\n",
    "Below are four hypothetical scenarios of verification that could occur with our prospective borrowers:\n",
    "- Borrower has their income verified within an acceptable range ==> income verified;\n",
    "- Borrower work at Company XYZ. LC call Company XYZ and verify that  the Borrower works there. Borrower’s loan is approved ==> \"income source verified.\"\n",
    "- Borrower is not targeted for income verification. Borrower's loan is approved ==> \"income not verified.\n",
    "Sice both \"income verified\" and \"income source verified\" were analyzed by LC, I decided to encode the verification_status as \"0\" for 'Not Verified' and 1 to 'Source Verified' and 'Verified'."
   ]
  },
  {
   "cell_type": "code",
   "execution_count": 24,
   "metadata": {
    "collapsed": true
   },
   "outputs": [],
   "source": [
    "verification_status_dict = {'Not Verified': 0, 'Source Verified': 1, 'Verified': 1}\n",
    "dt[\"verification_status\"] = dt.verification_status.map(verification_status_dict)   "
   ]
  },
  {
   "cell_type": "code",
   "execution_count": 25,
   "metadata": {},
   "outputs": [
    {
     "data": {
      "text/plain": [
       "array([0, 1])"
      ]
     },
     "execution_count": 25,
     "metadata": {},
     "output_type": "execute_result"
    }
   ],
   "source": [
    "dt.verification_status.unique()"
   ]
  },
  {
   "cell_type": "markdown",
   "metadata": {},
   "source": [
    "#### issue_d"
   ]
  },
  {
   "cell_type": "markdown",
   "metadata": {},
   "source": [
    "issue_d: The month which the loan was funded\n",
    "Once this information seems not usefull for the analysis, I decided to drop this variable."
   ]
  },
  {
   "cell_type": "code",
   "execution_count": 26,
   "metadata": {
    "collapsed": true
   },
   "outputs": [],
   "source": [
    "dt.drop(\"issue_d\", axis=1, inplace=True)"
   ]
  },
  {
   "cell_type": "markdown",
   "metadata": {},
   "source": [
    "#### loan_status"
   ]
  },
  {
   "cell_type": "markdown",
   "metadata": {},
   "source": [
    "['Current', 'Default', 'In Grace Period', 'Issued', 'Late (16-30 days)', 'Late (31-120 days)']\n",
    "Notice that there are different statuses which seem to indicate good payment and bad payments.\n",
    "I am going to approach this as a binary classification problem, so the first step is to decide what statuses I will consider good and which bad.\n",
    "\n",
    "loan_status:\n",
    "**Current**: Loan is up to date on all outstanding payments. <br>\n",
    "**Default**: Loan has not been current for 121 days or more. <br>\n",
    "**In Grace Period**: Loan is past due but within the 15-day grace period. <br>\n",
    "**Issued**: New loan that has passed all LendingClub reviews, received full funding, and has been issued.<br>\n",
    "**Late (16-30 days)**: Loan has not been current for 16 to 30 days. <br>\n",
    "**Late (31-120)**: Loan has not been current for 31 to 120 days.\n",
    "\n",
    "If a loan was 'Default', Late (16-30 days) and Late (31-120) I  will considered it  as **Bad (0) **. On the other hand, I decided just to consider as ** Good (1)'** loan if the status is 'Current'.\n",
    "Loans in a 'In Grace Period'(período de carência) and 'Issued' don't tell us nothing about the behavior of the \n",
    "borrower. Because of that I decided to drop the records with these status."
   ]
  },
  {
   "cell_type": "code",
   "execution_count": 27,
   "metadata": {
    "collapsed": true
   },
   "outputs": [],
   "source": [
    "dt = dt[(dt.loan_status != 'Issued')&(dt.loan_status != 'In Grace Period')]"
   ]
  },
  {
   "cell_type": "code",
   "execution_count": 28,
   "metadata": {
    "collapsed": true
   },
   "outputs": [],
   "source": [
    "#Encoding variable 'loan_status'\n",
    "loan_status_dict = {'Current': 0, 'Late (31-120 days)': 1 , 'Late (16-30 days)': 1 , 'Default': 1}\n",
    "dt[\"loan_status\"] = dt.loan_status.map(loan_status_dict)"
   ]
  },
  {
   "cell_type": "code",
   "execution_count": 29,
   "metadata": {},
   "outputs": [
    {
     "data": {
      "text/plain": [
       "array([0, 1])"
      ]
     },
     "execution_count": 29,
     "metadata": {},
     "output_type": "execute_result"
    }
   ],
   "source": [
    "dt.loan_status.unique()"
   ]
  },
  {
   "cell_type": "markdown",
   "metadata": {},
   "source": [
    "#### pymnt_plan"
   ]
  },
  {
   "cell_type": "markdown",
   "metadata": {},
   "source": [
    "['n', 'y']\n",
    "Indicates if a payment plan has been put in place for the loan.<br> (tipo renegociação)\n",
    "In some cases, LC arranges payment plans with borrowers to bring their loans back to current status over a longer period of time. If LendingClub enters into such an agreement, details of the payment plan will be available on the loan performance page in your investor account. \n",
    "Keep in mind that loans on a payment plan may perform differently than other loans with the same status."
   ]
  },
  {
   "cell_type": "code",
   "execution_count": 30,
   "metadata": {
    "collapsed": true
   },
   "outputs": [],
   "source": [
    "pymnt_plan_dict = {'y': 0, 'n': 1}\n",
    "dt[\"pymnt_plan\"] = dt.pymnt_plan.map(pymnt_plan_dict)"
   ]
  },
  {
   "cell_type": "code",
   "execution_count": 31,
   "metadata": {},
   "outputs": [
    {
     "data": {
      "text/plain": [
       "array([1, 0])"
      ]
     },
     "execution_count": 31,
     "metadata": {},
     "output_type": "execute_result"
    }
   ],
   "source": [
    "dt.pymnt_plan.unique()"
   ]
  },
  {
   "cell_type": "markdown",
   "metadata": {},
   "source": [
    "#### zip_code"
   ]
  },
  {
   "cell_type": "markdown",
   "metadata": {},
   "source": [
    "The first 3 numbers of the zip code provided by the borrower in the loan application.\n",
    "Zip_code is not immediately usable in machine learning, since there are many zip codes, expanding them into boolean columns will not be effective.\n",
    "So, I decided to drop this variable."
   ]
  },
  {
   "cell_type": "code",
   "execution_count": 32,
   "metadata": {
    "collapsed": true
   },
   "outputs": [],
   "source": [
    "dt.drop(\"zip_code\", axis=1, inplace=True)"
   ]
  },
  {
   "cell_type": "markdown",
   "metadata": {
    "collapsed": true
   },
   "source": [
    "#### earliest_cr_line"
   ]
  },
  {
   "cell_type": "markdown",
   "metadata": {},
   "source": [
    "The month the borrower's earliest reported credit line was opened. \n",
    "It describes the length of time since the first line of credit. It is good variable to mesure the longer you've had lines of credit the better. It is a good variable to measure the behavior of a good payer. "
   ]
  },
  {
   "cell_type": "code",
   "execution_count": 33,
   "metadata": {
    "collapsed": true
   },
   "outputs": [],
   "source": [
    "# melhorar\n",
    "from datetime import datetime\n",
    "dt.earliest_cr_line = pd.to_datetime(dt.earliest_cr_line)\n",
    "dttoday = datetime.now().strftime('%Y-%m-%d')\n",
    "# There is a better way to do this :) \n",
    "dt.earliest_cr_line = dt.earliest_cr_line.apply(lambda x: (\n",
    "        np.timedelta64((x - pd.Timestamp(dttoday)),'D').astype(int))/-365)"
   ]
  },
  {
   "cell_type": "markdown",
   "metadata": {},
   "source": [
    "#### initial_list_status"
   ]
  },
  {
   "cell_type": "markdown",
   "metadata": {},
   "source": [
    "['f', 'w']\n",
    "The initial listing status of the loan. Possible values are:\n",
    "- W(Whole): loans that were picked up by lenders as 'whole' loans;\n",
    "- F(Fractional): loans that were picked up by lenders as 'Fractional' loans.\n"
   ]
  },
  {
   "cell_type": "code",
   "execution_count": 34,
   "metadata": {},
   "outputs": [
    {
     "data": {
      "text/plain": [
       "w    84138\n",
       "f    66119\n",
       "Name: initial_list_status, dtype: int64"
      ]
     },
     "execution_count": 34,
     "metadata": {},
     "output_type": "execute_result"
    }
   ],
   "source": [
    "dt.initial_list_status.value_counts()"
   ]
  },
  {
   "cell_type": "code",
   "execution_count": 35,
   "metadata": {
    "collapsed": true
   },
   "outputs": [],
   "source": [
    "initial_list_status_dict = {'f': 0, 'w': 1}\n",
    "dt[\"initial_list_status\"] = dt.initial_list_status.map(initial_list_status_dict)"
   ]
  },
  {
   "cell_type": "markdown",
   "metadata": {},
   "source": [
    "#### last_pymnt_d, next_pymnt_d and last_credit_pull_d"
   ]
  },
  {
   "cell_type": "markdown",
   "metadata": {},
   "source": [
    "It seems that this variables are not useful, so I decided to drop them.\n",
    "last_pymnt_d: Last total payment amount received. \n",
    "next_pymnt_d: Next scheduled payment date;\n",
    "last_credit_pull_d: the most recent month that LC pulled credit for this loan\n"
   ]
  },
  {
   "cell_type": "code",
   "execution_count": 36,
   "metadata": {
    "collapsed": true
   },
   "outputs": [],
   "source": [
    "dt.drop(\"last_pymnt_d\", axis = 1, inplace = True)"
   ]
  },
  {
   "cell_type": "code",
   "execution_count": 37,
   "metadata": {
    "collapsed": true
   },
   "outputs": [],
   "source": [
    "#depois juntar com o drop de cima.\n",
    "dt.drop([\"next_pymnt_d\",\"last_credit_pull_d\"], axis = 1, inplace = True)"
   ]
  },
  {
   "cell_type": "markdown",
   "metadata": {},
   "source": [
    "#### application_type:"
   ]
  },
  {
   "cell_type": "markdown",
   "metadata": {},
   "source": [
    "['INDIVIDUAL', 'JOINT']<br>\n",
    "Indicates whether the loan is an individual application or a joint application with two co-borrowers."
   ]
  },
  {
   "cell_type": "code",
   "execution_count": 38,
   "metadata": {},
   "outputs": [
    {
     "data": {
      "text/plain": [
       "INDIVIDUAL    150171\n",
       "JOINT             86\n",
       "Name: application_type, dtype: int64"
      ]
     },
     "execution_count": 38,
     "metadata": {},
     "output_type": "execute_result"
    }
   ],
   "source": [
    "dt.application_type.value_counts()"
   ]
  },
  {
   "cell_type": "code",
   "execution_count": 39,
   "metadata": {
    "collapsed": true
   },
   "outputs": [],
   "source": [
    "application_type_dict = {'INDIVIDUAL': 1, 'JOINT': 0}\n",
    "dt[\"application_type\"] = dt.application_type.map(application_type_dict)"
   ]
  },
  {
   "cell_type": "code",
   "execution_count": 40,
   "metadata": {
    "collapsed": true
   },
   "outputs": [],
   "source": [
    "## The others variables wiil be avalute only in Features Selections"
   ]
  },
  {
   "cell_type": "markdown",
   "metadata": {},
   "source": [
    "## Feature Selections"
   ]
  },
  {
   "cell_type": "code",
   "execution_count": 41,
   "metadata": {
    "collapsed": true
   },
   "outputs": [],
   "source": [
    "# For feature selection I am going to start with Adaboost and I am going to use manual selection, too."
   ]
  },
  {
   "cell_type": "code",
   "execution_count": 42,
   "metadata": {},
   "outputs": [
    {
     "name": "stdout",
     "output_type": "stream",
     "text": [
      "<class 'pandas.core.frame.DataFrame'>\n",
      "Int64Index: 150257 entries, 42539 to 887377\n",
      "Data columns (total 45 columns):\n",
      "loan_amnt                      150257 non-null float64\n",
      "funded_amnt                    150257 non-null float64\n",
      "funded_amnt_inv                150257 non-null float64\n",
      "term                           150257 non-null int64\n",
      "int_rate                       150257 non-null float64\n",
      "installment                    150257 non-null float64\n",
      "emp_length                     150257 non-null float64\n",
      "annual_inc                     150257 non-null float64\n",
      "verification_status            150257 non-null int64\n",
      "loan_status                    150257 non-null int64\n",
      "pymnt_plan                     150257 non-null int64\n",
      "dti                            150257 non-null float64\n",
      "delinq_2yrs                    150257 non-null float64\n",
      "earliest_cr_line               150257 non-null int64\n",
      "inq_last_6mths                 150257 non-null float64\n",
      "mths_since_last_delinq         150257 non-null float64\n",
      "open_acc                       150257 non-null float64\n",
      "pub_rec                        150257 non-null float64\n",
      "revol_bal                      150257 non-null float64\n",
      "revol_util                     150257 non-null float64\n",
      "total_acc                      150257 non-null float64\n",
      "initial_list_status            150257 non-null int64\n",
      "out_prncp                      150257 non-null float64\n",
      "out_prncp_inv                  150257 non-null float64\n",
      "total_pymnt                    150257 non-null float64\n",
      "total_pymnt_inv                150257 non-null float64\n",
      "total_rec_prncp                150257 non-null float64\n",
      "total_rec_int                  150257 non-null float64\n",
      "total_rec_late_fee             150257 non-null float64\n",
      "recoveries                     150257 non-null float64\n",
      "collection_recovery_fee        150257 non-null float64\n",
      "last_pymnt_amnt                150257 non-null float64\n",
      "collections_12_mths_ex_med     150257 non-null float64\n",
      "mths_since_last_major_derog    150257 non-null float64\n",
      "policy_code                    150257 non-null float64\n",
      "application_type               150257 non-null int64\n",
      "acc_now_delinq                 150257 non-null float64\n",
      "tot_coll_amt                   150257 non-null float64\n",
      "tot_cur_bal                    150257 non-null float64\n",
      "total_rev_hi_lim               150257 non-null float64\n",
      "sub_grade_en                   150257 non-null int8\n",
      "h_o_mortgage                   150257 non-null uint8\n",
      "h_o_other                      150257 non-null uint8\n",
      "h_o_own                        150257 non-null uint8\n",
      "h_o_rent                       150257 non-null uint8\n",
      "dtypes: float64(33), int64(7), int8(1), uint8(4)\n",
      "memory usage: 47.7 MB\n"
     ]
    }
   ],
   "source": [
    "dt.info()"
   ]
  },
  {
   "cell_type": "code",
   "execution_count": 43,
   "metadata": {
    "collapsed": true
   },
   "outputs": [],
   "source": [
    "dt.to_csv('dt.csv', index=False)"
   ]
  },
  {
   "cell_type": "code",
   "execution_count": 44,
   "metadata": {
    "collapsed": true
   },
   "outputs": [],
   "source": [
    "dt = pd.read_csv('dt.csv')"
   ]
  },
  {
   "cell_type": "code",
   "execution_count": 45,
   "metadata": {},
   "outputs": [
    {
     "data": {
      "text/html": [
       "<div>\n",
       "<style>\n",
       "    .dataframe thead tr:only-child th {\n",
       "        text-align: right;\n",
       "    }\n",
       "\n",
       "    .dataframe thead th {\n",
       "        text-align: left;\n",
       "    }\n",
       "\n",
       "    .dataframe tbody tr th {\n",
       "        vertical-align: top;\n",
       "    }\n",
       "</style>\n",
       "<table border=\"1\" class=\"dataframe\">\n",
       "  <thead>\n",
       "    <tr style=\"text-align: right;\">\n",
       "      <th></th>\n",
       "      <th>loan_amnt</th>\n",
       "      <th>funded_amnt</th>\n",
       "      <th>funded_amnt_inv</th>\n",
       "      <th>term</th>\n",
       "      <th>int_rate</th>\n",
       "      <th>installment</th>\n",
       "      <th>emp_length</th>\n",
       "      <th>annual_inc</th>\n",
       "      <th>verification_status</th>\n",
       "      <th>loan_status</th>\n",
       "      <th>pymnt_plan</th>\n",
       "      <th>dti</th>\n",
       "      <th>delinq_2yrs</th>\n",
       "      <th>earliest_cr_line</th>\n",
       "      <th>inq_last_6mths</th>\n",
       "      <th>mths_since_last_delinq</th>\n",
       "      <th>open_acc</th>\n",
       "      <th>pub_rec</th>\n",
       "      <th>revol_bal</th>\n",
       "      <th>revol_util</th>\n",
       "      <th>total_acc</th>\n",
       "      <th>initial_list_status</th>\n",
       "      <th>out_prncp</th>\n",
       "      <th>out_prncp_inv</th>\n",
       "      <th>total_pymnt</th>\n",
       "      <th>total_pymnt_inv</th>\n",
       "      <th>total_rec_prncp</th>\n",
       "      <th>total_rec_int</th>\n",
       "      <th>total_rec_late_fee</th>\n",
       "      <th>recoveries</th>\n",
       "      <th>collection_recovery_fee</th>\n",
       "      <th>last_pymnt_amnt</th>\n",
       "      <th>collections_12_mths_ex_med</th>\n",
       "      <th>mths_since_last_major_derog</th>\n",
       "      <th>policy_code</th>\n",
       "      <th>application_type</th>\n",
       "      <th>acc_now_delinq</th>\n",
       "      <th>tot_coll_amt</th>\n",
       "      <th>tot_cur_bal</th>\n",
       "      <th>total_rev_hi_lim</th>\n",
       "      <th>sub_grade_en</th>\n",
       "      <th>h_o_mortgage</th>\n",
       "      <th>h_o_other</th>\n",
       "      <th>h_o_own</th>\n",
       "      <th>h_o_rent</th>\n",
       "    </tr>\n",
       "  </thead>\n",
       "  <tbody>\n",
       "    <tr>\n",
       "      <th>0</th>\n",
       "      <td>15000.0</td>\n",
       "      <td>15000.0</td>\n",
       "      <td>15000.0</td>\n",
       "      <td>36</td>\n",
       "      <td>8.90</td>\n",
       "      <td>476.30</td>\n",
       "      <td>2.0</td>\n",
       "      <td>63000.0</td>\n",
       "      <td>0</td>\n",
       "      <td>0</td>\n",
       "      <td>1</td>\n",
       "      <td>16.51</td>\n",
       "      <td>0.0</td>\n",
       "      <td>19</td>\n",
       "      <td>0.0</td>\n",
       "      <td>34.0</td>\n",
       "      <td>8.0</td>\n",
       "      <td>0.0</td>\n",
       "      <td>11431.0</td>\n",
       "      <td>74.2</td>\n",
       "      <td>29.0</td>\n",
       "      <td>1</td>\n",
       "      <td>5449.27</td>\n",
       "      <td>5449.27</td>\n",
       "      <td>11431.20</td>\n",
       "      <td>11431.20</td>\n",
       "      <td>9550.73</td>\n",
       "      <td>1880.47</td>\n",
       "      <td>0.0</td>\n",
       "      <td>0.0</td>\n",
       "      <td>0.0</td>\n",
       "      <td>476.30</td>\n",
       "      <td>0.0</td>\n",
       "      <td>34.0</td>\n",
       "      <td>1.0</td>\n",
       "      <td>1</td>\n",
       "      <td>0.0</td>\n",
       "      <td>1514.0</td>\n",
       "      <td>272492.0</td>\n",
       "      <td>15400.0</td>\n",
       "      <td>4</td>\n",
       "      <td>1</td>\n",
       "      <td>0</td>\n",
       "      <td>0</td>\n",
       "      <td>0</td>\n",
       "    </tr>\n",
       "    <tr>\n",
       "      <th>1</th>\n",
       "      <td>10000.0</td>\n",
       "      <td>10000.0</td>\n",
       "      <td>10000.0</td>\n",
       "      <td>36</td>\n",
       "      <td>9.67</td>\n",
       "      <td>321.13</td>\n",
       "      <td>7.0</td>\n",
       "      <td>102000.0</td>\n",
       "      <td>0</td>\n",
       "      <td>0</td>\n",
       "      <td>1</td>\n",
       "      <td>15.55</td>\n",
       "      <td>2.0</td>\n",
       "      <td>28</td>\n",
       "      <td>0.0</td>\n",
       "      <td>11.0</td>\n",
       "      <td>9.0</td>\n",
       "      <td>0.0</td>\n",
       "      <td>9912.0</td>\n",
       "      <td>44.4</td>\n",
       "      <td>22.0</td>\n",
       "      <td>0</td>\n",
       "      <td>3659.12</td>\n",
       "      <td>3659.12</td>\n",
       "      <td>7706.81</td>\n",
       "      <td>7706.81</td>\n",
       "      <td>6340.88</td>\n",
       "      <td>1365.93</td>\n",
       "      <td>0.0</td>\n",
       "      <td>0.0</td>\n",
       "      <td>0.0</td>\n",
       "      <td>321.13</td>\n",
       "      <td>0.0</td>\n",
       "      <td>54.0</td>\n",
       "      <td>1.0</td>\n",
       "      <td>1</td>\n",
       "      <td>0.0</td>\n",
       "      <td>0.0</td>\n",
       "      <td>39143.0</td>\n",
       "      <td>22300.0</td>\n",
       "      <td>5</td>\n",
       "      <td>1</td>\n",
       "      <td>0</td>\n",
       "      <td>0</td>\n",
       "      <td>0</td>\n",
       "    </tr>\n",
       "    <tr>\n",
       "      <th>2</th>\n",
       "      <td>27600.0</td>\n",
       "      <td>27600.0</td>\n",
       "      <td>27600.0</td>\n",
       "      <td>60</td>\n",
       "      <td>19.97</td>\n",
       "      <td>730.78</td>\n",
       "      <td>6.0</td>\n",
       "      <td>73000.0</td>\n",
       "      <td>1</td>\n",
       "      <td>0</td>\n",
       "      <td>1</td>\n",
       "      <td>23.13</td>\n",
       "      <td>1.0</td>\n",
       "      <td>28</td>\n",
       "      <td>1.0</td>\n",
       "      <td>7.0</td>\n",
       "      <td>10.0</td>\n",
       "      <td>0.0</td>\n",
       "      <td>27003.0</td>\n",
       "      <td>82.8</td>\n",
       "      <td>24.0</td>\n",
       "      <td>0</td>\n",
       "      <td>19671.64</td>\n",
       "      <td>19671.64</td>\n",
       "      <td>17538.17</td>\n",
       "      <td>17538.17</td>\n",
       "      <td>7928.36</td>\n",
       "      <td>9609.81</td>\n",
       "      <td>0.0</td>\n",
       "      <td>0.0</td>\n",
       "      <td>0.0</td>\n",
       "      <td>730.78</td>\n",
       "      <td>0.0</td>\n",
       "      <td>7.0</td>\n",
       "      <td>1.0</td>\n",
       "      <td>1</td>\n",
       "      <td>0.0</td>\n",
       "      <td>0.0</td>\n",
       "      <td>241609.0</td>\n",
       "      <td>32600.0</td>\n",
       "      <td>19</td>\n",
       "      <td>1</td>\n",
       "      <td>0</td>\n",
       "      <td>0</td>\n",
       "      <td>0</td>\n",
       "    </tr>\n",
       "    <tr>\n",
       "      <th>3</th>\n",
       "      <td>11100.0</td>\n",
       "      <td>11100.0</td>\n",
       "      <td>11100.0</td>\n",
       "      <td>36</td>\n",
       "      <td>14.98</td>\n",
       "      <td>384.68</td>\n",
       "      <td>10.0</td>\n",
       "      <td>90000.0</td>\n",
       "      <td>0</td>\n",
       "      <td>0</td>\n",
       "      <td>1</td>\n",
       "      <td>3.73</td>\n",
       "      <td>1.0</td>\n",
       "      <td>16</td>\n",
       "      <td>0.0</td>\n",
       "      <td>16.0</td>\n",
       "      <td>9.0</td>\n",
       "      <td>0.0</td>\n",
       "      <td>6619.0</td>\n",
       "      <td>66.2</td>\n",
       "      <td>12.0</td>\n",
       "      <td>0</td>\n",
       "      <td>4262.60</td>\n",
       "      <td>4262.60</td>\n",
       "      <td>9231.84</td>\n",
       "      <td>9231.84</td>\n",
       "      <td>6837.40</td>\n",
       "      <td>2394.44</td>\n",
       "      <td>0.0</td>\n",
       "      <td>0.0</td>\n",
       "      <td>0.0</td>\n",
       "      <td>384.68</td>\n",
       "      <td>0.0</td>\n",
       "      <td>16.0</td>\n",
       "      <td>1.0</td>\n",
       "      <td>1</td>\n",
       "      <td>0.0</td>\n",
       "      <td>0.0</td>\n",
       "      <td>353402.0</td>\n",
       "      <td>10000.0</td>\n",
       "      <td>12</td>\n",
       "      <td>1</td>\n",
       "      <td>0</td>\n",
       "      <td>0</td>\n",
       "      <td>0</td>\n",
       "    </tr>\n",
       "    <tr>\n",
       "      <th>4</th>\n",
       "      <td>4500.0</td>\n",
       "      <td>4500.0</td>\n",
       "      <td>4500.0</td>\n",
       "      <td>36</td>\n",
       "      <td>19.22</td>\n",
       "      <td>165.46</td>\n",
       "      <td>10.0</td>\n",
       "      <td>105000.0</td>\n",
       "      <td>0</td>\n",
       "      <td>0</td>\n",
       "      <td>1</td>\n",
       "      <td>16.23</td>\n",
       "      <td>1.0</td>\n",
       "      <td>27</td>\n",
       "      <td>0.0</td>\n",
       "      <td>10.0</td>\n",
       "      <td>5.0</td>\n",
       "      <td>0.0</td>\n",
       "      <td>19090.0</td>\n",
       "      <td>93.1</td>\n",
       "      <td>10.0</td>\n",
       "      <td>0</td>\n",
       "      <td>1793.21</td>\n",
       "      <td>1793.21</td>\n",
       "      <td>3970.85</td>\n",
       "      <td>3970.85</td>\n",
       "      <td>2706.79</td>\n",
       "      <td>1264.06</td>\n",
       "      <td>0.0</td>\n",
       "      <td>0.0</td>\n",
       "      <td>0.0</td>\n",
       "      <td>165.46</td>\n",
       "      <td>0.0</td>\n",
       "      <td>33.0</td>\n",
       "      <td>1.0</td>\n",
       "      <td>1</td>\n",
       "      <td>0.0</td>\n",
       "      <td>0.0</td>\n",
       "      <td>40100.0</td>\n",
       "      <td>20500.0</td>\n",
       "      <td>18</td>\n",
       "      <td>0</td>\n",
       "      <td>0</td>\n",
       "      <td>0</td>\n",
       "      <td>1</td>\n",
       "    </tr>\n",
       "  </tbody>\n",
       "</table>\n",
       "</div>"
      ],
      "text/plain": [
       "   loan_amnt  funded_amnt  funded_amnt_inv  term  int_rate  installment  \\\n",
       "0    15000.0      15000.0          15000.0    36      8.90       476.30   \n",
       "1    10000.0      10000.0          10000.0    36      9.67       321.13   \n",
       "2    27600.0      27600.0          27600.0    60     19.97       730.78   \n",
       "3    11100.0      11100.0          11100.0    36     14.98       384.68   \n",
       "4     4500.0       4500.0           4500.0    36     19.22       165.46   \n",
       "\n",
       "   emp_length  annual_inc  verification_status  loan_status  pymnt_plan  \\\n",
       "0         2.0     63000.0                    0            0           1   \n",
       "1         7.0    102000.0                    0            0           1   \n",
       "2         6.0     73000.0                    1            0           1   \n",
       "3        10.0     90000.0                    0            0           1   \n",
       "4        10.0    105000.0                    0            0           1   \n",
       "\n",
       "     dti  delinq_2yrs  earliest_cr_line  inq_last_6mths  \\\n",
       "0  16.51          0.0                19             0.0   \n",
       "1  15.55          2.0                28             0.0   \n",
       "2  23.13          1.0                28             1.0   \n",
       "3   3.73          1.0                16             0.0   \n",
       "4  16.23          1.0                27             0.0   \n",
       "\n",
       "   mths_since_last_delinq  open_acc  pub_rec  revol_bal  revol_util  \\\n",
       "0                    34.0       8.0      0.0    11431.0        74.2   \n",
       "1                    11.0       9.0      0.0     9912.0        44.4   \n",
       "2                     7.0      10.0      0.0    27003.0        82.8   \n",
       "3                    16.0       9.0      0.0     6619.0        66.2   \n",
       "4                    10.0       5.0      0.0    19090.0        93.1   \n",
       "\n",
       "   total_acc  initial_list_status  out_prncp  out_prncp_inv  total_pymnt  \\\n",
       "0       29.0                    1    5449.27        5449.27     11431.20   \n",
       "1       22.0                    0    3659.12        3659.12      7706.81   \n",
       "2       24.0                    0   19671.64       19671.64     17538.17   \n",
       "3       12.0                    0    4262.60        4262.60      9231.84   \n",
       "4       10.0                    0    1793.21        1793.21      3970.85   \n",
       "\n",
       "   total_pymnt_inv  total_rec_prncp  total_rec_int  total_rec_late_fee  \\\n",
       "0         11431.20          9550.73        1880.47                 0.0   \n",
       "1          7706.81          6340.88        1365.93                 0.0   \n",
       "2         17538.17          7928.36        9609.81                 0.0   \n",
       "3          9231.84          6837.40        2394.44                 0.0   \n",
       "4          3970.85          2706.79        1264.06                 0.0   \n",
       "\n",
       "   recoveries  collection_recovery_fee  last_pymnt_amnt  \\\n",
       "0         0.0                      0.0           476.30   \n",
       "1         0.0                      0.0           321.13   \n",
       "2         0.0                      0.0           730.78   \n",
       "3         0.0                      0.0           384.68   \n",
       "4         0.0                      0.0           165.46   \n",
       "\n",
       "   collections_12_mths_ex_med  mths_since_last_major_derog  policy_code  \\\n",
       "0                         0.0                         34.0          1.0   \n",
       "1                         0.0                         54.0          1.0   \n",
       "2                         0.0                          7.0          1.0   \n",
       "3                         0.0                         16.0          1.0   \n",
       "4                         0.0                         33.0          1.0   \n",
       "\n",
       "   application_type  acc_now_delinq  tot_coll_amt  tot_cur_bal  \\\n",
       "0                 1             0.0        1514.0     272492.0   \n",
       "1                 1             0.0           0.0      39143.0   \n",
       "2                 1             0.0           0.0     241609.0   \n",
       "3                 1             0.0           0.0     353402.0   \n",
       "4                 1             0.0           0.0      40100.0   \n",
       "\n",
       "   total_rev_hi_lim  sub_grade_en  h_o_mortgage  h_o_other  h_o_own  h_o_rent  \n",
       "0           15400.0             4             1          0        0         0  \n",
       "1           22300.0             5             1          0        0         0  \n",
       "2           32600.0            19             1          0        0         0  \n",
       "3           10000.0            12             1          0        0         0  \n",
       "4           20500.0            18             0          0        0         1  "
      ]
     },
     "execution_count": 45,
     "metadata": {},
     "output_type": "execute_result"
    }
   ],
   "source": [
    "dt.head()"
   ]
  },
  {
   "cell_type": "code",
   "execution_count": 46,
   "metadata": {
    "collapsed": true
   },
   "outputs": [],
   "source": [
    "#Assign features to variable X\n",
    "Xi = dt.drop(\"loan_status\", axis = 1)\n",
    "#Assign target column to variable y\n",
    "y = dt.loan_status"
   ]
  },
  {
   "cell_type": "code",
   "execution_count": 47,
   "metadata": {},
   "outputs": [
    {
     "name": "stdout",
     "output_type": "stream",
     "text": [
      "{'n_estimators': 100}\n"
     ]
    }
   ],
   "source": [
    "#Grid AdaBoot\n",
    "n_estimators_range = range(50, 200, 50)\n",
    "param_grid_dt = {}\n",
    "param_grid_dt[\"n_estimators\"] = n_estimators_range\n",
    "grid_dt = GridSearchCV(estimator = AdaBoostClassifier(), \n",
    "                        param_grid = param_grid_dt, cv = 5, scoring = \"accuracy\")\n",
    "grid_dt.fit(Xi, y)\n",
    "print grid_dt.best_params_"
   ]
  },
  {
   "cell_type": "code",
   "execution_count": 48,
   "metadata": {},
   "outputs": [
    {
     "data": {
      "text/plain": [
       "[(0.13, 'total_rec_int'),\n",
       " (0.12, 'int_rate'),\n",
       " (0.089999999999999997, 'sub_grade_en'),\n",
       " (0.080000000000000002, 'total_rec_prncp'),\n",
       " (0.070000000000000007, 'last_pymnt_amnt'),\n",
       " (0.059999999999999998, 'dti'),\n",
       " (0.050000000000000003, 'out_prncp'),\n",
       " (0.040000000000000001, 'total_acc'),\n",
       " (0.040000000000000001, 'total_rev_hi_lim'),\n",
       " (0.029999999999999999, 'installment'),\n",
       " (0.029999999999999999, 'open_acc'),\n",
       " (0.029999999999999999, 'revol_util'),\n",
       " (0.029999999999999999, 'out_prncp_inv'),\n",
       " (0.02, 'funded_amnt_inv'),\n",
       " (0.02, 'term'),\n",
       " (0.02, 'mths_since_last_delinq'),\n",
       " (0.02, 'revol_bal'),\n",
       " (0.02, 'total_rec_late_fee'),\n",
       " (0.02, 'mths_since_last_major_derog'),\n",
       " (0.01, 'emp_length'),\n",
       " (0.01, 'annual_inc'),\n",
       " (0.01, 'earliest_cr_line'),\n",
       " (0.01, 'inq_last_6mths'),\n",
       " (0.01, 'initial_list_status'),\n",
       " (0.01, 'tot_coll_amt'),\n",
       " (0.01, 'tot_cur_bal'),\n",
       " (0.01, 'h_o_mortgage'),\n",
       " (0.0, 'loan_amnt'),\n",
       " (0.0, 'funded_amnt'),\n",
       " (0.0, 'verification_status'),\n",
       " (0.0, 'pymnt_plan'),\n",
       " (0.0, 'delinq_2yrs'),\n",
       " (0.0, 'pub_rec'),\n",
       " (0.0, 'total_pymnt'),\n",
       " (0.0, 'total_pymnt_inv'),\n",
       " (0.0, 'recoveries'),\n",
       " (0.0, 'collection_recovery_fee'),\n",
       " (0.0, 'collections_12_mths_ex_med'),\n",
       " (0.0, 'policy_code'),\n",
       " (0.0, 'application_type'),\n",
       " (0.0, 'acc_now_delinq'),\n",
       " (0.0, 'h_o_other'),\n",
       " (0.0, 'h_o_own'),\n",
       " (0.0, 'h_o_rent')]"
      ]
     },
     "execution_count": 48,
     "metadata": {},
     "output_type": "execute_result"
    }
   ],
   "source": [
    "# Adaboost\n",
    "ada = AdaBoostClassifier(n_estimators=100)\n",
    "ada.fit(Xi,y)\n",
    "y_pred = ada.predict(Xi)\n",
    "importances = sorted(zip(ada.feature_importances_, Xi), key = lambda x: x[0], reverse = True)\n",
    "importances"
   ]
  },
  {
   "cell_type": "code",
   "execution_count": 49,
   "metadata": {
    "collapsed": true
   },
   "outputs": [],
   "source": [
    "importances = sorted(zip(ada.feature_importances_, Xi), key = lambda x: x[0], reverse = True)\n",
    "lista = [elem[1] for elem in importances]"
   ]
  },
  {
   "cell_type": "code",
   "execution_count": 50,
   "metadata": {},
   "outputs": [
    {
     "data": {
      "image/png": "[encoded data removed]",
      "text/plain": [
       "<matplotlib.figure.Figure at 0x115686790>"
      ]
     },
     "metadata": {},
     "output_type": "display_data"
    }
   ],
   "source": [
    "label = []\n",
    "val = []\n",
    "for i, elem in importances[:27]:\n",
    "    label.append(elem)\n",
    "    val.append(i)\n",
    "        \n",
    "label_ = label\n",
    "pos = range(1,len(importances[:27])+1)\n",
    "colors = ['deepskyblue', 'rosybrown', 'darksalmon', 'yellowgreen', 'tan', 'firebrick', 'moccasin', 'olive', \n",
    "          'grey', 'silver', 'yellow', 'green', 'red']\n",
    "          \n",
    "w = 0.8\n",
    "\n",
    "#Matplotlib\n",
    "plt.figure(figsize = (15,10))\n",
    "plt.barh(pos, width=val, height=w, color = colors, tick_label = label_,  align=\"center\")\n",
    "plt.ylabel(\"Importances\")\n",
    "plt.xticks(rotation=0, size=\"xx-small\")\n",
    "plt.xlabel(\"Features\")\n",
    "plt.title(\"Features Importances\")\n",
    "plt.show()\n"
   ]
  },
  {
   "cell_type": "code",
   "execution_count": 51,
   "metadata": {
    "collapsed": true
   },
   "outputs": [],
   "source": [
    "# I am going to drop variables that the feature importances are 0.0.\n",
    "dp = ['loan_amnt',\n",
    "    'funded_amnt',\n",
    "    'verification_status',\n",
    "    'pymnt_plan',\n",
    "    'delinq_2yrs',\n",
    "    'pub_rec',\n",
    "    'total_pymnt',\n",
    "    'total_pymnt_inv',\n",
    "    'recoveries',\n",
    "    'collection_recovery_fee',\n",
    "    'collections_12_mths_ex_med',\n",
    "    'policy_code',\n",
    "    'application_type',\n",
    "    'acc_now_delinq',\n",
    "    'h_o_other',\n",
    "    'h_o_own',\n",
    "    'h_o_rent']\n",
    "dt.drop(dp, axis=1, inplace=True)"
   ]
  },
  {
   "cell_type": "code",
   "execution_count": 52,
   "metadata": {},
   "outputs": [
    {
     "data": {
      "text/plain": [
       "(150257, 28)"
      ]
     },
     "execution_count": 52,
     "metadata": {},
     "output_type": "execute_result"
    }
   ],
   "source": [
    "dt.shape"
   ]
  },
  {
   "cell_type": "code",
   "execution_count": 53,
   "metadata": {
    "collapsed": true
   },
   "outputs": [],
   "source": [
    "#Assign features to variable X\n",
    "Xi = dt.drop(\"loan_status\", axis=1)\n",
    "#Assign target column to variable y\n",
    "y = dt.loan_status"
   ]
  },
  {
   "cell_type": "code",
   "execution_count": 54,
   "metadata": {
    "collapsed": true
   },
   "outputs": [],
   "source": [
    "ss = StandardScaler()\n",
    "X = ss.fit_transform(Xi)"
   ]
  },
  {
   "cell_type": "code",
   "execution_count": 55,
   "metadata": {
    "collapsed": true
   },
   "outputs": [],
   "source": [
    "pca = PCA(n_components=2) \n",
    "X = pca.fit_transform(X)"
   ]
  },
  {
   "cell_type": "code",
   "execution_count": 56,
   "metadata": {},
   "outputs": [
    {
     "data": {
      "text/plain": [
       "0    97.351205\n",
       "1     2.648795\n",
       "Name: loan_status, dtype: float64"
      ]
     },
     "execution_count": 56,
     "metadata": {},
     "output_type": "execute_result"
    }
   ],
   "source": [
    "#Null accuracy\n",
    "y.value_counts(normalize=True)*100"
   ]
  },
  {
   "cell_type": "code",
   "execution_count": 57,
   "metadata": {
    "collapsed": true
   },
   "outputs": [],
   "source": [
    "X_train, X_test, y_train, y_test = train_test_split(X, y, test_size=0.25, random_state=0)"
   ]
  },
  {
   "cell_type": "code",
   "execution_count": 58,
   "metadata": {},
   "outputs": [
    {
     "data": {
      "text/plain": [
       "2"
      ]
     },
     "execution_count": 58,
     "metadata": {},
     "output_type": "execute_result"
    }
   ],
   "source": [
    "X.shape[1]"
   ]
  },
  {
   "cell_type": "code",
   "execution_count": 59,
   "metadata": {
    "collapsed": true
   },
   "outputs": [],
   "source": [
    "target_names =[\"Good Loans (0)\", \"Good Loans (1)\"]"
   ]
  },
  {
   "cell_type": "code",
   "execution_count": 60,
   "metadata": {},
   "outputs": [
    {
     "name": "stdout",
     "output_type": "stream",
     "text": [
      "Distribution of class labels before resampling Counter({0: 109697, 1: 2995})\n",
      "Distribution of class labels after resampling Counter({0: 5990, 1: 2995})\n"
     ]
    }
   ],
   "source": [
    "n1 = \"Random undersampling of majority class\"\n",
    "us = RandomUnderSampler(ratio=0.5, random_state=1) \n",
    "X_train_res, y_train_res = us.fit_sample(X_train, y_train)\n",
    "print \"Distribution of class labels before resampling {}\".format(Counter(y_train)) \n",
    "print \"Distribution of class labels after resampling {}\".format(Counter(y_train_res))"
   ]
  },
  {
   "cell_type": "code",
   "execution_count": 61,
   "metadata": {},
   "outputs": [
    {
     "name": "stdout",
     "output_type": "stream",
     "text": [
      "Accuracy: 0.97 (+/- 0.00)\n",
      "\n",
      "             precision    recall  f1-score   support\n",
      "\n",
      "          0       0.98      0.86      0.91     36580\n",
      "          1       0.04      0.22      0.07       985\n",
      "\n",
      "avg / total       0.95      0.84      0.89     37565\n",
      "\n",
      "[[31483  5097]\n",
      " [  768   217]]\n"
     ]
    }
   ],
   "source": [
    "#Random Forest\n",
    "n_estimators_range = range(1, 50)\n",
    "param_grid_dt = {}\n",
    "param_grid_dt[\"n_estimators\"] = n_estimators_range\n",
    "grid_dt = GridSearchCV(estimator = RandomForestClassifier(), \n",
    "                        param_grid = param_grid_dt, cv = 5, scoring = \"accuracy\")\n",
    "grid_dt.fit(X_train_res, y_train_res)\n",
    "rf = RandomForestClassifier(n_estimators=grid_dt.best_params_['n_estimators'])\n",
    "rf.fit(X_train_res,y_train_res)\n",
    "y_pred = rf.predict(X_test)                \n",
    "scores = cross_val_score(rf, X_test, y_test, cv=5)\n",
    "print \"Accuracy: %0.2f (+/- %0.2f)\\n\" % (scores.mean(), scores.std() * 2)\n",
    "print classification_report(y_test, y_pred)\n",
    "print confusion_matrix(y_test, y_pred)\n"
   ]
  },
  {
   "cell_type": "code",
   "execution_count": 62,
   "metadata": {},
   "outputs": [
    {
     "data": {
      "text/html": [
       "<div>\n",
       "<style>\n",
       "    .dataframe thead tr:only-child th {\n",
       "        text-align: right;\n",
       "    }\n",
       "\n",
       "    .dataframe thead th {\n",
       "        text-align: left;\n",
       "    }\n",
       "\n",
       "    .dataframe tbody tr th {\n",
       "        vertical-align: top;\n",
       "    }\n",
       "</style>\n",
       "<table border=\"1\" class=\"dataframe\">\n",
       "  <thead>\n",
       "    <tr style=\"text-align: right;\">\n",
       "      <th></th>\n",
       "      <th></th>\n",
       "      <th>pred0</th>\n",
       "      <th></th>\n",
       "      <th>pred1</th>\n",
       "      <th>total</th>\n",
       "    </tr>\n",
       "  </thead>\n",
       "  <tbody>\n",
       "    <tr>\n",
       "      <th>corr0</th>\n",
       "      <td>TN</td>\n",
       "      <td>31483</td>\n",
       "      <td>FP</td>\n",
       "      <td>5097</td>\n",
       "      <td>36580</td>\n",
       "    </tr>\n",
       "    <tr>\n",
       "      <th>corr1</th>\n",
       "      <td>FN</td>\n",
       "      <td>768</td>\n",
       "      <td>TP</td>\n",
       "      <td>217</td>\n",
       "      <td>985</td>\n",
       "    </tr>\n",
       "    <tr>\n",
       "      <th>total</th>\n",
       "      <td></td>\n",
       "      <td>32251</td>\n",
       "      <td></td>\n",
       "      <td>5314</td>\n",
       "      <td>37565</td>\n",
       "    </tr>\n",
       "  </tbody>\n",
       "</table>\n",
       "</div>"
      ],
      "text/plain": [
       "           pred0     pred1  total\n",
       "corr0  TN  31483  FP  5097  36580\n",
       "corr1  FN    768  TP   217    985\n",
       "total      32251      5314  37565"
      ]
     },
     "execution_count": 62,
     "metadata": {},
     "output_type": "execute_result"
    }
   ],
   "source": [
    "cm = confusion_matrix(y_test, y_pred)\n",
    "TP = cm[1, 1]\n",
    "TN = cm[0, 0]\n",
    "FP = cm[0, 1]\n",
    "FN = cm[1, 0]\n",
    "tot_a_1 = TN + FP\n",
    "tot_a_2 = FN + TP\n",
    "tot_p_1 = TN + FN\n",
    "tot_p_2 = FP + TP\n",
    "tot_g = tot_a_1+tot_a_2\n",
    "mx =np.array([\"TN\",TN,\"FP\",FP,tot_a_1,\"FN\",FN,\"TP\", TP, tot_a_2,\"\", tot_p_1,\"\", tot_p_2, tot_g]).reshape(3,5)\n",
    "cols = [\" \",\"pred0\", \" \", \"pred1\",  \"total\"]\n",
    "index = [\"corr0\", \"corr1\", \"total\"]\n",
    "cm_df = pd.DataFrame(mx, columns=cols, index=index )\n",
    "cm_df"
   ]
  },
  {
   "cell_type": "code",
   "execution_count": 63,
   "metadata": {},
   "outputs": [
    {
     "data": {
      "text/html": [
       "<div>\n",
       "<style>\n",
       "    .dataframe thead tr:only-child th {\n",
       "        text-align: right;\n",
       "    }\n",
       "\n",
       "    .dataframe thead th {\n",
       "        text-align: left;\n",
       "    }\n",
       "\n",
       "    .dataframe tbody tr th {\n",
       "        vertical-align: top;\n",
       "    }\n",
       "</style>\n",
       "<table border=\"1\" class=\"dataframe\">\n",
       "  <thead>\n",
       "    <tr style=\"text-align: right;\">\n",
       "      <th></th>\n",
       "      <th>Precision on 0</th>\n",
       "      <th>Recall on 1</th>\n",
       "    </tr>\n",
       "  </thead>\n",
       "  <tbody>\n",
       "    <tr>\n",
       "      <th>Random undersampling of majority class</th>\n",
       "      <td>[0.98]</td>\n",
       "      <td>[0.22]</td>\n",
       "    </tr>\n",
       "  </tbody>\n",
       "</table>\n",
       "</div>"
      ],
      "text/plain": [
       "                                       Precision on 0 Recall on 1\n",
       "Random undersampling of majority class         [0.98]      [0.22]"
      ]
     },
     "execution_count": 63,
     "metadata": {},
     "output_type": "execute_result"
    }
   ],
   "source": [
    "report = classification_report(y_test,y_pred)\n",
    "lines = report.split()\n",
    "p_r_ = []\n",
    "cr = []\n",
    "for line in lines:\n",
    "    row_data = line.split()\n",
    "    cr.append(row_data)\n",
    "p_r_.append((cr[5], cr[11]))\n",
    "\n",
    "cols = [\"Precision on 0\", \"Recall on 1\"]\n",
    "index = [n1]\n",
    "report = pd.DataFrame(p_r_, columns=cols, index=index)\n",
    "report\n"
   ]
  },
  {
   "cell_type": "markdown",
   "metadata": {},
   "source": [
    "print round(23753/float(23753+396),2)\n",
    "print round(589/float(589+396),2)"
   ]
  },
  {
   "cell_type": "code",
   "execution_count": 64,
   "metadata": {},
   "outputs": [
    {
     "name": "stderr",
     "output_type": "stream",
     "text": [
      "/Users/anapaulavarejao/anaconda2/lib/python2.7/site-packages/imblearn/utils/deprecation.py:50: DeprecationWarning: 'size_ngh' is deprecated from 0.2 and will be removed in 0.4. Use 'n_neighbors' instead.\n",
      "  category=DeprecationWarning)\n"
     ]
    },
    {
     "name": "stdout",
     "output_type": "stream",
     "text": [
      "Distribution of class labels before resampling Counter({0: 109697, 1: 2995})\n",
      "Distribution of class labels after resampling Counter({0: 5990, 1: 2995})\n"
     ]
    }
   ],
   "source": [
    "n2 = \"Near Miss 1\"\n",
    "us = NearMiss(ratio=0.5, size_ngh=3, version=1, random_state=1) \n",
    "X_train_res, y_train_res = us.fit_sample(X_train, y_train)\n",
    "print \"Distribution of class labels before resampling {}\".format(Counter(y_train)) \n",
    "print \"Distribution of class labels after resampling {}\".format(Counter(y_train_res))"
   ]
  },
  {
   "cell_type": "code",
   "execution_count": 65,
   "metadata": {},
   "outputs": [
    {
     "name": "stdout",
     "output_type": "stream",
     "text": [
      "Accuracy: 0.97 (+/- 0.00)\n",
      "\n",
      "             precision    recall  f1-score   support\n",
      "\n",
      "          0       0.97      0.28      0.44     36580\n",
      "          1       0.03      0.72      0.05       985\n",
      "\n",
      "avg / total       0.95      0.29      0.43     37565\n",
      "\n",
      "[[10305 26275]\n",
      " [  278   707]]\n"
     ]
    }
   ],
   "source": [
    "#Random Forest\n",
    "n_estimators_range = range(1, 50)\n",
    "param_grid_dt = {}\n",
    "param_grid_dt[\"n_estimators\"] = n_estimators_range\n",
    "grid_dt = GridSearchCV(estimator = RandomForestClassifier(), \n",
    "                        param_grid = param_grid_dt, cv = 5, scoring = \"accuracy\")\n",
    "grid_dt.fit(X_train_res, y_train_res)\n",
    "rf = RandomForestClassifier(n_estimators=grid_dt.best_params_['n_estimators'])\n",
    "rf.fit(X_train_res,y_train_res)\n",
    "y_pred = rf.predict(X_test)                \n",
    "scores = cross_val_score(rf, X_test, y_test, cv=5)\n",
    "print \"Accuracy: %0.2f (+/- %0.2f)\\n\" % (scores.mean(), scores.std() * 2)\n",
    "print classification_report(y_test, y_pred)\n",
    "print confusion_matrix(y_test, y_pred)\n"
   ]
  },
  {
   "cell_type": "code",
   "execution_count": 66,
   "metadata": {},
   "outputs": [
    {
     "data": {
      "text/html": [
       "<div>\n",
       "<style>\n",
       "    .dataframe thead tr:only-child th {\n",
       "        text-align: right;\n",
       "    }\n",
       "\n",
       "    .dataframe thead th {\n",
       "        text-align: left;\n",
       "    }\n",
       "\n",
       "    .dataframe tbody tr th {\n",
       "        vertical-align: top;\n",
       "    }\n",
       "</style>\n",
       "<table border=\"1\" class=\"dataframe\">\n",
       "  <thead>\n",
       "    <tr style=\"text-align: right;\">\n",
       "      <th></th>\n",
       "      <th></th>\n",
       "      <th>pred0</th>\n",
       "      <th></th>\n",
       "      <th>pred1</th>\n",
       "      <th>total</th>\n",
       "    </tr>\n",
       "  </thead>\n",
       "  <tbody>\n",
       "    <tr>\n",
       "      <th>corr0</th>\n",
       "      <td>TN</td>\n",
       "      <td>10305</td>\n",
       "      <td>FP</td>\n",
       "      <td>26275</td>\n",
       "      <td>36580</td>\n",
       "    </tr>\n",
       "    <tr>\n",
       "      <th>corr1</th>\n",
       "      <td>FN</td>\n",
       "      <td>278</td>\n",
       "      <td>TP</td>\n",
       "      <td>707</td>\n",
       "      <td>985</td>\n",
       "    </tr>\n",
       "    <tr>\n",
       "      <th>total</th>\n",
       "      <td></td>\n",
       "      <td>10583</td>\n",
       "      <td></td>\n",
       "      <td>26982</td>\n",
       "      <td>37565</td>\n",
       "    </tr>\n",
       "  </tbody>\n",
       "</table>\n",
       "</div>"
      ],
      "text/plain": [
       "           pred0      pred1  total\n",
       "corr0  TN  10305  FP  26275  36580\n",
       "corr1  FN    278  TP    707    985\n",
       "total      10583      26982  37565"
      ]
     },
     "execution_count": 66,
     "metadata": {},
     "output_type": "execute_result"
    }
   ],
   "source": [
    "cm = confusion_matrix(y_test, y_pred)\n",
    "TP = cm[1, 1]\n",
    "TN = cm[0, 0]\n",
    "FP = cm[0, 1]\n",
    "FN = cm[1, 0]\n",
    "tot_a_1 = TN + FP\n",
    "tot_a_2 = FN + TP\n",
    "tot_p_1 = TN + FN\n",
    "tot_p_2 = FP + TP\n",
    "tot_g = tot_a_1+tot_a_2\n",
    "mx =np.array([\"TN\",TN,\"FP\",FP,tot_a_1,\"FN\",FN,\"TP\", TP, tot_a_2,\"\", tot_p_1,\"\", tot_p_2, tot_g]).reshape(3,5)\n",
    "cols = [\" \",\"pred0\", \" \", \"pred1\",  \"total\"]\n",
    "index = [\"corr0\", \"corr1\", \"total\"]\n",
    "cm_df = pd.DataFrame(mx, columns=cols, index=index )\n",
    "cm_df"
   ]
  },
  {
   "cell_type": "code",
   "execution_count": 67,
   "metadata": {},
   "outputs": [
    {
     "data": {
      "text/html": [
       "<div>\n",
       "<style>\n",
       "    .dataframe thead tr:only-child th {\n",
       "        text-align: right;\n",
       "    }\n",
       "\n",
       "    .dataframe thead th {\n",
       "        text-align: left;\n",
       "    }\n",
       "\n",
       "    .dataframe tbody tr th {\n",
       "        vertical-align: top;\n",
       "    }\n",
       "</style>\n",
       "<table border=\"1\" class=\"dataframe\">\n",
       "  <thead>\n",
       "    <tr style=\"text-align: right;\">\n",
       "      <th></th>\n",
       "      <th>Precision on 0</th>\n",
       "      <th>Recall on 1</th>\n",
       "    </tr>\n",
       "  </thead>\n",
       "  <tbody>\n",
       "    <tr>\n",
       "      <th>Random undersampling of majority class</th>\n",
       "      <td>[0.98]</td>\n",
       "      <td>[0.22]</td>\n",
       "    </tr>\n",
       "    <tr>\n",
       "      <th>Near Miss 1</th>\n",
       "      <td>[0.97]</td>\n",
       "      <td>[0.72]</td>\n",
       "    </tr>\n",
       "  </tbody>\n",
       "</table>\n",
       "</div>"
      ],
      "text/plain": [
       "                                       Precision on 0 Recall on 1\n",
       "Random undersampling of majority class         [0.98]      [0.22]\n",
       "Near Miss 1                                    [0.97]      [0.72]"
      ]
     },
     "execution_count": 67,
     "metadata": {},
     "output_type": "execute_result"
    }
   ],
   "source": [
    "report = classification_report(y_test,y_pred)\n",
    "lines = report.split()\n",
    "cr = []\n",
    "for line in lines:\n",
    "    row_data = line.split()\n",
    "    cr.append(row_data)\n",
    "p_r_.append((cr[5], cr[11]))\n",
    "cols = [\"Precision on 0\", \"Recall on 1\"]\n",
    "index = [n1, n2]\n",
    "report = pd.DataFrame(p_r_, columns=cols, index=index)\n",
    "report\n"
   ]
  },
  {
   "cell_type": "code",
   "execution_count": 68,
   "metadata": {},
   "outputs": [
    {
     "name": "stderr",
     "output_type": "stream",
     "text": [
      "/Users/anapaulavarejao/anaconda2/lib/python2.7/site-packages/imblearn/utils/deprecation.py:50: DeprecationWarning: 'size_ngh' is deprecated from 0.2 and will be removed in 0.4. Use 'n_neighbors' instead.\n",
      "  category=DeprecationWarning)\n"
     ]
    },
    {
     "name": "stdout",
     "output_type": "stream",
     "text": [
      "Distribution of class labels before resampling Counter({0: 109697, 1: 2995})\n",
      "Distribution of class labels after resampling Counter({0: 5990, 1: 2995})\n"
     ]
    }
   ],
   "source": [
    "n3 = \"Near Miss 2\"\n",
    "us = NearMiss(ratio=0.5, size_ngh=3, version=2, random_state=1) \n",
    "X_train_res, y_train_res = us.fit_sample(X_train, y_train)\n",
    "print \"Distribution of class labels before resampling {}\".format(Counter(y_train)) \n",
    "print \"Distribution of class labels after resampling {}\".format(Counter(y_train_res))"
   ]
  },
  {
   "cell_type": "code",
   "execution_count": 69,
   "metadata": {},
   "outputs": [
    {
     "name": "stdout",
     "output_type": "stream",
     "text": [
      "Accuracy: 0.97 (+/- 0.00)\n",
      "\n",
      "             precision    recall  f1-score   support\n",
      "\n",
      "          0       0.98      0.07      0.13     36580\n",
      "          1       0.03      0.96      0.05       985\n",
      "\n",
      "avg / total       0.96      0.09      0.12     37565\n",
      "\n",
      "[[ 2445 34135]\n",
      " [   42   943]]\n"
     ]
    }
   ],
   "source": [
    "#Random Forest\n",
    "n_estimators_range = range(1, 50)\n",
    "param_grid_dt = {}\n",
    "param_grid_dt[\"n_estimators\"] = n_estimators_range\n",
    "grid_dt = GridSearchCV(estimator = RandomForestClassifier(), \n",
    "                        param_grid = param_grid_dt, cv = 5, scoring = \"accuracy\")\n",
    "grid_dt.fit(X_train_res, y_train_res)\n",
    "rf = RandomForestClassifier(n_estimators=grid_dt.best_params_['n_estimators'])\n",
    "rf.fit(X_train_res,y_train_res)\n",
    "y_pred = rf.predict(X_test)                \n",
    "scores = cross_val_score(rf, X_test, y_test, cv=5)\n",
    "print \"Accuracy: %0.2f (+/- %0.2f)\\n\" % (scores.mean(), scores.std() * 2)\n",
    "print classification_report(y_test, y_pred)\n",
    "print confusion_matrix(y_test, y_pred)\n",
    "\n"
   ]
  },
  {
   "cell_type": "code",
   "execution_count": 70,
   "metadata": {},
   "outputs": [
    {
     "data": {
      "text/html": [
       "<div>\n",
       "<style>\n",
       "    .dataframe thead tr:only-child th {\n",
       "        text-align: right;\n",
       "    }\n",
       "\n",
       "    .dataframe thead th {\n",
       "        text-align: left;\n",
       "    }\n",
       "\n",
       "    .dataframe tbody tr th {\n",
       "        vertical-align: top;\n",
       "    }\n",
       "</style>\n",
       "<table border=\"1\" class=\"dataframe\">\n",
       "  <thead>\n",
       "    <tr style=\"text-align: right;\">\n",
       "      <th></th>\n",
       "      <th></th>\n",
       "      <th>pred0</th>\n",
       "      <th></th>\n",
       "      <th>pred1</th>\n",
       "      <th>total</th>\n",
       "    </tr>\n",
       "  </thead>\n",
       "  <tbody>\n",
       "    <tr>\n",
       "      <th>corr0</th>\n",
       "      <td>TN</td>\n",
       "      <td>2445</td>\n",
       "      <td>FP</td>\n",
       "      <td>34135</td>\n",
       "      <td>36580</td>\n",
       "    </tr>\n",
       "    <tr>\n",
       "      <th>corr1</th>\n",
       "      <td>FN</td>\n",
       "      <td>42</td>\n",
       "      <td>TP</td>\n",
       "      <td>943</td>\n",
       "      <td>985</td>\n",
       "    </tr>\n",
       "    <tr>\n",
       "      <th>total</th>\n",
       "      <td></td>\n",
       "      <td>2487</td>\n",
       "      <td></td>\n",
       "      <td>35078</td>\n",
       "      <td>37565</td>\n",
       "    </tr>\n",
       "  </tbody>\n",
       "</table>\n",
       "</div>"
      ],
      "text/plain": [
       "          pred0      pred1  total\n",
       "corr0  TN  2445  FP  34135  36580\n",
       "corr1  FN    42  TP    943    985\n",
       "total      2487      35078  37565"
      ]
     },
     "execution_count": 70,
     "metadata": {},
     "output_type": "execute_result"
    }
   ],
   "source": [
    "cm = confusion_matrix(y_test, y_pred)\n",
    "TP = cm[1, 1]\n",
    "TN = cm[0, 0]\n",
    "FP = cm[0, 1]\n",
    "FN = cm[1, 0]\n",
    "tot_a_1 = TN + FP\n",
    "tot_a_2 = FN + TP\n",
    "tot_p_1 = TN + FN\n",
    "tot_p_2 = FP + TP\n",
    "tot_g = tot_a_1+tot_a_2\n",
    "mx =np.array([\"TN\",TN,\"FP\",FP,tot_a_1,\"FN\",FN,\"TP\", TP, tot_a_2,\"\", tot_p_1,\"\", tot_p_2, tot_g]).reshape(3,5)\n",
    "cols = [\" \",\"pred0\", \" \", \"pred1\",  \"total\"]\n",
    "index = [\"corr0\", \"corr1\", \"total\"]\n",
    "cm_df = pd.DataFrame(mx, columns=cols, index=index )\n",
    "cm_df"
   ]
  },
  {
   "cell_type": "code",
   "execution_count": null,
   "metadata": {
    "collapsed": true
   },
   "outputs": [],
   "source": []
  },
  {
   "cell_type": "code",
   "execution_count": 71,
   "metadata": {},
   "outputs": [
    {
     "data": {
      "text/html": [
       "<div>\n",
       "<style>\n",
       "    .dataframe thead tr:only-child th {\n",
       "        text-align: right;\n",
       "    }\n",
       "\n",
       "    .dataframe thead th {\n",
       "        text-align: left;\n",
       "    }\n",
       "\n",
       "    .dataframe tbody tr th {\n",
       "        vertical-align: top;\n",
       "    }\n",
       "</style>\n",
       "<table border=\"1\" class=\"dataframe\">\n",
       "  <thead>\n",
       "    <tr style=\"text-align: right;\">\n",
       "      <th></th>\n",
       "      <th>Precision on 0</th>\n",
       "      <th>Recall on 1</th>\n",
       "    </tr>\n",
       "  </thead>\n",
       "  <tbody>\n",
       "    <tr>\n",
       "      <th>Random undersampling of majority class</th>\n",
       "      <td>[0.98]</td>\n",
       "      <td>[0.22]</td>\n",
       "    </tr>\n",
       "    <tr>\n",
       "      <th>Near Miss 1</th>\n",
       "      <td>[0.97]</td>\n",
       "      <td>[0.72]</td>\n",
       "    </tr>\n",
       "    <tr>\n",
       "      <th>Near Miss 2</th>\n",
       "      <td>[0.98]</td>\n",
       "      <td>[0.96]</td>\n",
       "    </tr>\n",
       "  </tbody>\n",
       "</table>\n",
       "</div>"
      ],
      "text/plain": [
       "                                       Precision on 0 Recall on 1\n",
       "Random undersampling of majority class         [0.98]      [0.22]\n",
       "Near Miss 1                                    [0.97]      [0.72]\n",
       "Near Miss 2                                    [0.98]      [0.96]"
      ]
     },
     "execution_count": 71,
     "metadata": {},
     "output_type": "execute_result"
    }
   ],
   "source": [
    "report = classification_report(y_test,y_pred)\n",
    "lines = report.split()\n",
    "cr = []\n",
    "for line in lines:\n",
    "    row_data = line.split()\n",
    "    cr.append(row_data)\n",
    "p_r_.append((cr[5], cr[11]))\n",
    "\n",
    "cols = [\"Precision on 0\", \"Recall on 1\"]\n",
    "index = [n1, n2, n3]\n",
    "report = pd.DataFrame(p_r_, columns=cols, index=index)\n",
    "report\n"
   ]
  },
  {
   "cell_type": "code",
   "execution_count": 72,
   "metadata": {},
   "outputs": [
    {
     "name": "stdout",
     "output_type": "stream",
     "text": [
      "Distribution of class labels before resampling Counter({0: 109697, 1: 2995})\n",
      "Distribution of class labels after resampling Counter({0: 5990, 1: 2995})\n"
     ]
    },
    {
     "name": "stderr",
     "output_type": "stream",
     "text": [
      "/Users/anapaulavarejao/anaconda2/lib/python2.7/site-packages/imblearn/utils/deprecation.py:50: DeprecationWarning: 'size_ngh' is deprecated from 0.2 and will be removed in 0.4. Use 'n_neighbors' instead.\n",
      "  category=DeprecationWarning)\n",
      "/Users/anapaulavarejao/anaconda2/lib/python2.7/site-packages/imblearn/utils/deprecation.py:50: DeprecationWarning: 'ver3_samp_ngh' is deprecated from 0.2 and will be removed in 0.4. Use 'n_neighbors_ver3' instead.\n",
      "  category=DeprecationWarning)\n"
     ]
    }
   ],
   "source": [
    "n4 = \"Near Miss 3\"\n",
    "us = NearMiss(ratio=0.5, size_ngh=3, ver3_samp_ngh=3, version=3, random_state=1) \n",
    "X_train_res, y_train_res = us.fit_sample(X_train, y_train)\n",
    "print \"Distribution of class labels before resampling {}\".format(Counter(y_train)) \n",
    "print \"Distribution of class labels after resampling {}\".format(Counter(y_train_res))"
   ]
  },
  {
   "cell_type": "code",
   "execution_count": 73,
   "metadata": {},
   "outputs": [
    {
     "name": "stdout",
     "output_type": "stream",
     "text": [
      "Accuracy: 0.97 (+/- 0.00)\n",
      "\n",
      "             precision    recall  f1-score   support\n",
      "\n",
      "          0       0.97      0.84      0.90     36580\n",
      "          1       0.03      0.17      0.05       985\n",
      "\n",
      "avg / total       0.95      0.82      0.88     37565\n",
      "\n",
      "[[30768  5812]\n",
      " [  822   163]]\n"
     ]
    }
   ],
   "source": [
    "#Random Forest\n",
    "n_estimators_range = range(1, 50)\n",
    "param_grid_dt = {}\n",
    "param_grid_dt[\"n_estimators\"] = n_estimators_range\n",
    "grid_dt = GridSearchCV(estimator = RandomForestClassifier(), \n",
    "                        param_grid = param_grid_dt, cv = 5, scoring = \"accuracy\")\n",
    "grid_dt.fit(X_train_res, y_train_res)\n",
    "rf = RandomForestClassifier(n_estimators=grid_dt.best_params_['n_estimators'])\n",
    "rf.fit(X_train_res,y_train_res)\n",
    "y_pred = rf.predict(X_test)                \n",
    "scores = cross_val_score(rf, X_test, y_test, cv=5)\n",
    "print \"Accuracy: %0.2f (+/- %0.2f)\\n\" % (scores.mean(), scores.std() * 2)\n",
    "print classification_report(y_test, y_pred)\n",
    "print confusion_matrix(y_test, y_pred)\n",
    "\n"
   ]
  },
  {
   "cell_type": "code",
   "execution_count": 74,
   "metadata": {},
   "outputs": [
    {
     "data": {
      "text/html": [
       "<div>\n",
       "<style>\n",
       "    .dataframe thead tr:only-child th {\n",
       "        text-align: right;\n",
       "    }\n",
       "\n",
       "    .dataframe thead th {\n",
       "        text-align: left;\n",
       "    }\n",
       "\n",
       "    .dataframe tbody tr th {\n",
       "        vertical-align: top;\n",
       "    }\n",
       "</style>\n",
       "<table border=\"1\" class=\"dataframe\">\n",
       "  <thead>\n",
       "    <tr style=\"text-align: right;\">\n",
       "      <th></th>\n",
       "      <th></th>\n",
       "      <th>pred0</th>\n",
       "      <th></th>\n",
       "      <th>pred1</th>\n",
       "      <th>total</th>\n",
       "    </tr>\n",
       "  </thead>\n",
       "  <tbody>\n",
       "    <tr>\n",
       "      <th>corr0</th>\n",
       "      <td>TN</td>\n",
       "      <td>30768</td>\n",
       "      <td>FP</td>\n",
       "      <td>5812</td>\n",
       "      <td>36580</td>\n",
       "    </tr>\n",
       "    <tr>\n",
       "      <th>corr1</th>\n",
       "      <td>FN</td>\n",
       "      <td>822</td>\n",
       "      <td>TP</td>\n",
       "      <td>163</td>\n",
       "      <td>985</td>\n",
       "    </tr>\n",
       "    <tr>\n",
       "      <th>total</th>\n",
       "      <td></td>\n",
       "      <td>31590</td>\n",
       "      <td></td>\n",
       "      <td>5975</td>\n",
       "      <td>37565</td>\n",
       "    </tr>\n",
       "  </tbody>\n",
       "</table>\n",
       "</div>"
      ],
      "text/plain": [
       "           pred0     pred1  total\n",
       "corr0  TN  30768  FP  5812  36580\n",
       "corr1  FN    822  TP   163    985\n",
       "total      31590      5975  37565"
      ]
     },
     "execution_count": 74,
     "metadata": {},
     "output_type": "execute_result"
    }
   ],
   "source": [
    "cm = confusion_matrix(y_test, y_pred)\n",
    "TP = cm[1, 1]\n",
    "TN = cm[0, 0]\n",
    "FP = cm[0, 1]\n",
    "FN = cm[1, 0]\n",
    "tot_a_1 = TN + FP\n",
    "tot_a_2 = FN + TP\n",
    "tot_p_1 = TN + FN\n",
    "tot_p_2 = FP + TP\n",
    "tot_g = tot_a_1+tot_a_2\n",
    "mx =np.array([\"TN\",TN,\"FP\",FP,tot_a_1,\"FN\",FN,\"TP\", TP, tot_a_2,\"\", tot_p_1,\"\", tot_p_2, tot_g]).reshape(3,5)\n",
    "cols = [\" \",\"pred0\", \" \", \"pred1\",  \"total\"]\n",
    "index = [\"corr0\", \"corr1\", \"total\"]\n",
    "cm_df = pd.DataFrame(mx, columns=cols, index=index )\n",
    "cm_df"
   ]
  },
  {
   "cell_type": "code",
   "execution_count": 75,
   "metadata": {},
   "outputs": [
    {
     "data": {
      "text/html": [
       "<div>\n",
       "<style>\n",
       "    .dataframe thead tr:only-child th {\n",
       "        text-align: right;\n",
       "    }\n",
       "\n",
       "    .dataframe thead th {\n",
       "        text-align: left;\n",
       "    }\n",
       "\n",
       "    .dataframe tbody tr th {\n",
       "        vertical-align: top;\n",
       "    }\n",
       "</style>\n",
       "<table border=\"1\" class=\"dataframe\">\n",
       "  <thead>\n",
       "    <tr style=\"text-align: right;\">\n",
       "      <th></th>\n",
       "      <th>Precision on 0</th>\n",
       "      <th>Recall on 1</th>\n",
       "    </tr>\n",
       "  </thead>\n",
       "  <tbody>\n",
       "    <tr>\n",
       "      <th>Random undersampling of majority class</th>\n",
       "      <td>[0.98]</td>\n",
       "      <td>[0.22]</td>\n",
       "    </tr>\n",
       "    <tr>\n",
       "      <th>Near Miss 1</th>\n",
       "      <td>[0.97]</td>\n",
       "      <td>[0.72]</td>\n",
       "    </tr>\n",
       "    <tr>\n",
       "      <th>Near Miss 2</th>\n",
       "      <td>[0.98]</td>\n",
       "      <td>[0.96]</td>\n",
       "    </tr>\n",
       "    <tr>\n",
       "      <th>Near Miss 3</th>\n",
       "      <td>[0.97]</td>\n",
       "      <td>[0.17]</td>\n",
       "    </tr>\n",
       "  </tbody>\n",
       "</table>\n",
       "</div>"
      ],
      "text/plain": [
       "                                       Precision on 0 Recall on 1\n",
       "Random undersampling of majority class         [0.98]      [0.22]\n",
       "Near Miss 1                                    [0.97]      [0.72]\n",
       "Near Miss 2                                    [0.98]      [0.96]\n",
       "Near Miss 3                                    [0.97]      [0.17]"
      ]
     },
     "execution_count": 75,
     "metadata": {},
     "output_type": "execute_result"
    }
   ],
   "source": [
    "report = classification_report(y_test,y_pred)\n",
    "lines = report.split()\n",
    "cr = []\n",
    "for line in lines:\n",
    "    row_data = line.split()\n",
    "    cr.append(row_data)\n",
    "p_r_.append((cr[5], cr[11]))\n",
    "\n",
    "cols = [\"Precision on 0\", \"Recall on 1\"]\n",
    "index = [n1, n2, n3, n4]\n",
    "report = pd.DataFrame(p_r_, columns=cols, index=index)\n",
    "report"
   ]
  },
  {
   "cell_type": "code",
   "execution_count": 76,
   "metadata": {},
   "outputs": [
    {
     "name": "stdout",
     "output_type": "stream",
     "text": [
      "Distribution of class labels before resampling Counter({0: 109697, 1: 2995})\n",
      "Distribution of class labels after resampling Counter({0: 107930, 1: 2995})\n"
     ]
    }
   ],
   "source": [
    "n5 = \"Tomek link removal\"\n",
    "us = TomekLinks(random_state=1)\n",
    "X_train_res, y_train_res = us.fit_sample(X_train, y_train)\n",
    "print \"Distribution of class labels before resampling {}\".format(Counter(y_train)) \n",
    "print \"Distribution of class labels after resampling {}\".format(Counter(y_train_res))"
   ]
  },
  {
   "cell_type": "code",
   "execution_count": 77,
   "metadata": {},
   "outputs": [
    {
     "name": "stdout",
     "output_type": "stream",
     "text": [
      "Accuracy: 0.97 (+/- 0.00)\n",
      "\n",
      "             precision    recall  f1-score   support\n",
      "\n",
      "          0       0.97      1.00      0.99     36580\n",
      "          1       0.07      0.00      0.01       985\n",
      "\n",
      "avg / total       0.95      0.97      0.96     37565\n",
      "\n",
      "[[36542    38]\n",
      " [  982     3]]\n"
     ]
    }
   ],
   "source": [
    "#Random Forest\n",
    "n_estimators_range = range(1, 50)\n",
    "param_grid_dt = {}\n",
    "param_grid_dt[\"n_estimators\"] = n_estimators_range\n",
    "grid_dt = GridSearchCV(estimator = RandomForestClassifier(), \n",
    "                        param_grid = param_grid_dt, cv = 5, scoring = \"accuracy\")\n",
    "grid_dt.fit(X_train_res, y_train_res)\n",
    "rf = RandomForestClassifier(n_estimators=grid_dt.best_params_['n_estimators'])\n",
    "rf.fit(X_train_res,y_train_res)\n",
    "y_pred = rf.predict(X_test)                \n",
    "scores = cross_val_score(rf, X_test, y_test, cv=5)\n",
    "print \"Accuracy: %0.2f (+/- %0.2f)\\n\" % (scores.mean(), scores.std() * 2)\n",
    "print classification_report(y_test, y_pred)\n",
    "print confusion_matrix(y_test, y_pred)\n",
    "\n"
   ]
  },
  {
   "cell_type": "code",
   "execution_count": 78,
   "metadata": {},
   "outputs": [
    {
     "data": {
      "text/html": [
       "<div>\n",
       "<style>\n",
       "    .dataframe thead tr:only-child th {\n",
       "        text-align: right;\n",
       "    }\n",
       "\n",
       "    .dataframe thead th {\n",
       "        text-align: left;\n",
       "    }\n",
       "\n",
       "    .dataframe tbody tr th {\n",
       "        vertical-align: top;\n",
       "    }\n",
       "</style>\n",
       "<table border=\"1\" class=\"dataframe\">\n",
       "  <thead>\n",
       "    <tr style=\"text-align: right;\">\n",
       "      <th></th>\n",
       "      <th></th>\n",
       "      <th>pred0</th>\n",
       "      <th></th>\n",
       "      <th>pred1</th>\n",
       "      <th>total</th>\n",
       "    </tr>\n",
       "  </thead>\n",
       "  <tbody>\n",
       "    <tr>\n",
       "      <th>corr0</th>\n",
       "      <td>TN</td>\n",
       "      <td>36542</td>\n",
       "      <td>FP</td>\n",
       "      <td>38</td>\n",
       "      <td>36580</td>\n",
       "    </tr>\n",
       "    <tr>\n",
       "      <th>corr1</th>\n",
       "      <td>FN</td>\n",
       "      <td>982</td>\n",
       "      <td>TP</td>\n",
       "      <td>3</td>\n",
       "      <td>985</td>\n",
       "    </tr>\n",
       "    <tr>\n",
       "      <th>total</th>\n",
       "      <td></td>\n",
       "      <td>37524</td>\n",
       "      <td></td>\n",
       "      <td>41</td>\n",
       "      <td>37565</td>\n",
       "    </tr>\n",
       "  </tbody>\n",
       "</table>\n",
       "</div>"
      ],
      "text/plain": [
       "           pred0     pred1  total\n",
       "corr0  TN  36542  FP    38  36580\n",
       "corr1  FN    982  TP     3    985\n",
       "total      37524        41  37565"
      ]
     },
     "execution_count": 78,
     "metadata": {},
     "output_type": "execute_result"
    }
   ],
   "source": [
    "cm = confusion_matrix(y_test, y_pred)\n",
    "TP = cm[1, 1]\n",
    "TN = cm[0, 0]\n",
    "FP = cm[0, 1]\n",
    "FN = cm[1, 0]\n",
    "tot_a_1 = TN + FP\n",
    "tot_a_2 = FN + TP\n",
    "tot_p_1 = TN + FN\n",
    "tot_p_2 = FP + TP\n",
    "tot_g = tot_a_1+tot_a_2\n",
    "mx =np.array([\"TN\",TN,\"FP\",FP,tot_a_1,\"FN\",FN,\"TP\", TP, tot_a_2,\"\", tot_p_1,\"\", tot_p_2, tot_g]).reshape(3,5)\n",
    "cols = [\" \",\"pred0\", \" \", \"pred1\",  \"total\"]\n",
    "index = [\"corr0\", \"corr1\", \"total\"]\n",
    "cm_df = pd.DataFrame(mx, columns=cols, index=index )\n",
    "cm_df"
   ]
  },
  {
   "cell_type": "code",
   "execution_count": 79,
   "metadata": {},
   "outputs": [
    {
     "data": {
      "text/html": [
       "<div>\n",
       "<style>\n",
       "    .dataframe thead tr:only-child th {\n",
       "        text-align: right;\n",
       "    }\n",
       "\n",
       "    .dataframe thead th {\n",
       "        text-align: left;\n",
       "    }\n",
       "\n",
       "    .dataframe tbody tr th {\n",
       "        vertical-align: top;\n",
       "    }\n",
       "</style>\n",
       "<table border=\"1\" class=\"dataframe\">\n",
       "  <thead>\n",
       "    <tr style=\"text-align: right;\">\n",
       "      <th></th>\n",
       "      <th>Precision on 0</th>\n",
       "      <th>Recall on 1</th>\n",
       "    </tr>\n",
       "  </thead>\n",
       "  <tbody>\n",
       "    <tr>\n",
       "      <th>Random undersampling of majority class</th>\n",
       "      <td>[0.98]</td>\n",
       "      <td>[0.22]</td>\n",
       "    </tr>\n",
       "    <tr>\n",
       "      <th>Near Miss 1</th>\n",
       "      <td>[0.97]</td>\n",
       "      <td>[0.72]</td>\n",
       "    </tr>\n",
       "    <tr>\n",
       "      <th>Near Miss 2</th>\n",
       "      <td>[0.98]</td>\n",
       "      <td>[0.96]</td>\n",
       "    </tr>\n",
       "    <tr>\n",
       "      <th>Near Miss 3</th>\n",
       "      <td>[0.97]</td>\n",
       "      <td>[0.17]</td>\n",
       "    </tr>\n",
       "    <tr>\n",
       "      <th>Tomek link removal</th>\n",
       "      <td>[0.97]</td>\n",
       "      <td>[0.00]</td>\n",
       "    </tr>\n",
       "  </tbody>\n",
       "</table>\n",
       "</div>"
      ],
      "text/plain": [
       "                                       Precision on 0 Recall on 1\n",
       "Random undersampling of majority class         [0.98]      [0.22]\n",
       "Near Miss 1                                    [0.97]      [0.72]\n",
       "Near Miss 2                                    [0.98]      [0.96]\n",
       "Near Miss 3                                    [0.97]      [0.17]\n",
       "Tomek link removal                             [0.97]      [0.00]"
      ]
     },
     "execution_count": 79,
     "metadata": {},
     "output_type": "execute_result"
    }
   ],
   "source": [
    "report = classification_report(y_test,y_pred)\n",
    "lines = report.split()\n",
    "cr = []\n",
    "for line in lines:\n",
    "    row_data = line.split()\n",
    "    cr.append(row_data)\n",
    "p_r_.append((cr[5], cr[11]))\n",
    "\n",
    "cols = [\"Precision on 0\", \"Recall on 1\"]\n",
    "index = [n1, n2, n3, n4, n5]\n",
    "report = pd.DataFrame(p_r_, columns=cols, index=index)\n",
    "report"
   ]
  },
  {
   "cell_type": "code",
   "execution_count": 80,
   "metadata": {},
   "outputs": [
    {
     "name": "stderr",
     "output_type": "stream",
     "text": [
      "/Users/anapaulavarejao/anaconda2/lib/python2.7/site-packages/imblearn/utils/deprecation.py:50: DeprecationWarning: 'size_ngh' is deprecated from 0.2 and will be removed in 0.4. Use 'n_neighbors' instead.\n",
      "  category=DeprecationWarning)\n"
     ]
    },
    {
     "name": "stdout",
     "output_type": "stream",
     "text": [
      "Distribution of class labels before resampling Counter({0: 109697, 1: 2995})\n",
      "Distribution of class labels after resampling Counter({0: 96301, 1: 2995})\n"
     ]
    }
   ],
   "source": [
    "n6 = \"Edited Nearest Neighbor (ENN)\"\n",
    "us = EditedNearestNeighbours(size_ngh=5, random_state=1) \n",
    "X_train_res, y_train_res = us.fit_sample(X_train, y_train)\n",
    "print \"Distribution of class labels before resampling {}\".format(Counter(y_train)) \n",
    "print \"Distribution of class labels after resampling {}\".format(Counter(y_train_res))"
   ]
  },
  {
   "cell_type": "code",
   "execution_count": 81,
   "metadata": {},
   "outputs": [
    {
     "name": "stdout",
     "output_type": "stream",
     "text": [
      "Accuracy: 0.97 (+/- 0.00)\n",
      "\n",
      "             precision    recall  f1-score   support\n",
      "\n",
      "          0       0.97      0.99      0.98     36580\n",
      "          1       0.07      0.02      0.03       985\n",
      "\n",
      "avg / total       0.95      0.97      0.96     37565\n",
      "\n",
      "[[36334   246]\n",
      " [  966    19]]\n"
     ]
    }
   ],
   "source": [
    "#Random Forest\n",
    "n_estimators_range = range(1, 50)\n",
    "param_grid_dt = {}\n",
    "param_grid_dt[\"n_estimators\"] = n_estimators_range\n",
    "grid_dt = GridSearchCV(estimator = RandomForestClassifier(), \n",
    "                        param_grid = param_grid_dt, cv = 5, scoring = \"accuracy\")\n",
    "grid_dt.fit(X_train_res, y_train_res)\n",
    "rf = RandomForestClassifier(n_estimators=grid_dt.best_params_['n_estimators'])\n",
    "rf.fit(X_train_res,y_train_res)\n",
    "y_pred = rf.predict(X_test)                \n",
    "scores = cross_val_score(rf, X_test, y_test, cv=5)\n",
    "print \"Accuracy: %0.2f (+/- %0.2f)\\n\" % (scores.mean(), scores.std() * 2)\n",
    "print classification_report(y_test, y_pred)\n",
    "print confusion_matrix(y_test, y_pred)\n",
    "\n"
   ]
  },
  {
   "cell_type": "code",
   "execution_count": 82,
   "metadata": {},
   "outputs": [
    {
     "data": {
      "text/html": [
       "<div>\n",
       "<style>\n",
       "    .dataframe thead tr:only-child th {\n",
       "        text-align: right;\n",
       "    }\n",
       "\n",
       "    .dataframe thead th {\n",
       "        text-align: left;\n",
       "    }\n",
       "\n",
       "    .dataframe tbody tr th {\n",
       "        vertical-align: top;\n",
       "    }\n",
       "</style>\n",
       "<table border=\"1\" class=\"dataframe\">\n",
       "  <thead>\n",
       "    <tr style=\"text-align: right;\">\n",
       "      <th></th>\n",
       "      <th></th>\n",
       "      <th>pred0</th>\n",
       "      <th></th>\n",
       "      <th>pred1</th>\n",
       "      <th>total</th>\n",
       "    </tr>\n",
       "  </thead>\n",
       "  <tbody>\n",
       "    <tr>\n",
       "      <th>corr0</th>\n",
       "      <td>TN</td>\n",
       "      <td>36334</td>\n",
       "      <td>FP</td>\n",
       "      <td>246</td>\n",
       "      <td>36580</td>\n",
       "    </tr>\n",
       "    <tr>\n",
       "      <th>corr1</th>\n",
       "      <td>FN</td>\n",
       "      <td>966</td>\n",
       "      <td>TP</td>\n",
       "      <td>19</td>\n",
       "      <td>985</td>\n",
       "    </tr>\n",
       "    <tr>\n",
       "      <th>total</th>\n",
       "      <td></td>\n",
       "      <td>37300</td>\n",
       "      <td></td>\n",
       "      <td>265</td>\n",
       "      <td>37565</td>\n",
       "    </tr>\n",
       "  </tbody>\n",
       "</table>\n",
       "</div>"
      ],
      "text/plain": [
       "           pred0     pred1  total\n",
       "corr0  TN  36334  FP   246  36580\n",
       "corr1  FN    966  TP    19    985\n",
       "total      37300       265  37565"
      ]
     },
     "execution_count": 82,
     "metadata": {},
     "output_type": "execute_result"
    }
   ],
   "source": [
    "cm = confusion_matrix(y_test, y_pred)\n",
    "TP = cm[1, 1]\n",
    "TN = cm[0, 0]\n",
    "FP = cm[0, 1]\n",
    "FN = cm[1, 0]\n",
    "tot_a_1 = TN + FP\n",
    "tot_a_2 = FN + TP\n",
    "tot_p_1 = TN + FN\n",
    "tot_p_2 = FP + TP\n",
    "tot_g = tot_a_1+tot_a_2\n",
    "mx =np.array([\"TN\",TN,\"FP\",FP,tot_a_1,\"FN\",FN,\"TP\", TP, tot_a_2,\"\", tot_p_1,\"\", tot_p_2, tot_g]).reshape(3,5)\n",
    "cols = [\" \",\"pred0\", \" \", \"pred1\",  \"total\"]\n",
    "index = [\"corr0\", \"corr1\", \"total\"]\n",
    "cm_df = pd.DataFrame(mx, columns=cols, index=index )\n",
    "cm_df"
   ]
  },
  {
   "cell_type": "code",
   "execution_count": 83,
   "metadata": {},
   "outputs": [
    {
     "data": {
      "text/html": [
       "<div>\n",
       "<style>\n",
       "    .dataframe thead tr:only-child th {\n",
       "        text-align: right;\n",
       "    }\n",
       "\n",
       "    .dataframe thead th {\n",
       "        text-align: left;\n",
       "    }\n",
       "\n",
       "    .dataframe tbody tr th {\n",
       "        vertical-align: top;\n",
       "    }\n",
       "</style>\n",
       "<table border=\"1\" class=\"dataframe\">\n",
       "  <thead>\n",
       "    <tr style=\"text-align: right;\">\n",
       "      <th></th>\n",
       "      <th>Precision on 0</th>\n",
       "      <th>Recall on 1</th>\n",
       "    </tr>\n",
       "  </thead>\n",
       "  <tbody>\n",
       "    <tr>\n",
       "      <th>Random undersampling of majority class</th>\n",
       "      <td>[0.98]</td>\n",
       "      <td>[0.22]</td>\n",
       "    </tr>\n",
       "    <tr>\n",
       "      <th>Near Miss 1</th>\n",
       "      <td>[0.97]</td>\n",
       "      <td>[0.72]</td>\n",
       "    </tr>\n",
       "    <tr>\n",
       "      <th>Near Miss 2</th>\n",
       "      <td>[0.98]</td>\n",
       "      <td>[0.96]</td>\n",
       "    </tr>\n",
       "    <tr>\n",
       "      <th>Near Miss 3</th>\n",
       "      <td>[0.97]</td>\n",
       "      <td>[0.17]</td>\n",
       "    </tr>\n",
       "    <tr>\n",
       "      <th>Tomek link removal</th>\n",
       "      <td>[0.97]</td>\n",
       "      <td>[0.00]</td>\n",
       "    </tr>\n",
       "    <tr>\n",
       "      <th>Edited Nearest Neighbor (ENN)</th>\n",
       "      <td>[0.97]</td>\n",
       "      <td>[0.02]</td>\n",
       "    </tr>\n",
       "  </tbody>\n",
       "</table>\n",
       "</div>"
      ],
      "text/plain": [
       "                                       Precision on 0 Recall on 1\n",
       "Random undersampling of majority class         [0.98]      [0.22]\n",
       "Near Miss 1                                    [0.97]      [0.72]\n",
       "Near Miss 2                                    [0.98]      [0.96]\n",
       "Near Miss 3                                    [0.97]      [0.17]\n",
       "Tomek link removal                             [0.97]      [0.00]\n",
       "Edited Nearest Neighbor (ENN)                  [0.97]      [0.02]"
      ]
     },
     "execution_count": 83,
     "metadata": {},
     "output_type": "execute_result"
    }
   ],
   "source": [
    "report = classification_report(y_test,y_pred)\n",
    "lines = report.split()\n",
    "cr = []\n",
    "for line in lines:\n",
    "    row_data = line.split()\n",
    "    cr.append(row_data)\n",
    "p_r_.append((cr[5], cr[11]))\n",
    "\n",
    "cols = [\"Precision on 0\", \"Recall on 1\"]\n",
    "index = [n1, n2, n3, n4, n5, n6]\n",
    "report = pd.DataFrame(p_r_, columns=cols, index=index)\n",
    "report"
   ]
  },
  {
   "cell_type": "code",
   "execution_count": 84,
   "metadata": {},
   "outputs": [
    {
     "name": "stdout",
     "output_type": "stream",
     "text": [
      "Distribution of class labels before resampling Counter({0: 109697, 1: 2995})\n",
      "Distribution of class labels after resampling Counter({0: 97624, 1: 2995})\n"
     ]
    }
   ],
   "source": [
    "n7 =  \"Repeated Edited Nearest Neighbor\"\n",
    "us = RepeatedEditedNearestNeighbours(size_ngh=5, random_state=1) \n",
    "X_train_res, y_train_res = us.fit_sample(X_train, y_train)\n",
    "print \"Distribution of class labels before resampling {}\".format(Counter(y_train)) \n",
    "print \"Distribution of class labels after resampling {}\".format(Counter(y_train_res))"
   ]
  },
  {
   "cell_type": "code",
   "execution_count": 85,
   "metadata": {},
   "outputs": [
    {
     "name": "stdout",
     "output_type": "stream",
     "text": [
      "Accuracy: 0.97 (+/- 0.00)\n",
      "\n",
      "             precision    recall  f1-score   support\n",
      "\n",
      "          0       0.97      0.99      0.98     36580\n",
      "          1       0.08      0.02      0.04       985\n",
      "\n",
      "avg / total       0.95      0.97      0.96     37565\n",
      "\n",
      "[[36326   254]\n",
      " [  962    23]]\n"
     ]
    }
   ],
   "source": [
    "#Random Forest\n",
    "n_estimators_range = range(1, 50)\n",
    "param_grid_dt = {}\n",
    "param_grid_dt[\"n_estimators\"] = n_estimators_range\n",
    "grid_dt = GridSearchCV(estimator = RandomForestClassifier(), \n",
    "                        param_grid = param_grid_dt, cv = 5, scoring = \"accuracy\")\n",
    "grid_dt.fit(X_train_res, y_train_res)\n",
    "rf = RandomForestClassifier(n_estimators=grid_dt.best_params_['n_estimators'])\n",
    "rf.fit(X_train_res,y_train_res)\n",
    "y_pred = rf.predict(X_test)                \n",
    "scores = cross_val_score(rf, X_test, y_test, cv=5)\n",
    "print \"Accuracy: %0.2f (+/- %0.2f)\\n\" % (scores.mean(), scores.std() * 2)\n",
    "print classification_report(y_test, y_pred)\n",
    "print confusion_matrix(y_test, y_pred)\n",
    "\n"
   ]
  },
  {
   "cell_type": "code",
   "execution_count": 86,
   "metadata": {},
   "outputs": [
    {
     "data": {
      "text/html": [
       "<div>\n",
       "<style>\n",
       "    .dataframe thead tr:only-child th {\n",
       "        text-align: right;\n",
       "    }\n",
       "\n",
       "    .dataframe thead th {\n",
       "        text-align: left;\n",
       "    }\n",
       "\n",
       "    .dataframe tbody tr th {\n",
       "        vertical-align: top;\n",
       "    }\n",
       "</style>\n",
       "<table border=\"1\" class=\"dataframe\">\n",
       "  <thead>\n",
       "    <tr style=\"text-align: right;\">\n",
       "      <th></th>\n",
       "      <th></th>\n",
       "      <th>pred0</th>\n",
       "      <th></th>\n",
       "      <th>pred1</th>\n",
       "      <th>total</th>\n",
       "    </tr>\n",
       "  </thead>\n",
       "  <tbody>\n",
       "    <tr>\n",
       "      <th>corr0</th>\n",
       "      <td>TN</td>\n",
       "      <td>36326</td>\n",
       "      <td>FP</td>\n",
       "      <td>254</td>\n",
       "      <td>36580</td>\n",
       "    </tr>\n",
       "    <tr>\n",
       "      <th>corr1</th>\n",
       "      <td>FN</td>\n",
       "      <td>962</td>\n",
       "      <td>TP</td>\n",
       "      <td>23</td>\n",
       "      <td>985</td>\n",
       "    </tr>\n",
       "    <tr>\n",
       "      <th>total</th>\n",
       "      <td></td>\n",
       "      <td>37288</td>\n",
       "      <td></td>\n",
       "      <td>277</td>\n",
       "      <td>37565</td>\n",
       "    </tr>\n",
       "  </tbody>\n",
       "</table>\n",
       "</div>"
      ],
      "text/plain": [
       "           pred0     pred1  total\n",
       "corr0  TN  36326  FP   254  36580\n",
       "corr1  FN    962  TP    23    985\n",
       "total      37288       277  37565"
      ]
     },
     "execution_count": 86,
     "metadata": {},
     "output_type": "execute_result"
    }
   ],
   "source": [
    "cm = confusion_matrix(y_test, y_pred)\n",
    "TP = cm[1, 1]\n",
    "TN = cm[0, 0]\n",
    "FP = cm[0, 1]\n",
    "FN = cm[1, 0]\n",
    "tot_a_1 = TN + FP\n",
    "tot_a_2 = FN + TP\n",
    "tot_p_1 = TN + FN\n",
    "tot_p_2 = FP + TP\n",
    "tot_g = tot_a_1+tot_a_2\n",
    "mx =np.array([\"TN\",TN,\"FP\",FP,tot_a_1,\"FN\",FN,\"TP\", TP, tot_a_2,\"\", tot_p_1,\"\", tot_p_2, tot_g]).reshape(3,5)\n",
    "cols = [\" \",\"pred0\", \" \", \"pred1\",  \"total\"]\n",
    "index = [\"corr0\", \"corr1\", \"total\"]\n",
    "cm_df = pd.DataFrame(mx, columns=cols, index=index )\n",
    "cm_df"
   ]
  },
  {
   "cell_type": "code",
   "execution_count": 87,
   "metadata": {},
   "outputs": [
    {
     "data": {
      "text/html": [
       "<div>\n",
       "<style>\n",
       "    .dataframe thead tr:only-child th {\n",
       "        text-align: right;\n",
       "    }\n",
       "\n",
       "    .dataframe thead th {\n",
       "        text-align: left;\n",
       "    }\n",
       "\n",
       "    .dataframe tbody tr th {\n",
       "        vertical-align: top;\n",
       "    }\n",
       "</style>\n",
       "<table border=\"1\" class=\"dataframe\">\n",
       "  <thead>\n",
       "    <tr style=\"text-align: right;\">\n",
       "      <th></th>\n",
       "      <th>Precision on 0</th>\n",
       "      <th>Recall on 1</th>\n",
       "    </tr>\n",
       "  </thead>\n",
       "  <tbody>\n",
       "    <tr>\n",
       "      <th>Random undersampling of majority class</th>\n",
       "      <td>[0.98]</td>\n",
       "      <td>[0.22]</td>\n",
       "    </tr>\n",
       "    <tr>\n",
       "      <th>Near Miss 1</th>\n",
       "      <td>[0.97]</td>\n",
       "      <td>[0.72]</td>\n",
       "    </tr>\n",
       "    <tr>\n",
       "      <th>Near Miss 2</th>\n",
       "      <td>[0.98]</td>\n",
       "      <td>[0.96]</td>\n",
       "    </tr>\n",
       "    <tr>\n",
       "      <th>Near Miss 3</th>\n",
       "      <td>[0.97]</td>\n",
       "      <td>[0.17]</td>\n",
       "    </tr>\n",
       "    <tr>\n",
       "      <th>Tomek link removal</th>\n",
       "      <td>[0.97]</td>\n",
       "      <td>[0.00]</td>\n",
       "    </tr>\n",
       "    <tr>\n",
       "      <th>Edited Nearest Neighbor (ENN)</th>\n",
       "      <td>[0.97]</td>\n",
       "      <td>[0.02]</td>\n",
       "    </tr>\n",
       "    <tr>\n",
       "      <th>Repeated Edited Nearest Neighbor</th>\n",
       "      <td>[0.97]</td>\n",
       "      <td>[0.02]</td>\n",
       "    </tr>\n",
       "  </tbody>\n",
       "</table>\n",
       "</div>"
      ],
      "text/plain": [
       "                                       Precision on 0 Recall on 1\n",
       "Random undersampling of majority class         [0.98]      [0.22]\n",
       "Near Miss 1                                    [0.97]      [0.72]\n",
       "Near Miss 2                                    [0.98]      [0.96]\n",
       "Near Miss 3                                    [0.97]      [0.17]\n",
       "Tomek link removal                             [0.97]      [0.00]\n",
       "Edited Nearest Neighbor (ENN)                  [0.97]      [0.02]\n",
       "Repeated Edited Nearest Neighbor               [0.97]      [0.02]"
      ]
     },
     "execution_count": 87,
     "metadata": {},
     "output_type": "execute_result"
    }
   ],
   "source": [
    "report = classification_report(y_test,y_pred)\n",
    "lines = report.split()\n",
    "cr = []\n",
    "for line in lines:\n",
    "    row_data = line.split()\n",
    "    cr.append(row_data)\n",
    "p_r_.append((cr[5], cr[11]))\n",
    "\n",
    "cols = [\"Precision on 0\", \"Recall on 1\"]\n",
    "index = [n1, n2, n3, n4, n5, n6, n7]\n",
    "report = pd.DataFrame(p_r_, columns=cols, index=index)\n",
    "report"
   ]
  },
  {
   "cell_type": "code",
   "execution_count": 88,
   "metadata": {},
   "outputs": [
    {
     "name": "stdout",
     "output_type": "stream",
     "text": [
      "Distribution of class labels before resampling Counter({0: 109697, 1: 2995})\n",
      "Distribution of class labels after resampling Counter({0: 109697, 1: 54848})\n"
     ]
    }
   ],
   "source": [
    "n8 = \"Random oversampling of minority class\"\n",
    "os = RandomOverSampler(ratio=0.5, random_state=1) \n",
    "X_train_res, y_train_res = os.fit_sample(X_train, y_train)\n",
    "print \"Distribution of class labels before resampling {}\".format(Counter(y_train)) \n",
    "print \"Distribution of class labels after resampling {}\".format(Counter(y_train_res))"
   ]
  },
  {
   "cell_type": "code",
   "execution_count": 89,
   "metadata": {},
   "outputs": [
    {
     "name": "stdout",
     "output_type": "stream",
     "text": [
      "Accuracy: 0.97 (+/- 0.00)\n",
      "\n",
      "             precision    recall  f1-score   support\n",
      "\n",
      "          0       0.97      0.99      0.98     36580\n",
      "          1       0.08      0.02      0.03       985\n",
      "\n",
      "avg / total       0.95      0.97      0.96     37565\n",
      "\n",
      "[[36336   244]\n",
      " [  964    21]]\n"
     ]
    }
   ],
   "source": [
    "#Random Forest\n",
    "n_estimators_range = range(1, 50)\n",
    "param_grid_dt = {}\n",
    "param_grid_dt[\"n_estimators\"] = n_estimators_range\n",
    "grid_dt = GridSearchCV(estimator = RandomForestClassifier(), \n",
    "                        param_grid = param_grid_dt, cv = 5, scoring = \"accuracy\")\n",
    "grid_dt.fit(X_train_res, y_train_res)\n",
    "rf = RandomForestClassifier(n_estimators=grid_dt.best_params_['n_estimators'])\n",
    "rf.fit(X_train_res,y_train_res)\n",
    "y_pred = rf.predict(X_test)                \n",
    "scores = cross_val_score(rf, X_test, y_test, cv=5)\n",
    "print \"Accuracy: %0.2f (+/- %0.2f)\\n\" % (scores.mean(), scores.std() * 2)\n",
    "print classification_report(y_test, y_pred)\n",
    "print confusion_matrix(y_test, y_pred)\n",
    "\n"
   ]
  },
  {
   "cell_type": "code",
   "execution_count": 90,
   "metadata": {},
   "outputs": [
    {
     "data": {
      "text/html": [
       "<div>\n",
       "<style>\n",
       "    .dataframe thead tr:only-child th {\n",
       "        text-align: right;\n",
       "    }\n",
       "\n",
       "    .dataframe thead th {\n",
       "        text-align: left;\n",
       "    }\n",
       "\n",
       "    .dataframe tbody tr th {\n",
       "        vertical-align: top;\n",
       "    }\n",
       "</style>\n",
       "<table border=\"1\" class=\"dataframe\">\n",
       "  <thead>\n",
       "    <tr style=\"text-align: right;\">\n",
       "      <th></th>\n",
       "      <th></th>\n",
       "      <th>pred0</th>\n",
       "      <th></th>\n",
       "      <th>pred1</th>\n",
       "      <th>total</th>\n",
       "    </tr>\n",
       "  </thead>\n",
       "  <tbody>\n",
       "    <tr>\n",
       "      <th>corr0</th>\n",
       "      <td>TN</td>\n",
       "      <td>36336</td>\n",
       "      <td>FP</td>\n",
       "      <td>244</td>\n",
       "      <td>36580</td>\n",
       "    </tr>\n",
       "    <tr>\n",
       "      <th>corr1</th>\n",
       "      <td>FN</td>\n",
       "      <td>964</td>\n",
       "      <td>TP</td>\n",
       "      <td>21</td>\n",
       "      <td>985</td>\n",
       "    </tr>\n",
       "    <tr>\n",
       "      <th>total</th>\n",
       "      <td></td>\n",
       "      <td>37300</td>\n",
       "      <td></td>\n",
       "      <td>265</td>\n",
       "      <td>37565</td>\n",
       "    </tr>\n",
       "  </tbody>\n",
       "</table>\n",
       "</div>"
      ],
      "text/plain": [
       "           pred0     pred1  total\n",
       "corr0  TN  36336  FP   244  36580\n",
       "corr1  FN    964  TP    21    985\n",
       "total      37300       265  37565"
      ]
     },
     "execution_count": 90,
     "metadata": {},
     "output_type": "execute_result"
    }
   ],
   "source": [
    "cm = confusion_matrix(y_test, y_pred)\n",
    "TP = cm[1, 1]\n",
    "TN = cm[0, 0]\n",
    "FP = cm[0, 1]\n",
    "FN = cm[1, 0]\n",
    "tot_a_1 = TN + FP\n",
    "tot_a_2 = FN + TP\n",
    "tot_p_1 = TN + FN\n",
    "tot_p_2 = FP + TP\n",
    "tot_g = tot_a_1+tot_a_2\n",
    "mx =np.array([\"TN\",TN,\"FP\",FP,tot_a_1,\"FN\",FN,\"TP\", TP, tot_a_2,\"\", tot_p_1,\"\", tot_p_2, tot_g]).reshape(3,5)\n",
    "cols = [\" \",\"pred0\", \" \", \"pred1\",  \"total\"]\n",
    "index = [\"corr0\", \"corr1\", \"total\"]\n",
    "cm_df = pd.DataFrame(mx, columns=cols, index=index )\n",
    "cm_df"
   ]
  },
  {
   "cell_type": "code",
   "execution_count": 91,
   "metadata": {},
   "outputs": [
    {
     "data": {
      "text/html": [
       "<div>\n",
       "<style>\n",
       "    .dataframe thead tr:only-child th {\n",
       "        text-align: right;\n",
       "    }\n",
       "\n",
       "    .dataframe thead th {\n",
       "        text-align: left;\n",
       "    }\n",
       "\n",
       "    .dataframe tbody tr th {\n",
       "        vertical-align: top;\n",
       "    }\n",
       "</style>\n",
       "<table border=\"1\" class=\"dataframe\">\n",
       "  <thead>\n",
       "    <tr style=\"text-align: right;\">\n",
       "      <th></th>\n",
       "      <th>Precision on 0</th>\n",
       "      <th>Recall on 1</th>\n",
       "    </tr>\n",
       "  </thead>\n",
       "  <tbody>\n",
       "    <tr>\n",
       "      <th>Random undersampling of majority class</th>\n",
       "      <td>[0.98]</td>\n",
       "      <td>[0.22]</td>\n",
       "    </tr>\n",
       "    <tr>\n",
       "      <th>Near Miss 1</th>\n",
       "      <td>[0.97]</td>\n",
       "      <td>[0.72]</td>\n",
       "    </tr>\n",
       "    <tr>\n",
       "      <th>Near Miss 2</th>\n",
       "      <td>[0.98]</td>\n",
       "      <td>[0.96]</td>\n",
       "    </tr>\n",
       "    <tr>\n",
       "      <th>Near Miss 3</th>\n",
       "      <td>[0.97]</td>\n",
       "      <td>[0.17]</td>\n",
       "    </tr>\n",
       "    <tr>\n",
       "      <th>Tomek link removal</th>\n",
       "      <td>[0.97]</td>\n",
       "      <td>[0.00]</td>\n",
       "    </tr>\n",
       "    <tr>\n",
       "      <th>Edited Nearest Neighbor (ENN)</th>\n",
       "      <td>[0.97]</td>\n",
       "      <td>[0.02]</td>\n",
       "    </tr>\n",
       "    <tr>\n",
       "      <th>Repeated Edited Nearest Neighbor</th>\n",
       "      <td>[0.97]</td>\n",
       "      <td>[0.02]</td>\n",
       "    </tr>\n",
       "    <tr>\n",
       "      <th>Random oversampling of minority class</th>\n",
       "      <td>[0.97]</td>\n",
       "      <td>[0.02]</td>\n",
       "    </tr>\n",
       "  </tbody>\n",
       "</table>\n",
       "</div>"
      ],
      "text/plain": [
       "                                       Precision on 0 Recall on 1\n",
       "Random undersampling of majority class         [0.98]      [0.22]\n",
       "Near Miss 1                                    [0.97]      [0.72]\n",
       "Near Miss 2                                    [0.98]      [0.96]\n",
       "Near Miss 3                                    [0.97]      [0.17]\n",
       "Tomek link removal                             [0.97]      [0.00]\n",
       "Edited Nearest Neighbor (ENN)                  [0.97]      [0.02]\n",
       "Repeated Edited Nearest Neighbor               [0.97]      [0.02]\n",
       "Random oversampling of minority class          [0.97]      [0.02]"
      ]
     },
     "execution_count": 91,
     "metadata": {},
     "output_type": "execute_result"
    }
   ],
   "source": [
    "report = classification_report(y_test,y_pred)\n",
    "lines = report.split()\n",
    "cr = []\n",
    "for line in lines:\n",
    "    row_data = line.split()\n",
    "    cr.append(row_data)\n",
    "p_r_.append((cr[5], cr[11]))\n",
    "\n",
    "cols = [\"Precision on 0\", \"Recall on 1\"]\n",
    "index = [n1, n2, n3, n4, n5, n6, n7, n8]\n",
    "report = pd.DataFrame(p_r_, columns=cols, index=index)\n",
    "report"
   ]
  },
  {
   "cell_type": "code",
   "execution_count": 92,
   "metadata": {},
   "outputs": [
    {
     "name": "stderr",
     "output_type": "stream",
     "text": [
      "/Users/anapaulavarejao/anaconda2/lib/python2.7/site-packages/imblearn/utils/deprecation.py:50: DeprecationWarning: 'k' is deprecated from 0.2 and will be removed in 0.4. Use 'k_neighbors' instead.\n",
      "  category=DeprecationWarning)\n"
     ]
    },
    {
     "name": "stdout",
     "output_type": "stream",
     "text": [
      "Distribution of class labels before resampling Counter({0: 109697, 1: 2995})\n",
      "Distribution of class labels after resampling Counter({0: 109697, 1: 54848})\n"
     ]
    }
   ],
   "source": [
    "n9 = \"Synthetic Minority Oversampling Technique (SMOTE)\"\n",
    "os = SMOTE(ratio=0.5, k=5, random_state=1)\n",
    "X_train_res, y_train_res = os.fit_sample(X_train, y_train)\n",
    "print \"Distribution of class labels before resampling {}\".format(Counter(y_train)) \n",
    "print \"Distribution of class labels after resampling {}\".format(Counter(y_train_res))"
   ]
  },
  {
   "cell_type": "code",
   "execution_count": 93,
   "metadata": {},
   "outputs": [
    {
     "name": "stdout",
     "output_type": "stream",
     "text": [
      "Accuracy: 0.97 (+/- 0.00)\n",
      "\n",
      "             precision    recall  f1-score   support\n",
      "\n",
      "          0       0.98      0.88      0.92     36580\n",
      "          1       0.04      0.17      0.06       985\n",
      "\n",
      "avg / total       0.95      0.86      0.90     37565\n",
      "\n",
      "[[32090  4490]\n",
      " [  814   171]]\n"
     ]
    }
   ],
   "source": [
    "#Random Forest\n",
    "n_estimators_range = range(1, 50)\n",
    "param_grid_dt = {}\n",
    "param_grid_dt[\"n_estimators\"] = n_estimators_range\n",
    "grid_dt = GridSearchCV(estimator = RandomForestClassifier(), \n",
    "                        param_grid = param_grid_dt, cv = 5, scoring = \"accuracy\")\n",
    "grid_dt.fit(X_train_res, y_train_res)\n",
    "rf = RandomForestClassifier(n_estimators=grid_dt.best_params_['n_estimators'])\n",
    "rf.fit(X_train_res,y_train_res)\n",
    "y_pred = rf.predict(X_test)                \n",
    "scores = cross_val_score(rf, X_test, y_test, cv=5)\n",
    "print \"Accuracy: %0.2f (+/- %0.2f)\\n\" % (scores.mean(), scores.std() * 2)\n",
    "print classification_report(y_test, y_pred)\n",
    "print confusion_matrix(y_test, y_pred)\n",
    "\n"
   ]
  },
  {
   "cell_type": "code",
   "execution_count": 94,
   "metadata": {},
   "outputs": [
    {
     "data": {
      "text/html": [
       "<div>\n",
       "<style>\n",
       "    .dataframe thead tr:only-child th {\n",
       "        text-align: right;\n",
       "    }\n",
       "\n",
       "    .dataframe thead th {\n",
       "        text-align: left;\n",
       "    }\n",
       "\n",
       "    .dataframe tbody tr th {\n",
       "        vertical-align: top;\n",
       "    }\n",
       "</style>\n",
       "<table border=\"1\" class=\"dataframe\">\n",
       "  <thead>\n",
       "    <tr style=\"text-align: right;\">\n",
       "      <th></th>\n",
       "      <th></th>\n",
       "      <th>pred0</th>\n",
       "      <th></th>\n",
       "      <th>pred1</th>\n",
       "      <th>total</th>\n",
       "    </tr>\n",
       "  </thead>\n",
       "  <tbody>\n",
       "    <tr>\n",
       "      <th>corr0</th>\n",
       "      <td>TN</td>\n",
       "      <td>32090</td>\n",
       "      <td>FP</td>\n",
       "      <td>4490</td>\n",
       "      <td>36580</td>\n",
       "    </tr>\n",
       "    <tr>\n",
       "      <th>corr1</th>\n",
       "      <td>FN</td>\n",
       "      <td>814</td>\n",
       "      <td>TP</td>\n",
       "      <td>171</td>\n",
       "      <td>985</td>\n",
       "    </tr>\n",
       "    <tr>\n",
       "      <th>total</th>\n",
       "      <td></td>\n",
       "      <td>32904</td>\n",
       "      <td></td>\n",
       "      <td>4661</td>\n",
       "      <td>37565</td>\n",
       "    </tr>\n",
       "  </tbody>\n",
       "</table>\n",
       "</div>"
      ],
      "text/plain": [
       "           pred0     pred1  total\n",
       "corr0  TN  32090  FP  4490  36580\n",
       "corr1  FN    814  TP   171    985\n",
       "total      32904      4661  37565"
      ]
     },
     "execution_count": 94,
     "metadata": {},
     "output_type": "execute_result"
    }
   ],
   "source": [
    "cm = confusion_matrix(y_test, y_pred)\n",
    "TP = cm[1, 1]\n",
    "TN = cm[0, 0]\n",
    "FP = cm[0, 1]\n",
    "FN = cm[1, 0]\n",
    "tot_a_1 = TN + FP\n",
    "tot_a_2 = FN + TP\n",
    "tot_p_1 = TN + FN\n",
    "tot_p_2 = FP + TP\n",
    "tot_g = tot_a_1+tot_a_2\n",
    "mx =np.array([\"TN\",TN,\"FP\",FP,tot_a_1,\"FN\",FN,\"TP\", TP, tot_a_2,\"\", tot_p_1,\"\", tot_p_2, tot_g]).reshape(3,5)\n",
    "cols = [\" \",\"pred0\", \" \", \"pred1\",  \"total\"]\n",
    "index = [\"corr0\", \"corr1\", \"total\"]\n",
    "cm_df = pd.DataFrame(mx, columns=cols, index=index )\n",
    "cm_df"
   ]
  },
  {
   "cell_type": "code",
   "execution_count": 95,
   "metadata": {},
   "outputs": [
    {
     "data": {
      "text/html": [
       "<div>\n",
       "<style>\n",
       "    .dataframe thead tr:only-child th {\n",
       "        text-align: right;\n",
       "    }\n",
       "\n",
       "    .dataframe thead th {\n",
       "        text-align: left;\n",
       "    }\n",
       "\n",
       "    .dataframe tbody tr th {\n",
       "        vertical-align: top;\n",
       "    }\n",
       "</style>\n",
       "<table border=\"1\" class=\"dataframe\">\n",
       "  <thead>\n",
       "    <tr style=\"text-align: right;\">\n",
       "      <th></th>\n",
       "      <th>Precision on 0</th>\n",
       "      <th>Recall on 1</th>\n",
       "    </tr>\n",
       "  </thead>\n",
       "  <tbody>\n",
       "    <tr>\n",
       "      <th>Random undersampling of majority class</th>\n",
       "      <td>[0.98]</td>\n",
       "      <td>[0.22]</td>\n",
       "    </tr>\n",
       "    <tr>\n",
       "      <th>Near Miss 1</th>\n",
       "      <td>[0.97]</td>\n",
       "      <td>[0.72]</td>\n",
       "    </tr>\n",
       "    <tr>\n",
       "      <th>Near Miss 2</th>\n",
       "      <td>[0.98]</td>\n",
       "      <td>[0.96]</td>\n",
       "    </tr>\n",
       "    <tr>\n",
       "      <th>Near Miss 3</th>\n",
       "      <td>[0.97]</td>\n",
       "      <td>[0.17]</td>\n",
       "    </tr>\n",
       "    <tr>\n",
       "      <th>Tomek link removal</th>\n",
       "      <td>[0.97]</td>\n",
       "      <td>[0.00]</td>\n",
       "    </tr>\n",
       "    <tr>\n",
       "      <th>Edited Nearest Neighbor (ENN)</th>\n",
       "      <td>[0.97]</td>\n",
       "      <td>[0.02]</td>\n",
       "    </tr>\n",
       "    <tr>\n",
       "      <th>Repeated Edited Nearest Neighbor</th>\n",
       "      <td>[0.97]</td>\n",
       "      <td>[0.02]</td>\n",
       "    </tr>\n",
       "    <tr>\n",
       "      <th>Random oversampling of minority class</th>\n",
       "      <td>[0.97]</td>\n",
       "      <td>[0.02]</td>\n",
       "    </tr>\n",
       "    <tr>\n",
       "      <th>Synthetic Minority Oversampling Technique (SMOTE)</th>\n",
       "      <td>[0.98]</td>\n",
       "      <td>[0.17]</td>\n",
       "    </tr>\n",
       "  </tbody>\n",
       "</table>\n",
       "</div>"
      ],
      "text/plain": [
       "                                                  Precision on 0 Recall on 1\n",
       "Random undersampling of majority class                    [0.98]      [0.22]\n",
       "Near Miss 1                                               [0.97]      [0.72]\n",
       "Near Miss 2                                               [0.98]      [0.96]\n",
       "Near Miss 3                                               [0.97]      [0.17]\n",
       "Tomek link removal                                        [0.97]      [0.00]\n",
       "Edited Nearest Neighbor (ENN)                             [0.97]      [0.02]\n",
       "Repeated Edited Nearest Neighbor                          [0.97]      [0.02]\n",
       "Random oversampling of minority class                     [0.97]      [0.02]\n",
       "Synthetic Minority Oversampling Technique (SMOTE)         [0.98]      [0.17]"
      ]
     },
     "execution_count": 95,
     "metadata": {},
     "output_type": "execute_result"
    }
   ],
   "source": [
    "report = classification_report(y_test,y_pred)\n",
    "lines = report.split()\n",
    "cr = []\n",
    "for line in lines:\n",
    "    row_data = line.split()\n",
    "    cr.append(row_data)\n",
    "p_r_.append((cr[5], cr[11]))\n",
    "\n",
    "cols = [\"Precision on 0\", \"Recall on 1\"]\n",
    "index = [n1, n2, n3, n4, n5, n6, n7, n8, n9]\n",
    "report = pd.DataFrame(p_r_, columns=cols, index=index)\n",
    "report"
   ]
  },
  {
   "cell_type": "code",
   "execution_count": 96,
   "metadata": {},
   "outputs": [
    {
     "name": "stderr",
     "output_type": "stream",
     "text": [
      "/Users/anapaulavarejao/anaconda2/lib/python2.7/site-packages/imblearn/combine/smote_tomek.py:174: DeprecationWarning: Parameters initialization will be replaced in version 0.4. Use a SMOTE object instead.\n",
      "  DeprecationWarning)\n",
      "/Users/anapaulavarejao/anaconda2/lib/python2.7/site-packages/imblearn/utils/deprecation.py:50: DeprecationWarning: 'k' is deprecated from 0.2 and will be removed in 0.4. Use 'k_neighbors' instead.\n",
      "  category=DeprecationWarning)\n",
      "/Users/anapaulavarejao/anaconda2/lib/python2.7/site-packages/imblearn/utils/deprecation.py:50: DeprecationWarning: 'm' is deprecated from 0.2 and will be removed in 0.4. Use 'm_neighbors' instead.\n",
      "  category=DeprecationWarning)\n"
     ]
    },
    {
     "name": "stdout",
     "output_type": "stream",
     "text": [
      "Distribution of class labels before resampling Counter({0: 109697, 1: 2995})\n",
      "Distribution of class labels after resampling Counter({0: 101992, 1: 47143})\n"
     ]
    }
   ],
   "source": [
    "n10 = \"SMOTE + Tomek link removal\"\n",
    "os_us = SMOTETomek(ratio=0.5, k=5, random_state=1) \n",
    "X_train_res, y_train_res = os_us.fit_sample(X_train, y_train)\n",
    "print \"Distribution of class labels before resampling {}\".format(Counter(y_train)) \n",
    "print \"Distribution of class labels after resampling {}\".format(Counter(y_train_res))"
   ]
  },
  {
   "cell_type": "code",
   "execution_count": 97,
   "metadata": {},
   "outputs": [
    {
     "name": "stdout",
     "output_type": "stream",
     "text": [
      "Accuracy: 0.97 (+/- 0.00)\n",
      "\n",
      "             precision    recall  f1-score   support\n",
      "\n",
      "          0       0.98      0.88      0.92     36580\n",
      "          1       0.04      0.18      0.06       985\n",
      "\n",
      "avg / total       0.95      0.86      0.90     37565\n",
      "\n",
      "[[32121  4459]\n",
      " [  803   182]]\n"
     ]
    }
   ],
   "source": [
    "#Random Forest\n",
    "n_estimators_range = range(1, 50)\n",
    "param_grid_dt = {}\n",
    "param_grid_dt[\"n_estimators\"] = n_estimators_range\n",
    "grid_dt = GridSearchCV(estimator = RandomForestClassifier(), \n",
    "                        param_grid = param_grid_dt, cv = 5, scoring = \"accuracy\")\n",
    "grid_dt.fit(X_train_res, y_train_res)\n",
    "rf = RandomForestClassifier(n_estimators=grid_dt.best_params_['n_estimators'])\n",
    "rf.fit(X_train_res,y_train_res)\n",
    "y_pred = rf.predict(X_test)                \n",
    "scores = cross_val_score(rf, X_test, y_test, cv=5)\n",
    "print \"Accuracy: %0.2f (+/- %0.2f)\\n\" % (scores.mean(), scores.std() * 2)\n",
    "print classification_report(y_test, y_pred)\n",
    "print confusion_matrix(y_test, y_pred)\n",
    "\n"
   ]
  },
  {
   "cell_type": "code",
   "execution_count": 98,
   "metadata": {},
   "outputs": [
    {
     "data": {
      "text/html": [
       "<div>\n",
       "<style>\n",
       "    .dataframe thead tr:only-child th {\n",
       "        text-align: right;\n",
       "    }\n",
       "\n",
       "    .dataframe thead th {\n",
       "        text-align: left;\n",
       "    }\n",
       "\n",
       "    .dataframe tbody tr th {\n",
       "        vertical-align: top;\n",
       "    }\n",
       "</style>\n",
       "<table border=\"1\" class=\"dataframe\">\n",
       "  <thead>\n",
       "    <tr style=\"text-align: right;\">\n",
       "      <th></th>\n",
       "      <th></th>\n",
       "      <th>pred0</th>\n",
       "      <th></th>\n",
       "      <th>pred1</th>\n",
       "      <th>total</th>\n",
       "    </tr>\n",
       "  </thead>\n",
       "  <tbody>\n",
       "    <tr>\n",
       "      <th>corr0</th>\n",
       "      <td>TN</td>\n",
       "      <td>32121</td>\n",
       "      <td>FP</td>\n",
       "      <td>4459</td>\n",
       "      <td>36580</td>\n",
       "    </tr>\n",
       "    <tr>\n",
       "      <th>corr1</th>\n",
       "      <td>FN</td>\n",
       "      <td>803</td>\n",
       "      <td>TP</td>\n",
       "      <td>182</td>\n",
       "      <td>985</td>\n",
       "    </tr>\n",
       "    <tr>\n",
       "      <th>total</th>\n",
       "      <td></td>\n",
       "      <td>32924</td>\n",
       "      <td></td>\n",
       "      <td>4641</td>\n",
       "      <td>37565</td>\n",
       "    </tr>\n",
       "  </tbody>\n",
       "</table>\n",
       "</div>"
      ],
      "text/plain": [
       "           pred0     pred1  total\n",
       "corr0  TN  32121  FP  4459  36580\n",
       "corr1  FN    803  TP   182    985\n",
       "total      32924      4641  37565"
      ]
     },
     "execution_count": 98,
     "metadata": {},
     "output_type": "execute_result"
    }
   ],
   "source": [
    "cm = confusion_matrix(y_test, y_pred)\n",
    "TP = cm[1, 1]\n",
    "TN = cm[0, 0]\n",
    "FP = cm[0, 1]\n",
    "FN = cm[1, 0]\n",
    "tot_a_1 = TN + FP\n",
    "tot_a_2 = FN + TP\n",
    "tot_p_1 = TN + FN\n",
    "tot_p_2 = FP + TP\n",
    "tot_g = tot_a_1+tot_a_2\n",
    "mx =np.array([\"TN\",TN,\"FP\",FP,tot_a_1,\"FN\",FN,\"TP\", TP, tot_a_2,\"\", tot_p_1,\"\", tot_p_2, tot_g]).reshape(3,5)\n",
    "cols = [\" \",\"pred0\", \" \", \"pred1\",  \"total\"]\n",
    "index = [\"corr0\", \"corr1\", \"total\"]\n",
    "cm_df = pd.DataFrame(mx, columns=cols, index=index )\n",
    "cm_df"
   ]
  },
  {
   "cell_type": "code",
   "execution_count": 99,
   "metadata": {},
   "outputs": [
    {
     "data": {
      "text/html": [
       "<div>\n",
       "<style>\n",
       "    .dataframe thead tr:only-child th {\n",
       "        text-align: right;\n",
       "    }\n",
       "\n",
       "    .dataframe thead th {\n",
       "        text-align: left;\n",
       "    }\n",
       "\n",
       "    .dataframe tbody tr th {\n",
       "        vertical-align: top;\n",
       "    }\n",
       "</style>\n",
       "<table border=\"1\" class=\"dataframe\">\n",
       "  <thead>\n",
       "    <tr style=\"text-align: right;\">\n",
       "      <th></th>\n",
       "      <th>Precision on 0</th>\n",
       "      <th>Recall on 1</th>\n",
       "    </tr>\n",
       "  </thead>\n",
       "  <tbody>\n",
       "    <tr>\n",
       "      <th>Random undersampling of majority class</th>\n",
       "      <td>[0.98]</td>\n",
       "      <td>[0.22]</td>\n",
       "    </tr>\n",
       "    <tr>\n",
       "      <th>Near Miss 1</th>\n",
       "      <td>[0.97]</td>\n",
       "      <td>[0.72]</td>\n",
       "    </tr>\n",
       "    <tr>\n",
       "      <th>Near Miss 2</th>\n",
       "      <td>[0.98]</td>\n",
       "      <td>[0.96]</td>\n",
       "    </tr>\n",
       "    <tr>\n",
       "      <th>Near Miss 3</th>\n",
       "      <td>[0.97]</td>\n",
       "      <td>[0.17]</td>\n",
       "    </tr>\n",
       "    <tr>\n",
       "      <th>Tomek link removal</th>\n",
       "      <td>[0.97]</td>\n",
       "      <td>[0.00]</td>\n",
       "    </tr>\n",
       "    <tr>\n",
       "      <th>Edited Nearest Neighbor (ENN)</th>\n",
       "      <td>[0.97]</td>\n",
       "      <td>[0.02]</td>\n",
       "    </tr>\n",
       "    <tr>\n",
       "      <th>Repeated Edited Nearest Neighbor</th>\n",
       "      <td>[0.97]</td>\n",
       "      <td>[0.02]</td>\n",
       "    </tr>\n",
       "    <tr>\n",
       "      <th>Random oversampling of minority class</th>\n",
       "      <td>[0.97]</td>\n",
       "      <td>[0.02]</td>\n",
       "    </tr>\n",
       "    <tr>\n",
       "      <th>Synthetic Minority Oversampling Technique (SMOTE)</th>\n",
       "      <td>[0.98]</td>\n",
       "      <td>[0.17]</td>\n",
       "    </tr>\n",
       "    <tr>\n",
       "      <th>SMOTE + Tomek link removal</th>\n",
       "      <td>[0.98]</td>\n",
       "      <td>[0.18]</td>\n",
       "    </tr>\n",
       "  </tbody>\n",
       "</table>\n",
       "</div>"
      ],
      "text/plain": [
       "                                                  Precision on 0 Recall on 1\n",
       "Random undersampling of majority class                    [0.98]      [0.22]\n",
       "Near Miss 1                                               [0.97]      [0.72]\n",
       "Near Miss 2                                               [0.98]      [0.96]\n",
       "Near Miss 3                                               [0.97]      [0.17]\n",
       "Tomek link removal                                        [0.97]      [0.00]\n",
       "Edited Nearest Neighbor (ENN)                             [0.97]      [0.02]\n",
       "Repeated Edited Nearest Neighbor                          [0.97]      [0.02]\n",
       "Random oversampling of minority class                     [0.97]      [0.02]\n",
       "Synthetic Minority Oversampling Technique (SMOTE)         [0.98]      [0.17]\n",
       "SMOTE + Tomek link removal                                [0.98]      [0.18]"
      ]
     },
     "execution_count": 99,
     "metadata": {},
     "output_type": "execute_result"
    }
   ],
   "source": [
    "report = classification_report(y_test,y_pred)\n",
    "lines = report.split()\n",
    "cr = []\n",
    "for line in lines:\n",
    "    row_data = line.split()\n",
    "    cr.append(row_data)\n",
    "p_r_.append((cr[5], cr[11]))\n",
    "\n",
    "cols = [\"Precision on 0\", \"Recall on 1\"]\n",
    "index = [n1, n2, n3, n4, n5, n6, n7, n8, n9, n10]\n",
    "report = pd.DataFrame(p_r_, columns=cols, index=index)\n",
    "report"
   ]
  },
  {
   "cell_type": "code",
   "execution_count": 100,
   "metadata": {},
   "outputs": [
    {
     "name": "stderr",
     "output_type": "stream",
     "text": [
      "/Users/anapaulavarejao/anaconda2/lib/python2.7/site-packages/imblearn/combine/smote_enn.py:224: DeprecationWarning: Parameters initialization will be replaced in version 0.4. Use a SMOTE object instead.\n",
      "  DeprecationWarning)\n",
      "/Users/anapaulavarejao/anaconda2/lib/python2.7/site-packages/imblearn/combine/smote_enn.py:251: DeprecationWarning: Parameters initialization will be replaced in version 0.4. Use a ENN object instead.\n",
      "  DeprecationWarning)\n",
      "/Users/anapaulavarejao/anaconda2/lib/python2.7/site-packages/imblearn/utils/deprecation.py:50: DeprecationWarning: 'k' is deprecated from 0.2 and will be removed in 0.4. Use 'k_neighbors' instead.\n",
      "  category=DeprecationWarning)\n",
      "/Users/anapaulavarejao/anaconda2/lib/python2.7/site-packages/imblearn/utils/deprecation.py:50: DeprecationWarning: 'm' is deprecated from 0.2 and will be removed in 0.4. Use 'm_neighbors' instead.\n",
      "  category=DeprecationWarning)\n",
      "/Users/anapaulavarejao/anaconda2/lib/python2.7/site-packages/imblearn/utils/deprecation.py:50: DeprecationWarning: 'size_ngh' is deprecated from 0.2 and will be removed in 0.4. Use 'n_neighbors' instead.\n",
      "  category=DeprecationWarning)\n"
     ]
    },
    {
     "name": "stdout",
     "output_type": "stream",
     "text": [
      "Distribution of class labels before resampling Counter({0: 109697, 1: 2995})\n",
      "Distribution of class labels after resampling Counter({0: 66052, 1: 18171})\n"
     ]
    }
   ],
   "source": [
    "n11 =  \"SMOTE + ENN\"\n",
    "os_us = SMOTEENN(ratio=0.5, k=5, size_ngh=5, random_state=1) \n",
    "X_train_res, y_train_res = os_us.fit_sample(X_train, y_train)\n",
    "print \"Distribution of class labels before resampling {}\".format(Counter(y_train)) \n",
    "print \"Distribution of class labels after resampling {}\".format(Counter(y_train_res))"
   ]
  },
  {
   "cell_type": "code",
   "execution_count": 101,
   "metadata": {},
   "outputs": [
    {
     "name": "stdout",
     "output_type": "stream",
     "text": [
      "Accuracy: 0.97 (+/- 0.00)\n",
      "\n",
      "             precision    recall  f1-score   support\n",
      "\n",
      "          0       0.98      0.89      0.93     36580\n",
      "          1       0.05      0.20      0.08       985\n",
      "\n",
      "avg / total       0.95      0.87      0.91     37565\n",
      "\n",
      "[[32617  3963]\n",
      " [  788   197]]\n"
     ]
    }
   ],
   "source": [
    "#Random Forest\n",
    "n_estimators_range = range(1, 50)\n",
    "param_grid_dt = {}\n",
    "param_grid_dt[\"n_estimators\"] = n_estimators_range\n",
    "grid_dt = GridSearchCV(estimator = RandomForestClassifier(), \n",
    "                        param_grid = param_grid_dt, cv = 5, scoring = \"accuracy\")\n",
    "grid_dt.fit(X_train_res, y_train_res)\n",
    "rf = RandomForestClassifier(n_estimators=grid_dt.best_params_['n_estimators'])\n",
    "rf.fit(X_train_res,y_train_res)\n",
    "y_pred = rf.predict(X_test)                \n",
    "scores = cross_val_score(rf, X_test, y_test, cv=5)\n",
    "print \"Accuracy: %0.2f (+/- %0.2f)\\n\" % (scores.mean(), scores.std() * 2)\n",
    "print classification_report(y_test, y_pred)\n",
    "print confusion_matrix(y_test, y_pred)\n",
    "\n"
   ]
  },
  {
   "cell_type": "code",
   "execution_count": 102,
   "metadata": {},
   "outputs": [
    {
     "data": {
      "text/html": [
       "<div>\n",
       "<style>\n",
       "    .dataframe thead tr:only-child th {\n",
       "        text-align: right;\n",
       "    }\n",
       "\n",
       "    .dataframe thead th {\n",
       "        text-align: left;\n",
       "    }\n",
       "\n",
       "    .dataframe tbody tr th {\n",
       "        vertical-align: top;\n",
       "    }\n",
       "</style>\n",
       "<table border=\"1\" class=\"dataframe\">\n",
       "  <thead>\n",
       "    <tr style=\"text-align: right;\">\n",
       "      <th></th>\n",
       "      <th></th>\n",
       "      <th>pred0</th>\n",
       "      <th></th>\n",
       "      <th>pred1</th>\n",
       "      <th>total</th>\n",
       "    </tr>\n",
       "  </thead>\n",
       "  <tbody>\n",
       "    <tr>\n",
       "      <th>corr0</th>\n",
       "      <td>TN</td>\n",
       "      <td>32617</td>\n",
       "      <td>FP</td>\n",
       "      <td>3963</td>\n",
       "      <td>36580</td>\n",
       "    </tr>\n",
       "    <tr>\n",
       "      <th>corr1</th>\n",
       "      <td>FN</td>\n",
       "      <td>788</td>\n",
       "      <td>TP</td>\n",
       "      <td>197</td>\n",
       "      <td>985</td>\n",
       "    </tr>\n",
       "    <tr>\n",
       "      <th>total</th>\n",
       "      <td></td>\n",
       "      <td>33405</td>\n",
       "      <td></td>\n",
       "      <td>4160</td>\n",
       "      <td>37565</td>\n",
       "    </tr>\n",
       "  </tbody>\n",
       "</table>\n",
       "</div>"
      ],
      "text/plain": [
       "           pred0     pred1  total\n",
       "corr0  TN  32617  FP  3963  36580\n",
       "corr1  FN    788  TP   197    985\n",
       "total      33405      4160  37565"
      ]
     },
     "execution_count": 102,
     "metadata": {},
     "output_type": "execute_result"
    }
   ],
   "source": [
    "cm = confusion_matrix(y_test, y_pred)\n",
    "TP = cm[1, 1]\n",
    "TN = cm[0, 0]\n",
    "FP = cm[0, 1]\n",
    "FN = cm[1, 0]\n",
    "tot_a_1 = TN + FP\n",
    "tot_a_2 = FN + TP\n",
    "tot_p_1 = TN + FN\n",
    "tot_p_2 = FP + TP\n",
    "tot_g = tot_a_1+tot_a_2\n",
    "mx =np.array([\"TN\",TN,\"FP\",FP,tot_a_1,\"FN\",FN,\"TP\", TP, tot_a_2,\"\", tot_p_1,\"\", tot_p_2, tot_g]).reshape(3,5)\n",
    "cols = [\" \",\"pred0\", \" \", \"pred1\",  \"total\"]\n",
    "index = [\"corr0\", \"corr1\", \"total\"]\n",
    "cm_df = pd.DataFrame(mx, columns=cols, index=index )\n",
    "cm_df"
   ]
  },
  {
   "cell_type": "code",
   "execution_count": 103,
   "metadata": {},
   "outputs": [
    {
     "data": {
      "text/html": [
       "<div>\n",
       "<style>\n",
       "    .dataframe thead tr:only-child th {\n",
       "        text-align: right;\n",
       "    }\n",
       "\n",
       "    .dataframe thead th {\n",
       "        text-align: left;\n",
       "    }\n",
       "\n",
       "    .dataframe tbody tr th {\n",
       "        vertical-align: top;\n",
       "    }\n",
       "</style>\n",
       "<table border=\"1\" class=\"dataframe\">\n",
       "  <thead>\n",
       "    <tr style=\"text-align: right;\">\n",
       "      <th></th>\n",
       "      <th>Precision on 0</th>\n",
       "      <th>Recall on 1</th>\n",
       "    </tr>\n",
       "  </thead>\n",
       "  <tbody>\n",
       "    <tr>\n",
       "      <th>Random undersampling of majority class</th>\n",
       "      <td>[0.98]</td>\n",
       "      <td>[0.22]</td>\n",
       "    </tr>\n",
       "    <tr>\n",
       "      <th>Near Miss 1</th>\n",
       "      <td>[0.97]</td>\n",
       "      <td>[0.72]</td>\n",
       "    </tr>\n",
       "    <tr>\n",
       "      <th>Near Miss 2</th>\n",
       "      <td>[0.98]</td>\n",
       "      <td>[0.96]</td>\n",
       "    </tr>\n",
       "    <tr>\n",
       "      <th>Near Miss 3</th>\n",
       "      <td>[0.97]</td>\n",
       "      <td>[0.17]</td>\n",
       "    </tr>\n",
       "    <tr>\n",
       "      <th>Tomek link removal</th>\n",
       "      <td>[0.97]</td>\n",
       "      <td>[0.00]</td>\n",
       "    </tr>\n",
       "    <tr>\n",
       "      <th>Edited Nearest Neighbor (ENN)</th>\n",
       "      <td>[0.97]</td>\n",
       "      <td>[0.02]</td>\n",
       "    </tr>\n",
       "    <tr>\n",
       "      <th>Repeated Edited Nearest Neighbor</th>\n",
       "      <td>[0.97]</td>\n",
       "      <td>[0.02]</td>\n",
       "    </tr>\n",
       "    <tr>\n",
       "      <th>Random oversampling of minority class</th>\n",
       "      <td>[0.97]</td>\n",
       "      <td>[0.02]</td>\n",
       "    </tr>\n",
       "    <tr>\n",
       "      <th>Synthetic Minority Oversampling Technique (SMOTE)</th>\n",
       "      <td>[0.98]</td>\n",
       "      <td>[0.17]</td>\n",
       "    </tr>\n",
       "    <tr>\n",
       "      <th>SMOTE + Tomek link removal</th>\n",
       "      <td>[0.98]</td>\n",
       "      <td>[0.18]</td>\n",
       "    </tr>\n",
       "    <tr>\n",
       "      <th>SMOTE + ENN</th>\n",
       "      <td>[0.98]</td>\n",
       "      <td>[0.20]</td>\n",
       "    </tr>\n",
       "  </tbody>\n",
       "</table>\n",
       "</div>"
      ],
      "text/plain": [
       "                                                  Precision on 0 Recall on 1\n",
       "Random undersampling of majority class                    [0.98]      [0.22]\n",
       "Near Miss 1                                               [0.97]      [0.72]\n",
       "Near Miss 2                                               [0.98]      [0.96]\n",
       "Near Miss 3                                               [0.97]      [0.17]\n",
       "Tomek link removal                                        [0.97]      [0.00]\n",
       "Edited Nearest Neighbor (ENN)                             [0.97]      [0.02]\n",
       "Repeated Edited Nearest Neighbor                          [0.97]      [0.02]\n",
       "Random oversampling of minority class                     [0.97]      [0.02]\n",
       "Synthetic Minority Oversampling Technique (SMOTE)         [0.98]      [0.17]\n",
       "SMOTE + Tomek link removal                                [0.98]      [0.18]\n",
       "SMOTE + ENN                                               [0.98]      [0.20]"
      ]
     },
     "execution_count": 103,
     "metadata": {},
     "output_type": "execute_result"
    }
   ],
   "source": [
    "report = classification_report(y_test,y_pred)\n",
    "lines = report.split()\n",
    "cr = []\n",
    "for line in lines:\n",
    "    row_data = line.split()\n",
    "    cr.append(row_data)\n",
    "p_r_.append((cr[5], cr[11]))\n",
    "\n",
    "cols = [\"Precision on 0\", \"Recall on 1\"]\n",
    "index = [n1, n2, n3, n4, n5, n6, n7, n8, n9, n10, n11]\n",
    "report = pd.DataFrame(p_r_, columns=cols, index=index)\n",
    "report"
   ]
  },
  {
   "cell_type": "markdown",
   "metadata": {
    "collapsed": true
   },
   "source": [
    "## Best Performance: Near Miss 2 + Random Forest Classifier"
   ]
  },
  {
   "cell_type": "code",
   "execution_count": 105,
   "metadata": {},
   "outputs": [
    {
     "name": "stderr",
     "output_type": "stream",
     "text": [
      "/Users/anapaulavarejao/anaconda2/lib/python2.7/site-packages/imblearn/utils/deprecation.py:50: DeprecationWarning: 'size_ngh' is deprecated from 0.2 and will be removed in 0.4. Use 'n_neighbors' instead.\n",
      "  category=DeprecationWarning)\n"
     ]
    },
    {
     "name": "stdout",
     "output_type": "stream",
     "text": [
      "Distribution of class labels before resampling Counter({0: 109697, 1: 2995})\n",
      "Distribution of class labels after resampling Counter({0: 5990, 1: 2995})\n"
     ]
    }
   ],
   "source": [
    "# Near Miss 2\n",
    "us = NearMiss(ratio=0.5, size_ngh=3, version=2, random_state=1) \n",
    "X_train_res, y_train_res = us.fit_sample(X_train, y_train)\n",
    "print \"Distribution of class labels before resampling {}\".format(Counter(y_train)) \n",
    "print \"Distribution of class labels after resampling {}\".format(Counter(y_train_res))"
   ]
  },
  {
   "cell_type": "code",
   "execution_count": 106,
   "metadata": {},
   "outputs": [
    {
     "name": "stdout",
     "output_type": "stream",
     "text": [
      "Accuracy: 0.9718 (+/- 0.00)\n",
      "\n",
      "             precision    recall  f1-score   support\n",
      "\n",
      "          0       0.98      0.07      0.12     36580\n",
      "          1       0.03      0.96      0.05       985\n",
      "\n",
      "avg / total       0.96      0.09      0.12     37565\n",
      "\n",
      "[[ 2441 34139]\n",
      " [   43   942]]\n"
     ]
    }
   ],
   "source": [
    "#Random Forest\n",
    "n_estimators_range = range(1, 50)\n",
    "param_grid_dt = {}\n",
    "param_grid_dt[\"n_estimators\"] = n_estimators_range\n",
    "grid_dt = GridSearchCV(estimator = RandomForestClassifier(), \n",
    "                        param_grid = param_grid_dt, cv = 5, scoring = \"accuracy\")\n",
    "grid_dt.fit(X_train_res, y_train_res)\n",
    "rf = RandomForestClassifier(n_estimators=grid_dt.best_params_['n_estimators'])\n",
    "rf.fit(X_train_res,y_train_res)\n",
    "y_pred = rf.predict(X_test)                \n",
    "scores = cross_val_score(rf, X_test, y_test, cv=5)\n",
    "print \"Accuracy: %0.4f (+/- %0.2f)\\n\" % (scores.mean(), scores.std() * 2)\n",
    "print classification_report(y_test, y_pred)\n",
    "print confusion_matrix(y_test, y_pred)"
   ]
  },
  {
   "cell_type": "code",
   "execution_count": 107,
   "metadata": {},
   "outputs": [
    {
     "data": {
      "text/html": [
       "<div>\n",
       "<style>\n",
       "    .dataframe thead tr:only-child th {\n",
       "        text-align: right;\n",
       "    }\n",
       "\n",
       "    .dataframe thead th {\n",
       "        text-align: left;\n",
       "    }\n",
       "\n",
       "    .dataframe tbody tr th {\n",
       "        vertical-align: top;\n",
       "    }\n",
       "</style>\n",
       "<table border=\"1\" class=\"dataframe\">\n",
       "  <thead>\n",
       "    <tr style=\"text-align: right;\">\n",
       "      <th></th>\n",
       "      <th></th>\n",
       "      <th>pred0</th>\n",
       "      <th></th>\n",
       "      <th>pred1</th>\n",
       "      <th>total</th>\n",
       "    </tr>\n",
       "  </thead>\n",
       "  <tbody>\n",
       "    <tr>\n",
       "      <th>corr0</th>\n",
       "      <td>TN</td>\n",
       "      <td>2441</td>\n",
       "      <td>FP</td>\n",
       "      <td>34139</td>\n",
       "      <td>36580</td>\n",
       "    </tr>\n",
       "    <tr>\n",
       "      <th>corr1</th>\n",
       "      <td>FN</td>\n",
       "      <td>43</td>\n",
       "      <td>TP</td>\n",
       "      <td>942</td>\n",
       "      <td>985</td>\n",
       "    </tr>\n",
       "    <tr>\n",
       "      <th>total</th>\n",
       "      <td></td>\n",
       "      <td>2484</td>\n",
       "      <td></td>\n",
       "      <td>35081</td>\n",
       "      <td>37565</td>\n",
       "    </tr>\n",
       "  </tbody>\n",
       "</table>\n",
       "</div>"
      ],
      "text/plain": [
       "          pred0      pred1  total\n",
       "corr0  TN  2441  FP  34139  36580\n",
       "corr1  FN    43  TP    942    985\n",
       "total      2484      35081  37565"
      ]
     },
     "execution_count": 107,
     "metadata": {},
     "output_type": "execute_result"
    }
   ],
   "source": [
    "cm = confusion_matrix(y_test, y_pred)\n",
    "TP = cm[1, 1]\n",
    "TN = cm[0, 0]\n",
    "FP = cm[0, 1]\n",
    "FN = cm[1, 0]\n",
    "tot_a_1 = TN + FP\n",
    "tot_a_2 = FN + TP\n",
    "tot_p_1 = TN + FN\n",
    "tot_p_2 = FP + TP\n",
    "tot_g = tot_a_1+tot_a_2\n",
    "mx =np.array([\"TN\",TN,\"FP\",FP,tot_a_1,\"FN\",FN,\"TP\", TP, tot_a_2,\"\", tot_p_1,\"\", tot_p_2, tot_g]).reshape(3,5)\n",
    "cols = [\" \",\"pred0\", \" \", \"pred1\",  \"total\"]\n",
    "index = [\"corr0\", \"corr1\", \"total\"]\n",
    "cm_df = pd.DataFrame(mx, columns=cols, index=index )\n",
    "cm_df"
   ]
  },
  {
   "cell_type": "markdown",
   "metadata": {
    "collapsed": true
   },
   "source": [
    "## CONCLUSION"
   ]
  },
  {
   "cell_type": "markdown",
   "metadata": {
    "collapsed": true
   },
   "source": [
    "In this notebook I showed some resampling techniques to improve classification performance on the minority class in the presence of data imbalance. I presented the performance of several methods on a dataset in terms of precision on the majority class and recall on the minority class.<br>\n",
    "On our dataset, with respect to our chosen metric, the methods Near Miss 2 in combination with a Random Forest Classifier give the best performance. <br>\n",
    "However, depending on the data distribution, the presence of class imbalance, the choice of classifier used on resampled datasets may yield better results."
   ]
  },
  {
   "cell_type": "code",
   "execution_count": null,
   "metadata": {
    "collapsed": true
   },
   "outputs": [],
   "source": []
  },
  {
   "cell_type": "code",
   "execution_count": null,
   "metadata": {
    "collapsed": true
   },
   "outputs": [],
   "source": []
  },
  {
   "cell_type": "code",
   "execution_count": null,
   "metadata": {
    "collapsed": true
   },
   "outputs": [],
   "source": []
  },
  {
   "cell_type": "code",
   "execution_count": null,
   "metadata": {
    "collapsed": true
   },
   "outputs": [],
   "source": []
  }
 ],
 "metadata": {
  "kernelspec": {
   "display_name": "Python 2",
   "language": "python",
   "name": "python2"
  },
  "language_info": {
   "codemirror_mode": {
    "name": "ipython",
    "version": 2
   },
   "file_extension": ".py",
   "mimetype": "text/x-python",
   "name": "python",
   "nbconvert_exporter": "python",
   "pygments_lexer": "ipython2",
   "version": "2.7.14"
  }
 },
 "nbformat": 4,
 "nbformat_minor": 2
}
